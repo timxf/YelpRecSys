{
 "cells": [
  {
   "cell_type": "markdown",
   "metadata": {
    "collapsed": false
   },
   "source": [
    "### Content-Based Filtering (text)\n",
    "\n",
    "\n",
    "This notebook contains part 2 of the content-based filtering using text review. Frist, we extract information from text and mapping into features for each reviews. Then use cosine to measure the distance of between review and recommend users based on most simialr reviews.  "
   ]
  },
  {
   "cell_type": "code",
   "execution_count": 43,
   "metadata": {
    "collapsed": true
   },
   "outputs": [],
   "source": [
    "import pandas as pd\n",
    "import numpy as np\n",
    "import re \n",
    "from nltk.corpus import stopwords\n",
    "from sklearn.metrics import roc_curve, auc\n",
    "from sklearn.linear_model import SGDClassifier\n",
    "from sklearn.feature_extraction.text import CountVectorizer\n",
    "from gensim import corpora, models, similarities\n",
    "from sklearn.feature_extraction.text import TfidfTransformer\n",
    "\n",
    "%matplotlib inline"
   ]
  },
  {
   "cell_type": "code",
   "execution_count": 3,
   "metadata": {
    "collapsed": false
   },
   "outputs": [],
   "source": [
    "review = pd.read_csv(\"review.csv\")"
   ]
  },
  {
   "cell_type": "code",
   "execution_count": 4,
   "metadata": {
    "collapsed": false
   },
   "outputs": [
    {
     "data": {
      "text/html": [
       "<div>\n",
       "<table border=\"1\" class=\"dataframe\">\n",
       "  <thead>\n",
       "    <tr style=\"text-align: right;\">\n",
       "      <th></th>\n",
       "      <th>user_id</th>\n",
       "      <th>review_id</th>\n",
       "      <th>text</th>\n",
       "      <th>votes.cool</th>\n",
       "      <th>business_id</th>\n",
       "      <th>votes.funny</th>\n",
       "      <th>stars</th>\n",
       "      <th>date</th>\n",
       "      <th>type</th>\n",
       "      <th>votes.useful</th>\n",
       "    </tr>\n",
       "  </thead>\n",
       "  <tbody>\n",
       "    <tr>\n",
       "      <th>0</th>\n",
       "      <td>Xqd0DzHaiyRqVH3WRG7hzg</td>\n",
       "      <td>15SdjuK7DmYqUAj6rjGowg</td>\n",
       "      <td>dr. goldberg offers everything i look for in a...</td>\n",
       "      <td>1</td>\n",
       "      <td>vcNAWiLM4dR7D2nwwJ7nCA</td>\n",
       "      <td>0</td>\n",
       "      <td>5</td>\n",
       "      <td>2007-05-17</td>\n",
       "      <td>review</td>\n",
       "      <td>2</td>\n",
       "    </tr>\n",
       "    <tr>\n",
       "      <th>1</th>\n",
       "      <td>H1kH6QZV7Le4zqTRNxoZow</td>\n",
       "      <td>RF6UnRTtG7tWMcrO2GEoAg</td>\n",
       "      <td>Unfortunately, the frustration of being Dr. Go...</td>\n",
       "      <td>0</td>\n",
       "      <td>vcNAWiLM4dR7D2nwwJ7nCA</td>\n",
       "      <td>0</td>\n",
       "      <td>2</td>\n",
       "      <td>2010-03-22</td>\n",
       "      <td>review</td>\n",
       "      <td>2</td>\n",
       "    </tr>\n",
       "  </tbody>\n",
       "</table>\n",
       "</div>"
      ],
      "text/plain": [
       "                  user_id               review_id  \\\n",
       "0  Xqd0DzHaiyRqVH3WRG7hzg  15SdjuK7DmYqUAj6rjGowg   \n",
       "1  H1kH6QZV7Le4zqTRNxoZow  RF6UnRTtG7tWMcrO2GEoAg   \n",
       "\n",
       "                                                text  votes.cool  \\\n",
       "0  dr. goldberg offers everything i look for in a...           1   \n",
       "1  Unfortunately, the frustration of being Dr. Go...           0   \n",
       "\n",
       "              business_id  votes.funny  stars        date    type  \\\n",
       "0  vcNAWiLM4dR7D2nwwJ7nCA            0      5  2007-05-17  review   \n",
       "1  vcNAWiLM4dR7D2nwwJ7nCA            0      2  2010-03-22  review   \n",
       "\n",
       "   votes.useful  \n",
       "0             2  \n",
       "1             2  "
      ]
     },
     "execution_count": 4,
     "metadata": {},
     "output_type": "execute_result"
    }
   ],
   "source": [
    "review.head(2)"
   ]
  },
  {
   "cell_type": "code",
   "execution_count": 5,
   "metadata": {
    "collapsed": false
   },
   "outputs": [
    {
     "data": {
      "text/plain": [
       "0    dr. goldberg offers everything i look for in a...\n",
       "1    Unfortunately, the frustration of being Dr. Go...\n",
       "2    Dr. Goldberg has been my doctor for years and ...\n",
       "3    Been going to Dr. Goldberg for over 10 years. ...\n",
       "4    Got a letter in the mail last week that said D...\n",
       "Name: text, dtype: object"
      ]
     },
     "execution_count": 5,
     "metadata": {},
     "output_type": "execute_result"
    }
   ],
   "source": [
    "review.text[:5]"
   ]
  },
  {
   "cell_type": "code",
   "execution_count": 6,
   "metadata": {
    "collapsed": false
   },
   "outputs": [],
   "source": [
    "rest = pd.read_pickle('rest.csv')\n",
    "rest_text = pd.merge(rest, review, on = 'business_id', )"
   ]
  },
  {
   "cell_type": "code",
   "execution_count": 7,
   "metadata": {
    "collapsed": false
   },
   "outputs": [
    {
     "data": {
      "text/html": [
       "<div>\n",
       "<table border=\"1\" class=\"dataframe\">\n",
       "  <thead>\n",
       "    <tr style=\"text-align: right;\">\n",
       "      <th></th>\n",
       "      <th>city</th>\n",
       "      <th>categories</th>\n",
       "      <th>business_id</th>\n",
       "      <th>name</th>\n",
       "      <th>user_id</th>\n",
       "      <th>review_id</th>\n",
       "      <th>text</th>\n",
       "      <th>votes.cool</th>\n",
       "      <th>votes.funny</th>\n",
       "      <th>stars</th>\n",
       "      <th>date</th>\n",
       "      <th>type</th>\n",
       "      <th>votes.useful</th>\n",
       "    </tr>\n",
       "  </thead>\n",
       "  <tbody>\n",
       "    <tr>\n",
       "      <th>0</th>\n",
       "      <td>Las Vegas</td>\n",
       "      <td>['Wine Bars', 'Bars', 'Restaurants', 'Nightlif...</td>\n",
       "      <td>_SM8UKIwBNbmj1r629ipoQ</td>\n",
       "      <td>Chianti Cafe</td>\n",
       "      <td>RZwkUvViHYEh5Z65--cVZw</td>\n",
       "      <td>q63uf05O8LJjjPiv8YqMLg</td>\n",
       "      <td>I like Chianti, the outdoor seating area is ni...</td>\n",
       "      <td>3</td>\n",
       "      <td>1</td>\n",
       "      <td>4</td>\n",
       "      <td>2008-01-27</td>\n",
       "      <td>review</td>\n",
       "      <td>3</td>\n",
       "    </tr>\n",
       "    <tr>\n",
       "      <th>1</th>\n",
       "      <td>Las Vegas</td>\n",
       "      <td>['Wine Bars', 'Bars', 'Restaurants', 'Nightlif...</td>\n",
       "      <td>_SM8UKIwBNbmj1r629ipoQ</td>\n",
       "      <td>Chianti Cafe</td>\n",
       "      <td>mW0l2ZhDeAAgjXPz_x2qRQ</td>\n",
       "      <td>FDTrDJbM-MSzVNsx2d5b7A</td>\n",
       "      <td>My wife and I went to Chianti for our annivers...</td>\n",
       "      <td>1</td>\n",
       "      <td>0</td>\n",
       "      <td>4</td>\n",
       "      <td>2008-08-13</td>\n",
       "      <td>review</td>\n",
       "      <td>0</td>\n",
       "    </tr>\n",
       "  </tbody>\n",
       "</table>\n",
       "</div>"
      ],
      "text/plain": [
       "        city                                         categories  \\\n",
       "0  Las Vegas  ['Wine Bars', 'Bars', 'Restaurants', 'Nightlif...   \n",
       "1  Las Vegas  ['Wine Bars', 'Bars', 'Restaurants', 'Nightlif...   \n",
       "\n",
       "              business_id          name                 user_id  \\\n",
       "0  _SM8UKIwBNbmj1r629ipoQ  Chianti Cafe  RZwkUvViHYEh5Z65--cVZw   \n",
       "1  _SM8UKIwBNbmj1r629ipoQ  Chianti Cafe  mW0l2ZhDeAAgjXPz_x2qRQ   \n",
       "\n",
       "                review_id                                               text  \\\n",
       "0  q63uf05O8LJjjPiv8YqMLg  I like Chianti, the outdoor seating area is ni...   \n",
       "1  FDTrDJbM-MSzVNsx2d5b7A  My wife and I went to Chianti for our annivers...   \n",
       "\n",
       "   votes.cool  votes.funny  stars        date    type  votes.useful  \n",
       "0           3            1      4  2008-01-27  review             3  \n",
       "1           1            0      4  2008-08-13  review             0  "
      ]
     },
     "execution_count": 7,
     "metadata": {},
     "output_type": "execute_result"
    }
   ],
   "source": [
    "rest_text.head(2)"
   ]
  },
  {
   "cell_type": "code",
   "execution_count": 8,
   "metadata": {
    "collapsed": true
   },
   "outputs": [],
   "source": [
    "text = rest_text.text"
   ]
  },
  {
   "cell_type": "code",
   "execution_count": 9,
   "metadata": {
    "collapsed": false
   },
   "outputs": [
    {
     "data": {
      "text/plain": [
       "190789"
      ]
     },
     "execution_count": 9,
     "metadata": {},
     "output_type": "execute_result"
    }
   ],
   "source": [
    "len(text)"
   ]
  },
  {
   "cell_type": "code",
   "execution_count": 10,
   "metadata": {
    "collapsed": false
   },
   "outputs": [],
   "source": [
    "def review_to_words(review):\n",
    "    \"\"\"\n",
    "    Convert a raw review to a string of words.\n",
    "    Input: a single string of words\n",
    "    Output: a single string of preprocessed review\n",
    "    \"\"\"\n",
    "    \n",
    "    # 1. Remove non-letters\n",
    "    letters_only = re.sub(\"[^a-zA-Z]\", \" \", review) \n",
    "    \n",
    "    # 2.Convert to lower case, split into individual words\n",
    "    words = letters_only.lower().split()\n",
    "    \n",
    "    # 3. remove stop words\n",
    "    stops = set(stopwords.words(\"english\")) \n",
    "    meaningful_words = [w for w in words if not w in stops]\n",
    "    \n",
    "    # Returen a list of words into a string separated by space. \n",
    "    return( \" \".join( meaningful_words ))   "
   ]
  },
  {
   "cell_type": "code",
   "execution_count": 11,
   "metadata": {
    "collapsed": false
   },
   "outputs": [
    {
     "data": {
      "text/plain": [
       "'like chianti outdoor seating area nice spring fall inside typifies average las vegas dinner spot staff attentive entrees tasty liked beef carpaccio appetizer well nice simple pasta dishes pizzas cioppino surprisingly pretty good although tomato broth little overwhelming seafood obviously coastal fresh bread crostini horrible ala white wonder bread decent wine list less helpful staff regard overall would recommend spot anyone stranded vegas craving bowl cioppino p know better spot cioppino vegas please let know'"
      ]
     },
     "execution_count": 11,
     "metadata": {},
     "output_type": "execute_result"
    }
   ],
   "source": [
    "review_to_words(text[0])"
   ]
  },
  {
   "cell_type": "code",
   "execution_count": 13,
   "metadata": {
    "collapsed": false
   },
   "outputs": [
    {
     "name": "stdout",
     "output_type": "stream",
     "text": [
      "Cleaning review 50000 of 190789\n",
      "\n",
      "Cleaning review 100000 of 190789\n",
      "\n",
      "Cleaning review 150000 of 190789\n",
      "\n"
     ]
    }
   ],
   "source": [
    "# Initialize an empty list to hold the clean reviews\n",
    "clean_train_reviews = []\n",
    "\n",
    "# Loop over each review; create an index i that goes from 0 to the length\n",
    "# of the movie review list \n",
    "for i in xrange( 0, len(text)):\n",
    "    # If the index is evenly divisible by 50000, print a message\n",
    "    if( (i+1)%50000 == 0 ):\n",
    "        print \"Cleaning review %d of %d\\n\" % ( i+1, len(text))                                                             \n",
    "  \n",
    "    # Call our function for each one, and add the result to the list of\n",
    "    # clean reviews\n",
    "    try:\n",
    "        clean_train_reviews.append( review_to_words( text[i] ) )\n",
    "    except Exception as e:\n",
    "        clean_train_reviews.append( review_to_words(\"I'm a placeholder sentence.\"))\n",
    "        print \"Execption raised:\", e"
   ]
  },
  {
   "cell_type": "code",
   "execution_count": 14,
   "metadata": {
    "collapsed": false
   },
   "outputs": [
    {
     "data": {
      "text/plain": [
       "['like chianti outdoor seating area nice spring fall inside typifies average las vegas dinner spot staff attentive entrees tasty liked beef carpaccio appetizer well nice simple pasta dishes pizzas cioppino surprisingly pretty good although tomato broth little overwhelming seafood obviously coastal fresh bread crostini horrible ala white wonder bread decent wine list less helpful staff regard overall would recommend spot anyone stranded vegas craving bowl cioppino p know better spot cioppino vegas please let know']"
      ]
     },
     "execution_count": 14,
     "metadata": {},
     "output_type": "execute_result"
    }
   ],
   "source": [
    "clean_train_reviews[:1]"
   ]
  },
  {
   "cell_type": "code",
   "execution_count": 15,
   "metadata": {
    "collapsed": false
   },
   "outputs": [],
   "source": [
    "vectorizer = CountVectorizer(analyzer = \"word\",   \\\n",
    "                             tokenizer = None,    \\\n",
    "                             preprocessor = None, \\\n",
    "                             stop_words = None,   \\\n",
    "                             max_features = 5000) \n",
    "train_data_features = vectorizer.fit_transform(clean_train_reviews)"
   ]
  },
  {
   "cell_type": "code",
   "execution_count": 16,
   "metadata": {
    "collapsed": false
   },
   "outputs": [
    {
     "name": "stdout",
     "output_type": "stream",
     "text": [
      "[u'abc', u'ability', u'able', u'absolute', u'absolutely', u'abundance', u'accent', u'accept', u'acceptable', u'accepted', u'access', u'accessible', u'accident', u'accidentally', u'accommodate', u'accommodated', u'accommodating', u'accomodating', u'accompanied', u'accompaniment', u'accompany', u'accompanying', u'according', u'accordingly', u'account', u'accurate', u'acknowledge', u'acknowledged', u'across', u'act', u'acted', u'action', u'actual', u'actually', u'ad', u'add', u'added', u'addicted', u'addicting', u'addictive', u'adding', u'addition', u'additional', u'additionally', u'address', u'adds', u'adequate', u'adjacent', u'admit', u'admittedly']\n"
     ]
    }
   ],
   "source": [
    "vocab = vectorizer.get_feature_names()\n",
    "print vocab[:50]"
   ]
  },
  {
   "cell_type": "code",
   "execution_count": 17,
   "metadata": {
    "collapsed": false
   },
   "outputs": [
    {
     "name": "stdout",
     "output_type": "stream",
     "text": [
      "abc 190\n",
      "ability 189\n",
      "able 5594\n",
      "absolute 1210\n",
      "absolutely 6995\n",
      "abundance 236\n",
      "accent 370\n",
      "accept 483\n",
      "acceptable 576\n",
      "accepted 211\n"
     ]
    }
   ],
   "source": [
    "dist = np.sum(train_data_features.toarray(), axis=0)\n",
    "\n",
    "for tag, count in zip(vocab, dist)[:10]:\n",
    "    print tag, count"
   ]
  },
  {
   "cell_type": "code",
   "execution_count": 19,
   "metadata": {
    "collapsed": false
   },
   "outputs": [
    {
     "name": "stdout",
     "output_type": "stream",
     "text": [
      "Inverse Document Freq: [ 8.23167494  7.92782001  4.60174579 ...,  8.10268282  7.92248666\n",
      "  6.79935476]\n"
     ]
    }
   ],
   "source": [
    "tfidf = TfidfTransformer(norm=u'l2')\n",
    "tfidf.fit(train_data_features)\n",
    "\n",
    "print \"Inverse Document Freq:\", tfidf.idf_"
   ]
  },
  {
   "cell_type": "code",
   "execution_count": 20,
   "metadata": {
    "collapsed": false
   },
   "outputs": [
    {
     "name": "stdout",
     "output_type": "stream",
     "text": [
      "[[ 0.  0.  0. ...,  0.  0.  0.]\n",
      " [ 0.  0.  0. ...,  0.  0.  0.]\n",
      " [ 0.  0.  0. ...,  0.  0.  0.]\n",
      " ..., \n",
      " [ 0.  0.  0. ...,  0.  0.  0.]\n",
      " [ 0.  0.  0. ...,  0.  0.  0.]\n",
      " [ 0.  0.  0. ...,  0.  0.  0.]]\n"
     ]
    }
   ],
   "source": [
    "tf_idf_matrix = tfidf.transform(train_data_features)\n",
    "print tf_idf_matrix.todense()"
   ]
  },
  {
   "cell_type": "code",
   "execution_count": 21,
   "metadata": {
    "collapsed": false
   },
   "outputs": [
    {
     "data": {
      "text/plain": [
       "array([[ 1.        ,  0.05036309,  0.06800091, ...,  0.00873643,\n",
       "         0.11325085,  0.04328023]])"
      ]
     },
     "execution_count": 21,
     "metadata": {},
     "output_type": "execute_result"
    }
   ],
   "source": [
    "from sklearn.metrics.pairwise import cosine_similarity\n",
    "#print tf_idf_matrix\n",
    "cosine_similarity(tf_idf_matrix[0:1], tf_idf_matrix)"
   ]
  },
  {
   "cell_type": "code",
   "execution_count": 22,
   "metadata": {
    "collapsed": false
   },
   "outputs": [
    {
     "data": {
      "text/plain": [
       "(190789, 5000)"
      ]
     },
     "execution_count": 22,
     "metadata": {},
     "output_type": "execute_result"
    }
   ],
   "source": [
    "tf_idf_matrix.shape"
   ]
  },
  {
   "cell_type": "code",
   "execution_count": 23,
   "metadata": {
    "collapsed": false
   },
   "outputs": [
    {
     "data": {
      "text/plain": [
       "array([ 1.        ,  0.05036309,  0.06800091, ...,  0.00873643,\n",
       "        0.11325085,  0.04328023])"
      ]
     },
     "execution_count": 23,
     "metadata": {},
     "output_type": "execute_result"
    }
   ],
   "source": [
    "from sklearn.metrics.pairwise import linear_kernel\n",
    "cosine_similarities = linear_kernel(tf_idf_matrix[0:1], tf_idf_matrix).flatten()\n",
    "cosine_similarities "
   ]
  },
  {
   "cell_type": "code",
   "execution_count": 24,
   "metadata": {
    "collapsed": false
   },
   "outputs": [
    {
     "data": {
      "text/plain": [
       "array([     0, 134085,  36686,  41471,  65589,  50718,  50241, 173645,\n",
       "        65724])"
      ]
     },
     "execution_count": 24,
     "metadata": {},
     "output_type": "execute_result"
    }
   ],
   "source": [
    "related_docs_indices = cosine_similarities.argsort()[:-10:-1]\n",
    "related_docs_indices"
   ]
  },
  {
   "cell_type": "code",
   "execution_count": 25,
   "metadata": {
    "collapsed": false
   },
   "outputs": [
    {
     "data": {
      "text/plain": [
       "array([ 1.        ,  0.44495272,  0.43169436,  0.3601242 ,  0.34221723,\n",
       "        0.33880715,  0.32793478,  0.32531392,  0.31616053])"
      ]
     },
     "execution_count": 25,
     "metadata": {},
     "output_type": "execute_result"
    }
   ],
   "source": [
    "cosine_similarities[related_docs_indices]"
   ]
  },
  {
   "cell_type": "code",
   "execution_count": 26,
   "metadata": {
    "collapsed": false
   },
   "outputs": [
    {
     "data": {
      "text/plain": [
       "'I like Chianti, the outdoor seating area is nice during the spring and fall, while the inside typifies an average Las Vegas dinner spot. The staff is attentive. Entrees are tasty, I liked the beef carpaccio appetizer, as well as the nice, simple pasta dishes and pizzas, and the cioppino is (surprisingly) pretty good too (although the tomato broth is a little overwhelming and the seafood is obviously not coastal fresh). The bread/crostini is horrible (ala white Wonder Bread). Decent wine list, but less than helpful staff in that regard. Overall, I would recommend this spot to anyone stranded in Vegas and craving a bowl of cioppino (p.s., if you know of a better spot for cioppino in Vegas please let me know).'"
      ]
     },
     "execution_count": 26,
     "metadata": {},
     "output_type": "execute_result"
    }
   ],
   "source": [
    "text[0]"
   ]
  },
  {
   "cell_type": "code",
   "execution_count": 27,
   "metadata": {
    "collapsed": false
   },
   "outputs": [
    {
     "data": {
      "text/plain": [
       "'Had the Cioppino and it was great!  Service was very good too.  I would go back again.'"
      ]
     },
     "execution_count": 27,
     "metadata": {},
     "output_type": "execute_result"
    }
   ],
   "source": [
    "text[134085]"
   ]
  },
  {
   "cell_type": "code",
   "execution_count": 28,
   "metadata": {
    "collapsed": false
   },
   "outputs": [
    {
     "data": {
      "text/plain": [
       "\"We went to a Christmas Eve Dinner with the family and I was let down hard! The Cioppino that I ordered for $50 was far from average. I've had a great cioppino and was not even worthy being called cioppino. The broth was like it was out of a can and the seafood was fishy (not fresh), more like frozen crap. Let's just say the entire dinner was a 1 star rating. The bill was over $500 and for what? I expected so much better. A big let down!!!\""
      ]
     },
     "execution_count": 28,
     "metadata": {},
     "output_type": "execute_result"
    }
   ],
   "source": [
    "text[36686]"
   ]
  },
  {
   "cell_type": "code",
   "execution_count": 29,
   "metadata": {
    "collapsed": false
   },
   "outputs": [
    {
     "data": {
      "text/plain": [
       "\"Can't say enough about this place.  Had dinner here on 5/11/13, and it was wonderful. Try the Cioppino, it is Excellent.\""
      ]
     },
     "execution_count": 29,
     "metadata": {},
     "output_type": "execute_result"
    }
   ],
   "source": [
    "text[41471]"
   ]
  },
  {
   "cell_type": "code",
   "execution_count": 30,
   "metadata": {
    "collapsed": false
   },
   "outputs": [
    {
     "data": {
      "text/plain": [
       "'Nobu is always perfect.'"
      ]
     },
     "execution_count": 30,
     "metadata": {},
     "output_type": "execute_result"
    }
   ],
   "source": [
    "text[52209]"
   ]
  },
  {
   "cell_type": "code",
   "execution_count": 31,
   "metadata": {
    "collapsed": false
   },
   "outputs": [
    {
     "data": {
      "text/plain": [
       "'I purchased a Groupon ($45 for two dinner entrees and a 12oz carafe of wine) for this place and decided it give it a try.  We arrived on a Monday night without reservations, and were promptly seated.  The staff was very friendly and accommodating. I ordered the Cioppino, and my sweetie had the Diver Scallops. My Cioppino was delicious!  Lots of seafood, and the pasta was perfectly al dente. The Diver Scallops were wonderful and super tender. Overall: good food, good service. Thanks Groupon!'"
      ]
     },
     "execution_count": 31,
     "metadata": {},
     "output_type": "execute_result"
    }
   ],
   "source": [
    "text[65724]"
   ]
  },
  {
   "cell_type": "code",
   "execution_count": 32,
   "metadata": {
    "collapsed": false
   },
   "outputs": [],
   "source": [
    "user = \"RZwkUvViHYEh5Z65--cVZw\"\n",
    "rvs_ind = rest_text.ix[(rest_text.user_id == user) & (rest_text.stars >= 4)].index.tolist()"
   ]
  },
  {
   "cell_type": "code",
   "execution_count": 33,
   "metadata": {
    "collapsed": false
   },
   "outputs": [
    {
     "name": "stdout",
     "output_type": "stream",
     "text": [
      "[134085, 36686, 41471, 65589, 50718, 50241, 173645, 65724, 65635, 84327, 84072, 156948, 65758, 65661, 134291, 75323, 92454, 16023, 31022, 40784, 97364, 97410, 169473, 31083, 40845, 27177, 30762, 169644, 30882, 40557, 169812, 40770, 186374, 40432, 3000, 30828, 186343, 27182, 154472, 30762, 31115, 40780, 27119, 169419, 169752, 97410, 40631, 169838, 169473, 2935, 186355, 31083, 40756, 27132, 3963, 4602, 4001, 4513, 4218, 107522, 3649, 4201, 4088, 4054, 4092, 3899, 4019, 4214, 124897, 4085, 3969, 3746, 138001, 8636, 35272, 60249, 60254, 148570, 8359, 7049, 8424, 8459, 148702, 11743, 8556, 33677, 8024, 8590, 108616, 8449, 189447, 13424, 33059, 24714, 123662, 81559, 25417, 24572, 32797, 117658, 125817, 176495, 24432, 143815, 24717, 22792, 111046, 58616, 115443, 41604, 42964, 150558, 41602, 115965, 7538, 7520, 129435, 115971, 114822, 105567, 141328, 151156, 7517, 4694, 119813, 118604, 59792, 9421, 59249, 59780, 59520, 59625, 59767, 59519, 59506, 9441, 59764, 59195, 9426, 59811, 59732, 179992, 59300, 59165, 106893, 190411, 106949, 147142, 139061, 106956, 106879, 106914, 139030, 179189, 188131, 106929, 106178, 15026, 28829, 139027, 185776, 139039, 34796, 34769, 130274, 34858, 130276, 130362, 34780, 34838, 34805, 130286, 34775, 136306, 34762, 130324, 34811, 34828, 152486, 34774, 17089, 75229, 26444, 112497, 184930, 147097, 58054, 132792, 151231, 132769, 41792, 98832, 185255, 5447, 185218, 185236, 185108, 23919]\n"
     ]
    }
   ],
   "source": [
    "ind = []\n",
    "for i in range(len(rvs_ind)):\n",
    "    cosine_similarities = linear_kernel(tf_idf_matrix[rvs_ind[i]], tf_idf_matrix).flatten()\n",
    "    related_docs_indices = cosine_similarities.argsort()[:-20:-1].tolist()\n",
    "    inds = filter(lambda x: x != rvs_ind[i], related_docs_indices)\n",
    "    ind = ind + inds\n",
    "print ind"
   ]
  },
  {
   "cell_type": "code",
   "execution_count": 34,
   "metadata": {
    "collapsed": false
   },
   "outputs": [
    {
     "data": {
      "text/plain": [
       "array(['Buzios Seafood Restaurant', 'Panevino Restaurant', 'Casa Di Amore',\n",
       "       'RM Seafood', 'Mesa Grill', 'Pasta Pirate', 'Triple George Grill',\n",
       "       'Mezzo Bistro and Wine', \"Don Vito's\", \"Maggiano's Little Italy\",\n",
       "       'Vintner Grill', 'Fiesta Filipina', 'India Palace',\n",
       "       'Mint Indian Bistro', 'Mantra Masala',\n",
       "       \"Mount Everest India's Cuisine\", \"Gandhi India's Cuisine\",\n",
       "       'India Masala', 'Samosa Factory', 'Bollywood Grill Indian Cusine',\n",
       "       'Ichiza', 'Del Taco', \"Dick's Last Resort\", \"Joe's New York Pizza\",\n",
       "       'Luv-It Frozen Custard', 'The Hush Puppy', \"Tiffany's Cafe\",\n",
       "       'Lemongrass Caf\\xc3\\xa9', 'Blueberry Hill Family Restaurant',\n",
       "       \"Roberto's Taco Shop\", 'Maverick Truck Stop', 'White Cross Drugs',\n",
       "       \"Angelina's Pizzeria\", 'Godiva Chocolatier #909',\n",
       "       \"Smith's Food & Drug Centers Inc\", 'Eiffel Tower Restaurant',\n",
       "       'Spago', \"Binion's Ranch Steak House\", 'Il Mulino New York',\n",
       "       'Circo', \"Ethel's Chocolate Lounge\", \"Fellini's Ristorante\",\n",
       "       'Khotan', 'Twin Creeks', 'Sushi 21', 'Vosges Haut Chocolat',\n",
       "       'Shibuya', 'Panaderia Y Pasteria Latina',\n",
       "       'Albinas Italian American Bakery', 'Great Buns Bakery',\n",
       "       \"Montesano's Eateria\", 'Crown Bakery', 'Sunville Bakery',\n",
       "       \"Valerio's Tropical Bake Shop\", \"Nielsen's Frozen Custard\",\n",
       "       \"Freed's Bakery\", \"L'Epidor Bakery\", 'Bonjour Bakery & Deli',\n",
       "       'Diamond Bakery', \"Rolling In Dough Bakery - Leopold's Cakery\",\n",
       "       'The Bagel Cafe', 'Hofbrauhaus - Las Vegas',\n",
       "       'Cafe Heidelberg German Market & Restaurant', \"Pink's Hot Dogs\",\n",
       "       'Sababa', \"Yanni's Gyros\", 'BLT Burger', 'Amena Bakery & Deli',\n",
       "       'Mad Pita Express', 'Afandi Restaurant and Market',\n",
       "       'Shucks Tavern & Oyster Bar', \"Sultan's Grill\", 'Haifa Restaurant',\n",
       "       'Baguette Cafe', 'Go Raw Cafe', 'Fresh & Easy',\n",
       "       'Whole Foods Market', 'Starbucks', \"Cozymel's Mexican Grill\",\n",
       "       \"Joe's Seafood Prime Steak & Stone Crab\", 'Herbs & Rye',\n",
       "       'Le Cirque', 'Pamplemousse Le Restaurant', \"Gina's Bistro\",\n",
       "       'Yoshinoya', 'Golden Steer', \"Piero's Italian Cuisine\"], dtype=object)"
      ]
     },
     "execution_count": 34,
     "metadata": {},
     "output_type": "execute_result"
    }
   ],
   "source": [
    "rest = rest_text.ix[ind].name.unique()\n",
    "rest"
   ]
  },
  {
   "cell_type": "code",
   "execution_count": 35,
   "metadata": {
    "collapsed": false
   },
   "outputs": [
    {
     "data": {
      "text/plain": [
       "['Chianti Cafe',\n",
       " 'Samosa Factory',\n",
       " 'India Oven',\n",
       " 'Ichiza',\n",
       " 'White Cross Drugs',\n",
       " 'Spago',\n",
       " 'Albinas Italian American Bakery',\n",
       " 'Swiss Cafe Restaurant',\n",
       " 'Baladie Caf\\xc3\\xa9',\n",
       " 'Go Raw Cafe',\n",
       " 'Pamplemousse Le Restaurant']"
      ]
     },
     "execution_count": 35,
     "metadata": {},
     "output_type": "execute_result"
    }
   ],
   "source": [
    "rest_went = rest_text.ix[rvs_ind].name.tolist()\n",
    "rest_went"
   ]
  },
  {
   "cell_type": "code",
   "execution_count": 36,
   "metadata": {
    "collapsed": false
   },
   "outputs": [
    {
     "data": {
      "text/plain": [
       "['Buzios Seafood Restaurant',\n",
       " 'Panevino Restaurant',\n",
       " 'Casa Di Amore',\n",
       " 'RM Seafood',\n",
       " 'Mesa Grill',\n",
       " 'Pasta Pirate',\n",
       " 'Triple George Grill',\n",
       " 'Mezzo Bistro and Wine',\n",
       " \"Don Vito's\",\n",
       " \"Maggiano's Little Italy\",\n",
       " 'Vintner Grill',\n",
       " 'Fiesta Filipina',\n",
       " 'India Palace',\n",
       " 'Mint Indian Bistro',\n",
       " 'Mantra Masala',\n",
       " \"Mount Everest India's Cuisine\",\n",
       " \"Gandhi India's Cuisine\",\n",
       " 'India Masala',\n",
       " 'Bollywood Grill Indian Cusine',\n",
       " 'Del Taco',\n",
       " \"Dick's Last Resort\",\n",
       " \"Joe's New York Pizza\",\n",
       " 'Luv-It Frozen Custard',\n",
       " 'The Hush Puppy',\n",
       " \"Tiffany's Cafe\",\n",
       " 'Lemongrass Caf\\xc3\\xa9',\n",
       " 'Blueberry Hill Family Restaurant',\n",
       " \"Roberto's Taco Shop\",\n",
       " 'Maverick Truck Stop',\n",
       " \"Angelina's Pizzeria\",\n",
       " 'Godiva Chocolatier #909',\n",
       " \"Smith's Food & Drug Centers Inc\",\n",
       " 'Eiffel Tower Restaurant',\n",
       " \"Binion's Ranch Steak House\",\n",
       " 'Il Mulino New York',\n",
       " 'Circo',\n",
       " \"Ethel's Chocolate Lounge\",\n",
       " \"Fellini's Ristorante\",\n",
       " 'Khotan',\n",
       " 'Twin Creeks',\n",
       " 'Sushi 21',\n",
       " 'Vosges Haut Chocolat',\n",
       " 'Shibuya',\n",
       " 'Panaderia Y Pasteria Latina',\n",
       " 'Great Buns Bakery',\n",
       " \"Montesano's Eateria\",\n",
       " 'Crown Bakery',\n",
       " 'Sunville Bakery',\n",
       " \"Valerio's Tropical Bake Shop\",\n",
       " \"Nielsen's Frozen Custard\",\n",
       " \"Freed's Bakery\",\n",
       " \"L'Epidor Bakery\",\n",
       " 'Bonjour Bakery & Deli',\n",
       " 'Diamond Bakery',\n",
       " \"Rolling In Dough Bakery - Leopold's Cakery\",\n",
       " 'The Bagel Cafe',\n",
       " 'Hofbrauhaus - Las Vegas',\n",
       " 'Cafe Heidelberg German Market & Restaurant',\n",
       " \"Pink's Hot Dogs\",\n",
       " 'Sababa',\n",
       " \"Yanni's Gyros\",\n",
       " 'BLT Burger',\n",
       " 'Amena Bakery & Deli',\n",
       " 'Mad Pita Express',\n",
       " 'Afandi Restaurant and Market',\n",
       " 'Shucks Tavern & Oyster Bar',\n",
       " \"Sultan's Grill\",\n",
       " 'Haifa Restaurant',\n",
       " 'Baguette Cafe',\n",
       " 'Fresh & Easy',\n",
       " 'Whole Foods Market',\n",
       " 'Starbucks',\n",
       " \"Cozymel's Mexican Grill\",\n",
       " \"Joe's Seafood Prime Steak & Stone Crab\",\n",
       " 'Herbs & Rye',\n",
       " 'Le Cirque',\n",
       " \"Gina's Bistro\",\n",
       " 'Yoshinoya',\n",
       " 'Golden Steer',\n",
       " \"Piero's Italian Cuisine\"]"
      ]
     },
     "execution_count": 36,
     "metadata": {},
     "output_type": "execute_result"
    }
   ],
   "source": [
    "rest = rest_text.ix[ind].name.unique()\n",
    "rest_went = rest_text.ix[rvs_ind].name.tolist()\n",
    "rec_rest = filter(lambda x: x not in rest_went, rest)\n",
    "rec_rest"
   ]
  },
  {
   "cell_type": "code",
   "execution_count": 44,
   "metadata": {
    "collapsed": false
   },
   "outputs": [],
   "source": [
    "def try_dif_rest(ind,rvs_ind):\n",
    "    rest = rest_text.ix[ind].name.unique()\n",
    "    rest_went = rest_text.ix[rvs_ind].name.tolist()\n",
    "    rec_rest = filter(lambda x: x not in rest_went, rest)\n",
    "    return rec_rest"
   ]
  },
  {
   "cell_type": "code",
   "execution_count": 45,
   "metadata": {
    "collapsed": false
   },
   "outputs": [],
   "source": [
    "def make_recommedation(user):\n",
    "    \"\"\"\n",
    "    Function: make recommedations for user with user_id with most similar reviews\n",
    "    Input: user_id\n",
    "    Output: restaurants from most similar reviews\n",
    "    \"\"\"\n",
    "    \n",
    "    rvs_ind = rest_text.ix[(rest_text.user_id == user) & (rest_text.stars >= 4)].index.tolist()\n",
    "    went_ind = rest_text.ix[(rest_text.user_id == user)].index.tolist()\n",
    "   \n",
    "    if len(rvs_ind) == 0:\n",
    "        return str(\"Not enought information!!\")\n",
    "    else:\n",
    "        ind = []\n",
    "        for i in range(len(rvs_ind)):\n",
    "            cosine_similarities = linear_kernel(tf_idf_matrix[rvs_ind[i]], tf_idf_matrix).flatten()\n",
    "            related_docs_indices = cosine_similarities.argsort()[:-15:-1].tolist()\n",
    "            inds = filter(lambda x: x != went_ind, related_docs_indices)\n",
    "            ind = ind + inds\n",
    "            \n",
    "        return try_dif_rest(ind,went_ind)    "
   ]
  },
  {
   "cell_type": "code",
   "execution_count": 46,
   "metadata": {
    "collapsed": false
   },
   "outputs": [
    {
     "name": "stdout",
     "output_type": "stream",
     "text": [
      "User YnKPH9_dPUsHUA99-Y1mwQ\n",
      "Already Liked: Havana Grill\n",
      "Recommended: Cuba Cafe Restaurant, Kona Grill, RA Sushi Bar Restaurant, Rincon Criollo, Metro Pizza\n",
      "\n",
      "User SE0Sckp7UwlS6SlGuj5FAw\n",
      "Already Liked: Ronald's Donuts, Lotus of Siam, Tom Colicchio's Craftsteak, Bouchon Bistro, Bouchon Bistro, Canter's Delicatessen, Carnevino, Scarpetta\n",
      "Recommended: Dessert Avenue, Lemongrass, Ocha Cuisine, Komol Restaurant, Pin Kaow Thai Restaurant, Thai Room, Island Flavor, Thai Style Noodle House, Daniel Boulud Brasserie, Pinot Brasserie, Sweet Water Prime Seafood, Montana Meat Company, Delmonico Steakhouse, Serendipity 3, Planet Dailies, Blueberry Hill Family Restaurant, The Cracked Egg, Pho Kim Long, Olive Garden Italian Restaurant, Wichcraft, Earl of Sandwich, Greenberg's Deli, Mr Tofu, Deli Den, Quiznos, Society Cafe Encore, Fleur by Hubert Keller, STRIPSTEAK, Del Frisco's Double Eagle Steak House, Gallagher's Steakhouse, The Range Steakhouse, Wendy's Noodle Cafe, T-Bones Chophouse, Charlie Palmer Steak, Smith & Wollensky, Rosemary's Restaurant, Kokomo's Steak & Seafood, Lupo, The Melting Pot, DJT, Mastro's Ocean Club, Payard Pâtisserie & Bistro, Marrakech Moroccan Restaurant, Andrea's World of Cakes\n",
      "\n",
      "User SwqhvXTAVUrGMxQBlyn8vQ\n",
      "Already Liked: Bartolotta Ristorante di Mare, The Coffee Bean & Tea Leaf\n",
      "Recommended: Dona Maria Tamales Restaurant, Original Lindo Michoacan, Jimmy John's, Yayo Taco, Yellowtail, Famous Dave's, Rincon De Buenos Aires, Tropical Smoothie Cafe, Mantra Masala, Ocha Cuisine, Cinnabon, Makino LV, Pho Kim Long, McDonald's, Dunkin' Donuts, Sunrise Coffee, Cafe Belle Madeleine, Subway\n",
      "\n",
      "User oZ1HUhiwazVZsu7nXS_FlA\n",
      "Already Liked: Cugino's Italian Deli, Raku\n",
      "Recommended: Hofbrauhaus - Las Vegas, Earl of Sandwich, Sofia's Pizza, Kobe Sushi Bistro, Lola's, Pho Thanh Huong, Harrie's Bagelmania, Xtreme Sushi, Heidi's Brooklyn Deli, Claim Jumper, Augustus Cafe, Poppy's Frozen Yogurt, TC's Rib Crib\n",
      "\n",
      "User kxkUKUvm-AGf8Ao3A9i_Sw\n",
      "Already Liked: Bartolotta Ristorante di Mare, Picasso\n",
      "Recommended: Tom Colicchio's Craftsteak, Poppy's Frozen Yogurt, Delmonico Steakhouse, Mastro's Ocean Club, Emeril's New Orleans Fish House, Shibuya, Eiffel Tower Restaurant, Tao Asian Bistro, Sergio's Italian Gardens, Mezzo Bistro and Wine, Bouchon Bistro, Marrakech Moroccan Restaurant, Fleur by Hubert Keller, The Cupcakery, Spago, Nora's Cuisine, Nothing Bundt Cakes, Godiva Chocolatier #909, Payard Pâtisserie & Bistro, Serendipity 3\n",
      "\n"
     ]
    }
   ],
   "source": [
    "n_users = 5\n",
    "\n",
    "for user in np.random.choice(rest_text.user_id, n_users, replace=False):\n",
    "    print \"User %s\" % user\n",
    "    print \"Already Liked:\", \", \".join(rest_text.ix[(rest_text.user_id == user) & (rest_text.stars >= 4)].name.tolist())\n",
    "    print \"Recommended:\", \", \".join(make_recommedation(user))\n",
    "    print\n",
    " "
   ]
  }
 ],
 "metadata": {
  "kernelspec": {
   "display_name": "Python 2",
   "language": "python",
   "name": "python2"
  },
  "language_info": {
   "codemirror_mode": {
    "name": "ipython",
    "version": 2
   },
   "file_extension": ".py",
   "mimetype": "text/x-python",
   "name": "python",
   "nbconvert_exporter": "python",
   "pygments_lexer": "ipython2",
   "version": "2.7.10"
  }
 },
 "nbformat": 4,
 "nbformat_minor": 0
}
