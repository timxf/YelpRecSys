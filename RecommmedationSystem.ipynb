{
 "cells": [
  {
   "cell_type": "markdown",
   "metadata": {},
   "source": [
    "# Project: Recommendation System for Yelp Users\n",
    "\n",
    "## Aim: \n",
    "### The purpose of this project is create a recommendation system based on user's review text and star ratings for restaurants in Las Vegas with the data provided by Yelp Data Challenge.\n",
    "\n",
    "## Data: \n",
    "\n",
    "### There are 2.7 reviews, 86K businesses, 649K reviews 10 cities across 4 countries. https://www.yelp.com/dataset_challenge/dataset\n",
    "\n",
    "## Methods:\n",
    "\n",
    "### Content-based filtering:\n",
    "A. Mapping restaurants and reviewers into a feature space and compute distance between restaurants and reviwers using dot products. And predict rating with linear model.\n",
    "\n",
    "B. Mapping review texts into feature space and recommed restaurant with similar text reviews to reviews.\n",
    "\n",
    "### Collaborative filtering:\n",
    "A. Item-based: Compute similarity between restaurants, recommend restaurants most similar to reviewer's item.\n",
    "\n",
    "B. Model-based: Use restaurant categories to create latent variables in the rating data. Ratings are comoputed by dot products of users & items vectors in the latent feature space."
   ]
  },
  {
   "cell_type": "code",
   "execution_count": 1,
   "metadata": {
    "collapsed": false
   },
   "outputs": [
    {
     "name": "stderr",
     "output_type": "stream",
     "text": [
      "/Users/xftim/anaconda/lib/python2.7/site-packages/matplotlib/__init__.py:872: UserWarning: axes.color_cycle is deprecated and replaced with axes.prop_cycle; please use the latter.\n",
      "  warnings.warn(self.msg_depr % (key, alt_key))\n",
      "/Users/xftim/anaconda/lib/python2.7/site-packages/sklearn/cross_validation.py:44: DeprecationWarning: This module was deprecated in version 0.18 in favor of the model_selection module into which all the refactored classes and functions are moved. Also note that the interface of the new CV iterators are different from that of this module. This module will be removed in 0.20.\n",
      "  \"This module will be removed in 0.20.\", DeprecationWarning)\n"
     ]
    }
   ],
   "source": [
    "import json_to_csv_converter as jc\n",
    "import numpy as np\n",
    "import pandas as pd\n",
    "import seaborn as sb\n",
    "import re\n",
    "\n",
    "from patsy import dmatrix\n",
    "from matplotlib import pyplot as plt\n",
    "from nltk.corpus import stopwords\n",
    "from sklearn.metrics import roc_curve, auc\n",
    "from sklearn.linear_model import SGDClassifier\n",
    "from gensim import corpora, models, similarities\n",
    "from sklearn.feature_extraction.text import CountVectorizer\n",
    "from sklearn.feature_extraction.text import TfidfTransformer\n",
    "from sklearn.linear_model import LinearRegression, Lasso, Ridge\n",
    "from sklearn.cross_validation import cross_val_score, train_test_split\n",
    "\n",
    "%matplotlib inline"
   ]
  },
  {
   "cell_type": "markdown",
   "metadata": {},
   "source": [
    "### Data Preprocessing\n",
    "Convert JSON data to csv files"
   ]
  },
  {
   "cell_type": "code",
   "execution_count": 2,
   "metadata": {
    "collapsed": true
   },
   "outputs": [],
   "source": [
    "business_path = 'yelp_dataset_challenge_academic_dataset/yelp_academic_dataset_business.json'\n",
    "business_cols = jc.get_superset_of_column_names_from_file(business_path)\n",
    "jc.read_and_write_file(business_path, \"business.csv\", column_names = business_cols)\n",
    "review_path = 'yelp_dataset_challenge_academic_dataset/yelp_academic_dataset_review.json'\n",
    "review_cols = jc.get_superset_of_column_names_from_file(review_path)\n",
    "jc.read_and_write_file(review_path, \"review.csv\", review_cols)\n",
    "user_path = 'yelp_dataset_challenge_academic_dataset/yelp_academic_dataset_user.json'\n",
    "user_cols = jc.get_superset_of_column_names_from_file(user_path)\n",
    "jc.read_and_write_file(user_path, \"user.csv\", user_cols)"
   ]
  },
  {
   "cell_type": "markdown",
   "metadata": {},
   "source": [
    "Read csv files"
   ]
  },
  {
   "cell_type": "code",
   "execution_count": 4,
   "metadata": {
    "collapsed": false
   },
   "outputs": [
    {
     "name": "stderr",
     "output_type": "stream",
     "text": [
      "/Users/xftim/anaconda/lib/python2.7/site-packages/IPython/core/interactiveshell.py:2723: DtypeWarning: Columns (1,4,7,17,26,29,49,60,62,79,86,94) have mixed types. Specify dtype option on import or set low_memory=False.\n",
      "  interactivity=interactivity, compiler=compiler, result=result)\n"
     ]
    },
    {
     "name": "stdout",
     "output_type": "stream",
     "text": [
      "85901\n",
      "2685066\n",
      "686556\n"
     ]
    }
   ],
   "source": [
    "business = pd.read_csv(\"business.csv\")\n",
    "review = pd.read_csv(\"review.csv\")\n",
    "user = pd.read_csv(\"user.csv\")\n",
    "\n",
    "\n",
    "print len(business)\n",
    "print len(review)\n",
    "print len(user)"
   ]
  },
  {
   "cell_type": "markdown",
   "metadata": {},
   "source": [
    "The business dataset contains 86K observations, the review dataset contains 2.6M observarions, and the user dataset contains 69K observations."
   ]
  },
  {
   "cell_type": "code",
   "execution_count": 6,
   "metadata": {
    "collapsed": false
   },
   "outputs": [],
   "source": [
    "#print business.columns.tolist()\n",
    "#print business['categories'].unique()\n",
    "#print business.city.unique()"
   ]
  },
  {
   "cell_type": "markdown",
   "metadata": {},
   "source": [
    "Extract 'city','categories','business_id', and 'name' from business dataset. Choose restaurants that are only in Las Vegas."
   ]
  },
  {
   "cell_type": "code",
   "execution_count": 61,
   "metadata": {
    "collapsed": false
   },
   "outputs": [],
   "source": [
    "business_df = business[['city','categories','business_id', 'name']]\n",
    "business_df = business_df.dropna()\n",
    "business_df['InVegas'] = business_df['city'].map(lambda x: x in 'Las Vegas')\n",
    "business_df = business_df[(business_df['InVegas'] == True)]\n",
    "business_df = business_df.reset_index(drop = True)"
   ]
  },
  {
   "cell_type": "code",
   "execution_count": 77,
   "metadata": {
    "collapsed": true
   },
   "outputs": [],
   "source": [
    "ind = []\n",
    "for i in range(0, len(business_df.categories)):\n",
    "    if 'Food' in business_df.categories[i] or 'Restaurants' in business_df.categories[i] \\\n",
    "    or 'Bar' in business_df.categories[i]:\n",
    "        ind.append(i)      \n",
    "\n",
    "rest = business_df.iloc[ind]"
   ]
  },
  {
   "cell_type": "code",
   "execution_count": 78,
   "metadata": {
    "collapsed": false
   },
   "outputs": [
    {
     "data": {
      "text/plain": [
       "7014"
      ]
     },
     "execution_count": 78,
     "metadata": {},
     "output_type": "execute_result"
    }
   ],
   "source": [
    "len(rest)"
   ]
  },
  {
   "cell_type": "markdown",
   "metadata": {},
   "source": [
    "There are a total of 7014 resturants in Las Vegas"
   ]
  },
  {
   "cell_type": "code",
   "execution_count": 79,
   "metadata": {
    "collapsed": false
   },
   "outputs": [
    {
     "data": {
      "text/html": [
       "<div>\n",
       "<table border=\"1\" class=\"dataframe\">\n",
       "  <thead>\n",
       "    <tr style=\"text-align: right;\">\n",
       "      <th></th>\n",
       "      <th>city</th>\n",
       "      <th>categories</th>\n",
       "      <th>business_id</th>\n",
       "      <th>name</th>\n",
       "      <th>InVegas</th>\n",
       "    </tr>\n",
       "  </thead>\n",
       "  <tbody>\n",
       "    <tr>\n",
       "      <th>7</th>\n",
       "      <td>Las Vegas</td>\n",
       "      <td>['Wine Bars', 'Bars', 'Restaurants', 'Nightlif...</td>\n",
       "      <td>_SM8UKIwBNbmj1r629ipoQ</td>\n",
       "      <td>Chianti Cafe</td>\n",
       "      <td>True</td>\n",
       "    </tr>\n",
       "    <tr>\n",
       "      <th>17</th>\n",
       "      <td>Las Vegas</td>\n",
       "      <td>['Korean', 'Fish &amp; Chips', 'Chinese', 'Restaur...</td>\n",
       "      <td>aJMhN4fdsARaJCw-dGvNGw</td>\n",
       "      <td>USS Fish N Chips</td>\n",
       "      <td>True</td>\n",
       "    </tr>\n",
       "  </tbody>\n",
       "</table>\n",
       "</div>"
      ],
      "text/plain": [
       "         city                                         categories  \\\n",
       "7   Las Vegas  ['Wine Bars', 'Bars', 'Restaurants', 'Nightlif...   \n",
       "17  Las Vegas  ['Korean', 'Fish & Chips', 'Chinese', 'Restaur...   \n",
       "\n",
       "               business_id              name InVegas  \n",
       "7   _SM8UKIwBNbmj1r629ipoQ      Chianti Cafe    True  \n",
       "17  aJMhN4fdsARaJCw-dGvNGw  USS Fish N Chips    True  "
      ]
     },
     "execution_count": 79,
     "metadata": {},
     "output_type": "execute_result"
    }
   ],
   "source": [
    "rest.head(2)"
   ]
  },
  {
   "cell_type": "markdown",
   "metadata": {},
   "source": [
    "\n",
    "Extract 'user_id','stars','business_id' from review dataset."
   ]
  },
  {
   "cell_type": "code",
   "execution_count": 82,
   "metadata": {
    "collapsed": false
   },
   "outputs": [
    {
     "data": {
      "text/html": [
       "<div>\n",
       "<table border=\"1\" class=\"dataframe\">\n",
       "  <thead>\n",
       "    <tr style=\"text-align: right;\">\n",
       "      <th></th>\n",
       "      <th>user_id</th>\n",
       "      <th>review_id</th>\n",
       "      <th>text</th>\n",
       "      <th>votes.cool</th>\n",
       "      <th>business_id</th>\n",
       "      <th>votes.funny</th>\n",
       "      <th>stars</th>\n",
       "      <th>date</th>\n",
       "      <th>type</th>\n",
       "      <th>votes.useful</th>\n",
       "    </tr>\n",
       "  </thead>\n",
       "  <tbody>\n",
       "    <tr>\n",
       "      <th>0</th>\n",
       "      <td>PUFPaY9KxDAcGqfsorJp3Q</td>\n",
       "      <td>Ya85v4eqdd6k9Od8HbQjyA</td>\n",
       "      <td>Mr Hoagie is an institution. Walking in, it do...</td>\n",
       "      <td>0</td>\n",
       "      <td>5UmKMjUEUNdYWqANhGckJw</td>\n",
       "      <td>0</td>\n",
       "      <td>4</td>\n",
       "      <td>2012-08-01</td>\n",
       "      <td>review</td>\n",
       "      <td>0</td>\n",
       "    </tr>\n",
       "    <tr>\n",
       "      <th>1</th>\n",
       "      <td>Iu6AxdBYGR4A0wspR9BYHA</td>\n",
       "      <td>KPvLNJ21_4wbYNctrOwWdQ</td>\n",
       "      <td>Excellent food. Superb customer service. I mis...</td>\n",
       "      <td>0</td>\n",
       "      <td>5UmKMjUEUNdYWqANhGckJw</td>\n",
       "      <td>0</td>\n",
       "      <td>5</td>\n",
       "      <td>2014-02-13</td>\n",
       "      <td>review</td>\n",
       "      <td>0</td>\n",
       "    </tr>\n",
       "  </tbody>\n",
       "</table>\n",
       "</div>"
      ],
      "text/plain": [
       "                  user_id               review_id  \\\n",
       "0  PUFPaY9KxDAcGqfsorJp3Q  Ya85v4eqdd6k9Od8HbQjyA   \n",
       "1  Iu6AxdBYGR4A0wspR9BYHA  KPvLNJ21_4wbYNctrOwWdQ   \n",
       "\n",
       "                                                text  votes.cool  \\\n",
       "0  Mr Hoagie is an institution. Walking in, it do...           0   \n",
       "1  Excellent food. Superb customer service. I mis...           0   \n",
       "\n",
       "              business_id  votes.funny  stars        date    type  \\\n",
       "0  5UmKMjUEUNdYWqANhGckJw            0      4  2012-08-01  review   \n",
       "1  5UmKMjUEUNdYWqANhGckJw            0      5  2014-02-13  review   \n",
       "\n",
       "   votes.useful  \n",
       "0             0  \n",
       "1             0  "
      ]
     },
     "execution_count": 82,
     "metadata": {},
     "output_type": "execute_result"
    }
   ],
   "source": [
    "review.head(2)"
   ]
  },
  {
   "cell_type": "code",
   "execution_count": 83,
   "metadata": {
    "collapsed": true
   },
   "outputs": [],
   "source": [
    "rvws = review[['user_id','stars','business_id']]"
   ]
  },
  {
   "cell_type": "markdown",
   "metadata": {},
   "source": [
    "Merge business dataset and review dataset on the buiness id.\n"
   ]
  },
  {
   "cell_type": "code",
   "execution_count": 84,
   "metadata": {
    "collapsed": false
   },
   "outputs": [
    {
     "data": {
      "text/html": [
       "<div>\n",
       "<table border=\"1\" class=\"dataframe\">\n",
       "  <thead>\n",
       "    <tr style=\"text-align: right;\">\n",
       "      <th></th>\n",
       "      <th>city</th>\n",
       "      <th>categories</th>\n",
       "      <th>business_id</th>\n",
       "      <th>name</th>\n",
       "      <th>InVegas</th>\n",
       "      <th>user_id</th>\n",
       "      <th>stars</th>\n",
       "    </tr>\n",
       "  </thead>\n",
       "  <tbody>\n",
       "    <tr>\n",
       "      <th>0</th>\n",
       "      <td>Las Vegas</td>\n",
       "      <td>['Wine Bars', 'Bars', 'Restaurants', 'Nightlif...</td>\n",
       "      <td>_SM8UKIwBNbmj1r629ipoQ</td>\n",
       "      <td>Chianti Cafe</td>\n",
       "      <td>True</td>\n",
       "      <td>RZwkUvViHYEh5Z65--cVZw</td>\n",
       "      <td>4</td>\n",
       "    </tr>\n",
       "    <tr>\n",
       "      <th>1</th>\n",
       "      <td>Las Vegas</td>\n",
       "      <td>['Wine Bars', 'Bars', 'Restaurants', 'Nightlif...</td>\n",
       "      <td>_SM8UKIwBNbmj1r629ipoQ</td>\n",
       "      <td>Chianti Cafe</td>\n",
       "      <td>True</td>\n",
       "      <td>mW0l2ZhDeAAgjXPz_x2qRQ</td>\n",
       "      <td>4</td>\n",
       "    </tr>\n",
       "  </tbody>\n",
       "</table>\n",
       "</div>"
      ],
      "text/plain": [
       "        city                                         categories  \\\n",
       "0  Las Vegas  ['Wine Bars', 'Bars', 'Restaurants', 'Nightlif...   \n",
       "1  Las Vegas  ['Wine Bars', 'Bars', 'Restaurants', 'Nightlif...   \n",
       "\n",
       "              business_id          name InVegas                 user_id  stars  \n",
       "0  _SM8UKIwBNbmj1r629ipoQ  Chianti Cafe    True  RZwkUvViHYEh5Z65--cVZw      4  \n",
       "1  _SM8UKIwBNbmj1r629ipoQ  Chianti Cafe    True  mW0l2ZhDeAAgjXPz_x2qRQ      4  "
      ]
     },
     "execution_count": 84,
     "metadata": {},
     "output_type": "execute_result"
    }
   ],
   "source": [
    "rest_rvws = pd.merge(rest, rvws, on = 'business_id')\n",
    "rest_rvws.head(2)"
   ]
  },
  {
   "cell_type": "markdown",
   "metadata": {},
   "source": [
    "### Data Exploration"
   ]
  },
  {
   "cell_type": "code",
   "execution_count": 87,
   "metadata": {
    "collapsed": false
   },
   "outputs": [
    {
     "name": "stdout",
     "output_type": "stream",
     "text": [
      "city                :       1\n",
      "categories          :    1702\n",
      "business_id         :    7013\n",
      "name                :    4946\n",
      "InVegas             :       1\n",
      "user_id             :  228814\n",
      "stars               :       5\n"
     ]
    }
   ],
   "source": [
    "for col in rest_rvws:\n",
    "    print \"%-20s: %7d\" % (col, rest_rvws[col].nunique())"
   ]
  },
  {
   "cell_type": "code",
   "execution_count": 88,
   "metadata": {
    "collapsed": false
   },
   "outputs": [
    {
     "data": {
      "text/plain": [
       "687064"
      ]
     },
     "execution_count": 88,
     "metadata": {},
     "output_type": "execute_result"
    }
   ],
   "source": [
    "len(rest_rvws)"
   ]
  },
  {
   "cell_type": "code",
   "execution_count": 89,
   "metadata": {
    "collapsed": false
   },
   "outputs": [
    {
     "data": {
      "text/plain": [
       "1    652388\n",
       "2      9921\n",
       "3       504\n",
       "4        44\n",
       "5         4\n",
       "Name: stars, dtype: int64"
      ]
     },
     "execution_count": 89,
     "metadata": {},
     "output_type": "execute_result"
    }
   ],
   "source": [
    "n_reviews = rest_rvws.groupby(['name', 'user_id']).stars.nunique()\n",
    "n_reviews.value_counts()"
   ]
  },
  {
   "cell_type": "markdown",
   "metadata": {},
   "source": [
    "#### The new dataset contains:\n",
    "* 7013 restaurants.\n",
    "* 4946 restaurants names, many might be franchise.\n",
    "* Highest rating with 5 stars\n",
    "* 228814 reviewers\n",
    "\n",
    "#### Since franchise is likely to serve the same food and some properties, we use restaurant name instead of business IDs.\n",
    "\n",
    "#### There are:\n",
    "* 687064 observations\n",
    "* The reviewers might have muliple reviews for a restaurant, so we take the average ratings.\n",
    "*The distribution of ratings:"
   ]
  },
  {
   "cell_type": "code",
   "execution_count": 90,
   "metadata": {
    "collapsed": false
   },
   "outputs": [
    {
     "data": {
      "image/png": "[encoded data removed]",
      "text/plain": [
       "<matplotlib.figure.Figure at 0x123d5e290>"
      ]
     },
     "metadata": {},
     "output_type": "display_data"
    }
   ],
   "source": [
    "f = rest_rvws.stars.hist(bins=5)\n",
    "f = plt.title(\"Overall Ratings\")"
   ]
  },
  {
   "cell_type": "markdown",
   "metadata": {},
   "source": [
    "### Content-Based Flitering\n",
    "\n",
    "* Content-based filtering focus on the properties of items. Similarity of items is measured based on similarity of their properties.[MMD, Leskoves] Restaurant catorgeries (Wine Bars, Bars, Pizza, Italian, etc.) are used to map as features of the restaurants."
   ]
  },
  {
   "cell_type": "code",
   "execution_count": 94,
   "metadata": {
    "collapsed": false
   },
   "outputs": [
    {
     "name": "stdout",
     "output_type": "stream",
     "text": [
      "['Wine Bars', 'Bars', 'Restaurants', 'Nightlife', 'Italian']\n",
      "['Korean', 'Fish & Chips', 'Chinese', 'Restaurants']\n"
     ]
    }
   ],
   "source": [
    "print rest_rvws.categories[2]\n",
    "print rest_rvws.categories[9]"
   ]
  },
  {
   "cell_type": "code",
   "execution_count": 95,
   "metadata": {
    "collapsed": true
   },
   "outputs": [],
   "source": [
    "max_features = 5000\n",
    "cv = CountVectorizer(max_features=max_features)\n",
    "X_cag = cv.fit_transform(rest_rvws.categories)"
   ]
  },
  {
   "cell_type": "code",
   "execution_count": 96,
   "metadata": {
    "collapsed": false
   },
   "outputs": [
    {
     "name": "stdout",
     "output_type": "stream",
     "text": [
      "(687064, 354)\n"
     ]
    }
   ],
   "source": [
    "X = np.hstack([X_cag.toarray()])\n",
    "y = rest_rvws.stars\n",
    "n_samples, n_features = X.shape\n",
    "print X.shape"
   ]
  },
  {
   "cell_type": "markdown",
   "metadata": {},
   "source": [
    "### Dot-product method\n",
    "\n",
    "* First, we use the index of first occurance restaurant for its repressenation. Then, give its features same score as the ratings and then average all ratings per user to get a user profile. Each rating is subtracted by 3, so bad ratings are negative and good ratings are postive.\n"
   ]
  },
  {
   "cell_type": "code",
   "execution_count": 98,
   "metadata": {
    "collapsed": false
   },
   "outputs": [
    {
     "name": "stdout",
     "output_type": "stream",
     "text": [
      "(4946, 354)\n"
     ]
    },
    {
     "data": {
      "text/html": [
       "<div>\n",
       "<table border=\"1\" class=\"dataframe\">\n",
       "  <thead>\n",
       "    <tr style=\"text-align: right;\">\n",
       "      <th></th>\n",
       "      <th>0</th>\n",
       "      <th>1</th>\n",
       "      <th>2</th>\n",
       "      <th>3</th>\n",
       "      <th>4</th>\n",
       "      <th>5</th>\n",
       "      <th>6</th>\n",
       "      <th>7</th>\n",
       "      <th>8</th>\n",
       "      <th>9</th>\n",
       "      <th>...</th>\n",
       "      <th>344</th>\n",
       "      <th>345</th>\n",
       "      <th>346</th>\n",
       "      <th>347</th>\n",
       "      <th>348</th>\n",
       "      <th>349</th>\n",
       "      <th>350</th>\n",
       "      <th>351</th>\n",
       "      <th>352</th>\n",
       "      <th>353</th>\n",
       "    </tr>\n",
       "    <tr>\n",
       "      <th>name</th>\n",
       "      <th></th>\n",
       "      <th></th>\n",
       "      <th></th>\n",
       "      <th></th>\n",
       "      <th></th>\n",
       "      <th></th>\n",
       "      <th></th>\n",
       "      <th></th>\n",
       "      <th></th>\n",
       "      <th></th>\n",
       "      <th></th>\n",
       "      <th></th>\n",
       "      <th></th>\n",
       "      <th></th>\n",
       "      <th></th>\n",
       "      <th></th>\n",
       "      <th></th>\n",
       "      <th></th>\n",
       "      <th></th>\n",
       "      <th></th>\n",
       "      <th></th>\n",
       "    </tr>\n",
       "  </thead>\n",
       "  <tbody>\n",
       "    <tr>\n",
       "      <th>#1 Hawaiian Barbecue</th>\n",
       "      <td>0</td>\n",
       "      <td>0</td>\n",
       "      <td>0</td>\n",
       "      <td>0</td>\n",
       "      <td>0</td>\n",
       "      <td>0</td>\n",
       "      <td>0</td>\n",
       "      <td>0</td>\n",
       "      <td>0</td>\n",
       "      <td>0</td>\n",
       "      <td>...</td>\n",
       "      <td>0</td>\n",
       "      <td>0</td>\n",
       "      <td>0</td>\n",
       "      <td>0</td>\n",
       "      <td>0</td>\n",
       "      <td>0</td>\n",
       "      <td>0</td>\n",
       "      <td>0</td>\n",
       "      <td>0</td>\n",
       "      <td>0</td>\n",
       "    </tr>\n",
       "    <tr>\n",
       "      <th>100% Natural Mexican Grill</th>\n",
       "      <td>0</td>\n",
       "      <td>0</td>\n",
       "      <td>0</td>\n",
       "      <td>0</td>\n",
       "      <td>0</td>\n",
       "      <td>0</td>\n",
       "      <td>0</td>\n",
       "      <td>0</td>\n",
       "      <td>0</td>\n",
       "      <td>0</td>\n",
       "      <td>...</td>\n",
       "      <td>0</td>\n",
       "      <td>0</td>\n",
       "      <td>0</td>\n",
       "      <td>0</td>\n",
       "      <td>0</td>\n",
       "      <td>0</td>\n",
       "      <td>0</td>\n",
       "      <td>0</td>\n",
       "      <td>0</td>\n",
       "      <td>0</td>\n",
       "    </tr>\n",
       "  </tbody>\n",
       "</table>\n",
       "<p>2 rows × 354 columns</p>\n",
       "</div>"
      ],
      "text/plain": [
       "                            0    1    2    3    4    5    6    7    8    9    \\\n",
       "name                                                                           \n",
       "#1 Hawaiian Barbecue          0    0    0    0    0    0    0    0    0    0   \n",
       "100% Natural Mexican Grill    0    0    0    0    0    0    0    0    0    0   \n",
       "\n",
       "                           ...   344  345  346  347  348  349  350  351  352  \\\n",
       "name                       ...                                                 \n",
       "#1 Hawaiian Barbecue       ...     0    0    0    0    0    0    0    0    0   \n",
       "100% Natural Mexican Grill ...     0    0    0    0    0    0    0    0    0   \n",
       "\n",
       "                            353  \n",
       "name                             \n",
       "#1 Hawaiian Barbecue          0  \n",
       "100% Natural Mexican Grill    0  \n",
       "\n",
       "[2 rows x 354 columns]"
      ]
     },
     "execution_count": 98,
     "metadata": {},
     "output_type": "execute_result"
    }
   ],
   "source": [
    "uniques, idx = np.unique(rest_rvws.name, return_index=True)\n",
    "rest_features = pd.DataFrame(X[idx, :], index=rest_rvws.name[idx])\n",
    "print rest_features.shape\n",
    "rest_features.head(2)"
   ]
  },
  {
   "cell_type": "code",
   "execution_count": 100,
   "metadata": {
    "collapsed": false
   },
   "outputs": [
    {
     "data": {
      "text/html": [
       "<div>\n",
       "<table border=\"1\" class=\"dataframe\">\n",
       "  <thead>\n",
       "    <tr style=\"text-align: right;\">\n",
       "      <th></th>\n",
       "      <th>0</th>\n",
       "      <th>1</th>\n",
       "      <th>2</th>\n",
       "      <th>3</th>\n",
       "      <th>4</th>\n",
       "      <th>5</th>\n",
       "      <th>6</th>\n",
       "      <th>7</th>\n",
       "      <th>8</th>\n",
       "      <th>9</th>\n",
       "      <th>...</th>\n",
       "      <th>344</th>\n",
       "      <th>345</th>\n",
       "      <th>346</th>\n",
       "      <th>347</th>\n",
       "      <th>348</th>\n",
       "      <th>349</th>\n",
       "      <th>350</th>\n",
       "      <th>351</th>\n",
       "      <th>352</th>\n",
       "      <th>353</th>\n",
       "    </tr>\n",
       "    <tr>\n",
       "      <th>user_id</th>\n",
       "      <th></th>\n",
       "      <th></th>\n",
       "      <th></th>\n",
       "      <th></th>\n",
       "      <th></th>\n",
       "      <th></th>\n",
       "      <th></th>\n",
       "      <th></th>\n",
       "      <th></th>\n",
       "      <th></th>\n",
       "      <th></th>\n",
       "      <th></th>\n",
       "      <th></th>\n",
       "      <th></th>\n",
       "      <th></th>\n",
       "      <th></th>\n",
       "      <th></th>\n",
       "      <th></th>\n",
       "      <th></th>\n",
       "      <th></th>\n",
       "      <th></th>\n",
       "    </tr>\n",
       "  </thead>\n",
       "  <tbody>\n",
       "    <tr>\n",
       "      <th>---teJGnwK07UO6_oJfbRw</th>\n",
       "      <td>-0.0</td>\n",
       "      <td>-0.0</td>\n",
       "      <td>-0.0</td>\n",
       "      <td>-0.0</td>\n",
       "      <td>-0.0</td>\n",
       "      <td>-0.0</td>\n",
       "      <td>-0.0</td>\n",
       "      <td>-0.0</td>\n",
       "      <td>-0.0</td>\n",
       "      <td>-0.0</td>\n",
       "      <td>...</td>\n",
       "      <td>-0.0</td>\n",
       "      <td>-0.0</td>\n",
       "      <td>-0.0</td>\n",
       "      <td>-0.0</td>\n",
       "      <td>-0.0</td>\n",
       "      <td>-0.0</td>\n",
       "      <td>-0.0</td>\n",
       "      <td>-0.0</td>\n",
       "      <td>-0.0</td>\n",
       "      <td>-0.0</td>\n",
       "    </tr>\n",
       "    <tr>\n",
       "      <th>--0mI_q_0D1CdU4P_hoImQ</th>\n",
       "      <td>0.0</td>\n",
       "      <td>0.0</td>\n",
       "      <td>0.0</td>\n",
       "      <td>0.0</td>\n",
       "      <td>0.0</td>\n",
       "      <td>0.0</td>\n",
       "      <td>0.0</td>\n",
       "      <td>0.0</td>\n",
       "      <td>0.0</td>\n",
       "      <td>0.0</td>\n",
       "      <td>...</td>\n",
       "      <td>0.0</td>\n",
       "      <td>0.0</td>\n",
       "      <td>0.0</td>\n",
       "      <td>0.0</td>\n",
       "      <td>0.0</td>\n",
       "      <td>0.0</td>\n",
       "      <td>0.0</td>\n",
       "      <td>0.0</td>\n",
       "      <td>0.0</td>\n",
       "      <td>0.0</td>\n",
       "    </tr>\n",
       "  </tbody>\n",
       "</table>\n",
       "<p>2 rows × 354 columns</p>\n",
       "</div>"
      ],
      "text/plain": [
       "                        0    1    2    3    4    5    6    7    8    9   ...   \\\n",
       "user_id                                                                  ...    \n",
       "---teJGnwK07UO6_oJfbRw -0.0 -0.0 -0.0 -0.0 -0.0 -0.0 -0.0 -0.0 -0.0 -0.0 ...    \n",
       "--0mI_q_0D1CdU4P_hoImQ  0.0  0.0  0.0  0.0  0.0  0.0  0.0  0.0  0.0  0.0 ...    \n",
       "\n",
       "                        344  345  346  347  348  349  350  351  352  353  \n",
       "user_id                                                                   \n",
       "---teJGnwK07UO6_oJfbRw -0.0 -0.0 -0.0 -0.0 -0.0 -0.0 -0.0 -0.0 -0.0 -0.0  \n",
       "--0mI_q_0D1CdU4P_hoImQ  0.0  0.0  0.0  0.0  0.0  0.0  0.0  0.0  0.0  0.0  \n",
       "\n",
       "[2 rows x 354 columns]"
      ]
     },
     "execution_count": 100,
     "metadata": {},
     "output_type": "execute_result"
    }
   ],
   "source": [
    "reviewer_features = pd.DataFrame(X * (rest_rvws.stars.values - 3).reshape(n_samples, 1))\n",
    "reviewer_features['user_id'] = rest_rvws.user_id\n",
    "reviewer_features = reviewer_features.groupby('user_id')[range(n_features)].mean()\n",
    "reviewer_features = reviewer_features.divide(reviewer_features.sum(axis=1), axis=0)\n",
    "reviewer_features.head(2)"
   ]
  },
  {
   "cell_type": "code",
   "execution_count": 101,
   "metadata": {
    "collapsed": false
   },
   "outputs": [
    {
     "data": {
      "text/plain": [
       "228814"
      ]
     },
     "execution_count": 101,
     "metadata": {},
     "output_type": "execute_result"
    }
   ],
   "source": [
    "len(reviewer_features)"
   ]
  },
  {
   "cell_type": "markdown",
   "metadata": {},
   "source": [
    "* Now, add a user's ratings for each of the resturant's features by taking the dot product of user vector and restaurant vector."
   ]
  },
  {
   "cell_type": "code",
   "execution_count": 102,
   "metadata": {
    "collapsed": true
   },
   "outputs": [],
   "source": [
    "user = \"RZwkUvViHYEh5Z65--cVZw\""
   ]
  },
  {
   "cell_type": "code",
   "execution_count": 104,
   "metadata": {
    "collapsed": false
   },
   "outputs": [
    {
     "name": "stderr",
     "output_type": "stream",
     "text": [
      "/Users/xftim/anaconda/lib/python2.7/site-packages/ipykernel/__main__.py:1: FutureWarning: sort is deprecated, use sort_values(inplace=True) for INPLACE sorting\n",
      "  if __name__ == '__main__':\n"
     ]
    },
    {
     "data": {
      "text/plain": [
       "name\n",
       "White Cross Drugs                             5\n",
       "Stephano's Greek & Mediterranean Grill        5\n",
       "The Olive Mediterranean Grill                 5\n",
       "Siena Italian Authentic Trattoria and Deli    5\n",
       "Pamplemousse Le Restaurant                    5\n",
       "Albinas Italian American Bakery               5\n",
       "Spago                                         4\n",
       "Swiss Cafe Restaurant                         4\n",
       "Samosa Factory                                4\n",
       "Royal Persis                                  4\n",
       "Lily's Persian & Mediterranean Cuisine        4\n",
       "India Oven                                    4\n",
       "Ichiza                                        4\n",
       "Go Raw Cafe                                   4\n",
       "Chianti Cafe                                  4\n",
       "Baladie Café                                  4\n",
       "Hugo's Cellar                                 3\n",
       "Bonjour Euro Bakery                           3\n",
       "Amena Bakery & Deli                           3\n",
       "Sababa Mediterranean Grill                    2\n",
       "Tamba                                         2\n",
       "Name: stars, dtype: int64"
      ]
     },
     "execution_count": 104,
     "metadata": {},
     "output_type": "execute_result"
    }
   ],
   "source": [
    "my_rvs = rest_rvws[rest_rvws.user_id == user].groupby('name').stars.mean()\\\n",
    "    .sort(ascending=False, inplace=False)\n",
    "my_rvs\n"
   ]
  },
  {
   "cell_type": "code",
   "execution_count": 106,
   "metadata": {
    "collapsed": false
   },
   "outputs": [
    {
     "name": "stderr",
     "output_type": "stream",
     "text": [
      "/Users/xftim/anaconda/lib/python2.7/site-packages/ipykernel/__main__.py:4: FutureWarning: sort is deprecated, use sort_values(inplace=True) for INPLACE sorting\n"
     ]
    },
    {
     "data": {
      "text/plain": [
       "name\n",
       "Azuza Hookah Lounge & Cafe              0.649351\n",
       "Hookah Master's Lounge                  0.610390\n",
       "Grape Vine Cafe                         0.597403\n",
       "Grape Vegas                             0.597403\n",
       "Luna Lounge                             0.571429\n",
       "The Olive Mediterranean Grill           0.558442\n",
       "Layalina Mediterranean Restaurant       0.558442\n",
       "Layla Grill & Hookah                    0.558442\n",
       "Myxx Hookah Lounge                      0.558442\n",
       "Durango Lodge                           0.545455\n",
       "Other Mama                              0.545455\n",
       "Barefoot Bob's Beach Bar & Gaming       0.545455\n",
       "Lahaina Grill                           0.545455\n",
       "The Lodge Coffee House & Tavern         0.532468\n",
       "Big Dog's Bar and Grill                 0.532468\n",
       "HEXX kitchen + bar                      0.532468\n",
       "Vince Neil's Tatuado EAT DRINK PARTY    0.532468\n",
       "Portofino by Chef Michael LaPlaca       0.519481\n",
       "La Bella Napoli                         0.519481\n",
       "Salute Trattoria Italiana               0.519481\n",
       "Name: predictions, dtype: float64"
      ]
     },
     "execution_count": 106,
     "metadata": {},
     "output_type": "execute_result"
    }
   ],
   "source": [
    "v = reviewer_features.loc[user].values\n",
    "Mx = rest_features.values\n",
    "pred = Mx.dot(v)\n",
    "pred = pd.Series(pred, index=rest_features.index, name=\"predictions\").sort(ascending=False, inplace=False)\n",
    "pred[:20]"
   ]
  },
  {
   "cell_type": "markdown",
   "metadata": {},
   "source": [
    "### Linear Model\n",
    "* Make prediction of resturant ratings based on linear model"
   ]
  },
  {
   "cell_type": "code",
   "execution_count": 107,
   "metadata": {
    "collapsed": false
   },
   "outputs": [
    {
     "name": "stderr",
     "output_type": "stream",
     "text": [
      "/Users/xftim/anaconda/lib/python2.7/site-packages/ipykernel/__main__.py:8: FutureWarning: sort is deprecated, use sort_values(inplace=True) for INPLACE sorting\n"
     ]
    },
    {
     "data": {
      "text/plain": [
       "name\n",
       "Cous Cous Restaurant                    5.175453\n",
       "My Buddy's Greek Cafe                   5.175453\n",
       "Dream Cafe & Hookah Bar                 5.107495\n",
       "Sports Deli                             4.996753\n",
       "El Gaucho Lucas Cafe                    4.996753\n",
       "The Sandwich Spot                       4.996753\n",
       "Paymon's Mediterranean Cafe & Lounge    4.994582\n",
       "Cafe 316                                4.917491\n",
       "Karizma Hookah Lounge                   4.907680\n",
       "BARDOT Brasserie                        4.886649\n",
       "Name: predictions, dtype: float64"
      ]
     },
     "execution_count": 107,
     "metadata": {},
     "output_type": "execute_result"
    }
   ],
   "source": [
    "idx = (rest_rvws.user_id == user).values  # filter reviews of user\n",
    "X_user, y_user = X[idx, :], y[idx]\n",
    " \n",
    "model = Ridge()\n",
    "model.fit(X_user, y_user)\n",
    "\n",
    "uniques, idx = np.unique(rest_rvws.name, return_index=True)\n",
    "pred = pd.Series(model.predict(X[idx, :]), rest_rvws.name[idx], name=\"predictions\") \\\n",
    "    .sort(ascending=False, inplace=False)\n",
    "pred[:10]\n"
   ]
  },
  {
   "cell_type": "markdown",
   "metadata": {},
   "source": [
    "### Content-Based Filtering (text)\n",
    "* Frist, we extract information from text and mapping into features for each reviews. Then use cosine to measure the distance of between review and recommend users based on most simialr reviews."
   ]
  },
  {
   "cell_type": "code",
   "execution_count": 111,
   "metadata": {
    "collapsed": false
   },
   "outputs": [
    {
     "data": {
      "text/html": [
       "<div>\n",
       "<table border=\"1\" class=\"dataframe\">\n",
       "  <thead>\n",
       "    <tr style=\"text-align: right;\">\n",
       "      <th></th>\n",
       "      <th>user_id</th>\n",
       "      <th>review_id</th>\n",
       "      <th>text</th>\n",
       "      <th>votes.cool</th>\n",
       "      <th>business_id</th>\n",
       "      <th>votes.funny</th>\n",
       "      <th>stars</th>\n",
       "      <th>date</th>\n",
       "      <th>type</th>\n",
       "      <th>votes.useful</th>\n",
       "    </tr>\n",
       "  </thead>\n",
       "  <tbody>\n",
       "    <tr>\n",
       "      <th>0</th>\n",
       "      <td>PUFPaY9KxDAcGqfsorJp3Q</td>\n",
       "      <td>Ya85v4eqdd6k9Od8HbQjyA</td>\n",
       "      <td>Mr Hoagie is an institution. Walking in, it do...</td>\n",
       "      <td>0</td>\n",
       "      <td>5UmKMjUEUNdYWqANhGckJw</td>\n",
       "      <td>0</td>\n",
       "      <td>4</td>\n",
       "      <td>2012-08-01</td>\n",
       "      <td>review</td>\n",
       "      <td>0</td>\n",
       "    </tr>\n",
       "    <tr>\n",
       "      <th>1</th>\n",
       "      <td>Iu6AxdBYGR4A0wspR9BYHA</td>\n",
       "      <td>KPvLNJ21_4wbYNctrOwWdQ</td>\n",
       "      <td>Excellent food. Superb customer service. I mis...</td>\n",
       "      <td>0</td>\n",
       "      <td>5UmKMjUEUNdYWqANhGckJw</td>\n",
       "      <td>0</td>\n",
       "      <td>5</td>\n",
       "      <td>2014-02-13</td>\n",
       "      <td>review</td>\n",
       "      <td>0</td>\n",
       "    </tr>\n",
       "  </tbody>\n",
       "</table>\n",
       "</div>"
      ],
      "text/plain": [
       "                  user_id               review_id  \\\n",
       "0  PUFPaY9KxDAcGqfsorJp3Q  Ya85v4eqdd6k9Od8HbQjyA   \n",
       "1  Iu6AxdBYGR4A0wspR9BYHA  KPvLNJ21_4wbYNctrOwWdQ   \n",
       "\n",
       "                                                text  votes.cool  \\\n",
       "0  Mr Hoagie is an institution. Walking in, it do...           0   \n",
       "1  Excellent food. Superb customer service. I mis...           0   \n",
       "\n",
       "              business_id  votes.funny  stars        date    type  \\\n",
       "0  5UmKMjUEUNdYWqANhGckJw            0      4  2012-08-01  review   \n",
       "1  5UmKMjUEUNdYWqANhGckJw            0      5  2014-02-13  review   \n",
       "\n",
       "   votes.useful  \n",
       "0             0  \n",
       "1             0  "
      ]
     },
     "execution_count": 111,
     "metadata": {},
     "output_type": "execute_result"
    }
   ],
   "source": [
    "review.head(2)"
   ]
  },
  {
   "cell_type": "code",
   "execution_count": null,
   "metadata": {
    "collapsed": true
   },
   "outputs": [],
   "source": [
    "# merge all resturants and review data\n",
    "rest_text = pd.merge(rest, review, on = 'business_id')"
   ]
  },
  {
   "cell_type": "code",
   "execution_count": 108,
   "metadata": {
    "collapsed": true
   },
   "outputs": [],
   "source": [
    "def review_to_words(review):\n",
    "    \"\"\"\n",
    "    Convert a raw review to a string of words.\n",
    "    Input: a single string of words\n",
    "    Output: a single string of preprocessed review\n",
    "    \"\"\"\n",
    "    \n",
    "    # 1. Remove non-letters\n",
    "    letters_only = re.sub(\"[^a-zA-Z]\", \" \", review) \n",
    "    \n",
    "    # 2.Convert to lower case, split into individual words\n",
    "    words = letters_only.lower().split()\n",
    "    \n",
    "    # 3. remove stop words\n",
    "    stops = set(stopwords.words(\"english\")) \n",
    "    meaningful_words = [w for w in words if not w in stops]\n",
    "    \n",
    "    # Returen a list of words into a string separated by space. \n",
    "    return( \" \".join( meaningful_words ))   "
   ]
  },
  {
   "cell_type": "code",
   "execution_count": 113,
   "metadata": {
    "collapsed": false
   },
   "outputs": [
    {
     "name": "stdout",
     "output_type": "stream",
     "text": [
      "Cleaning review 50000 of 687064\n",
      "\n",
      "Cleaning review 100000 of 687064\n",
      "\n",
      "Cleaning review 150000 of 687064\n",
      "\n",
      "Cleaning review 200000 of 687064\n",
      "\n",
      "Cleaning review 250000 of 687064\n",
      "\n",
      "Cleaning review 300000 of 687064\n",
      "\n",
      "Cleaning review 350000 of 687064\n",
      "\n",
      "Cleaning review 400000 of 687064\n",
      "\n",
      "Cleaning review 450000 of 687064\n",
      "\n",
      "Cleaning review 500000 of 687064\n",
      "\n",
      "Cleaning review 550000 of 687064\n",
      "\n",
      "Cleaning review 600000 of 687064\n",
      "\n",
      "Cleaning review 650000 of 687064\n",
      "\n"
     ]
    }
   ],
   "source": [
    "text = rest_text.text\n",
    "\n",
    "clean_train_reviews = []\n",
    "\n",
    "# Loop over each review; create an index i that goes from 0 to the length\n",
    "# of the movie review list \n",
    "for i in xrange( 0, len(text)):\n",
    "    # If the index is evenly divisible by 50000, print a message\n",
    "    if( (i+1)%50000 == 0 ):\n",
    "        print \"Cleaning review %d of %d\\n\" % ( i+1, len(text))                                                             \n",
    "  \n",
    "    # Call our function for each one, and add the result to the list of\n",
    "    # clean reviews\n",
    "    try:\n",
    "        clean_train_reviews.append( review_to_words( text[i] ) )\n",
    "    except Exception as e:\n",
    "        clean_train_reviews.append( review_to_words(\"I'm a placeholder sentence.\"))\n",
    "        print \"Execption raised:\", e"
   ]
  },
  {
   "cell_type": "code",
   "execution_count": 114,
   "metadata": {
    "collapsed": false
   },
   "outputs": [
    {
     "data": {
      "text/plain": [
       "'I like Chianti, the outdoor seating area is nice during the spring and fall, while the inside typifies an average Las Vegas dinner spot. The staff is attentive. Entrees are tasty, I liked the beef carpaccio appetizer, as well as the nice, simple pasta dishes and pizzas, and the cioppino is (surprisingly) pretty good too (although the tomato broth is a little overwhelming and the seafood is obviously not coastal fresh). The bread/crostini is horrible (ala white Wonder Bread). Decent wine list, but less than helpful staff in that regard. Overall, I would recommend this spot to anyone stranded in Vegas and craving a bowl of cioppino (p.s., if you know of a better spot for cioppino in Vegas please let me know).'"
      ]
     },
     "execution_count": 114,
     "metadata": {},
     "output_type": "execute_result"
    }
   ],
   "source": [
    "text[0]"
   ]
  },
  {
   "cell_type": "code",
   "execution_count": 115,
   "metadata": {
    "collapsed": false
   },
   "outputs": [
    {
     "data": {
      "text/plain": [
       "'like chianti outdoor seating area nice spring fall inside typifies average las vegas dinner spot staff attentive entrees tasty liked beef carpaccio appetizer well nice simple pasta dishes pizzas cioppino surprisingly pretty good although tomato broth little overwhelming seafood obviously coastal fresh bread crostini horrible ala white wonder bread decent wine list less helpful staff regard overall would recommend spot anyone stranded vegas craving bowl cioppino p know better spot cioppino vegas please let know'"
      ]
     },
     "execution_count": 115,
     "metadata": {},
     "output_type": "execute_result"
    }
   ],
   "source": [
    "review_to_words(text[0])"
   ]
  },
  {
   "cell_type": "code",
   "execution_count": 116,
   "metadata": {
    "collapsed": true
   },
   "outputs": [],
   "source": [
    "vectorizer = CountVectorizer(analyzer = \"word\",   \\\n",
    "                             tokenizer = None,    \\\n",
    "                             preprocessor = None, \\\n",
    "                             stop_words = None,   \\\n",
    "                             max_features = 5000) \n",
    "train_data_features = vectorizer.fit_transform(clean_train_reviews)"
   ]
  },
  {
   "cell_type": "code",
   "execution_count": 118,
   "metadata": {
    "collapsed": false
   },
   "outputs": [
    {
     "name": "stdout",
     "output_type": "stream",
     "text": [
      "[u'ability', u'able', u'absolute', u'absolutely', u'abundance', u'ac', u'acai', u'accent', u'accept', u'acceptable', u'accepted', u'access', u'accessible', u'accident', u'accidentally', u'accommodate', u'accommodated', u'accommodating', u'accompanied', u'accompany', u'accompanying', u'according', u'accordingly', u'account', u'accurate', u'acknowledge', u'acknowledged', u'across', u'act', u'acted', u'action', u'actual', u'actually', u'ad', u'add', u'added', u'addicted', u'addicting', u'addictive', u'adding', u'addition', u'additional', u'additionally', u'address', u'adds', u'adequate', u'adjacent', u'adjust', u'admission', u'admit']\n"
     ]
    }
   ],
   "source": [
    "vocab = vectorizer.get_feature_names()\n",
    "print vocab[:50]"
   ]
  },
  {
   "cell_type": "code",
   "execution_count": 119,
   "metadata": {
    "collapsed": false
   },
   "outputs": [
    {
     "name": "stdout",
     "output_type": "stream",
     "text": [
      "ability 706\n",
      "able 19706\n",
      "absolute 4138\n",
      "absolutely 25937\n",
      "abundance 612\n",
      "ac 750\n",
      "acai 1088\n",
      "accent 942\n",
      "accept 1476\n",
      "acceptable 1685\n"
     ]
    }
   ],
   "source": [
    "dist = np.sum(train_data_features.toarray(), axis=0)\n",
    "\n",
    "for tag, count in zip(vocab, dist)[:10]:\n",
    "    print tag, count"
   ]
  },
  {
   "cell_type": "code",
   "execution_count": 120,
   "metadata": {
    "collapsed": false
   },
   "outputs": [
    {
     "name": "stdout",
     "output_type": "stream",
     "text": [
      "Inverse Document Freq: [ 7.89339877  4.62914092  6.1371748  ...,  6.43983469  7.92251291\n",
      "  6.91024081]\n"
     ]
    }
   ],
   "source": [
    "tfidf = TfidfTransformer(norm=u'l2')\n",
    "tfidf.fit(train_data_features)\n",
    "\n",
    "print \"Inverse Document Freq:\", tfidf.idf_"
   ]
  },
  {
   "cell_type": "code",
   "execution_count": 121,
   "metadata": {
    "collapsed": false
   },
   "outputs": [
    {
     "name": "stdout",
     "output_type": "stream",
     "text": [
      "[[ 0.  0.  0. ...,  0.  0.  0.]\n",
      " [ 0.  0.  0. ...,  0.  0.  0.]\n",
      " [ 0.  0.  0. ...,  0.  0.  0.]\n",
      " ..., \n",
      " [ 0.  0.  0. ...,  0.  0.  0.]\n",
      " [ 0.  0.  0. ...,  0.  0.  0.]\n",
      " [ 0.  0.  0. ...,  0.  0.  0.]]\n"
     ]
    }
   ],
   "source": [
    "tf_idf_matrix = tfidf.transform(train_data_features)\n",
    "print tf_idf_matrix.todense()"
   ]
  },
  {
   "cell_type": "code",
   "execution_count": 122,
   "metadata": {
    "collapsed": false
   },
   "outputs": [
    {
     "data": {
      "text/plain": [
       "array([[ 1.        ,  0.06436354,  0.11423097, ...,  0.05166558,\n",
       "         0.04989321,  0.07145164]])"
      ]
     },
     "execution_count": 122,
     "metadata": {},
     "output_type": "execute_result"
    }
   ],
   "source": [
    "from sklearn.metrics.pairwise import cosine_similarity\n",
    "#print tf_idf_matrix\n",
    "cosine_similarity(tf_idf_matrix[0:1], tf_idf_matrix)"
   ]
  },
  {
   "cell_type": "code",
   "execution_count": 123,
   "metadata": {
    "collapsed": false
   },
   "outputs": [
    {
     "data": {
      "text/plain": [
       "(687064, 5000)"
      ]
     },
     "execution_count": 123,
     "metadata": {},
     "output_type": "execute_result"
    }
   ],
   "source": [
    "tf_idf_matrix.shape"
   ]
  },
  {
   "cell_type": "code",
   "execution_count": 124,
   "metadata": {
    "collapsed": false
   },
   "outputs": [
    {
     "data": {
      "text/plain": [
       "array([ 1.        ,  0.06436354,  0.11423097, ...,  0.05166558,\n",
       "        0.04989321,  0.07145164])"
      ]
     },
     "execution_count": 124,
     "metadata": {},
     "output_type": "execute_result"
    }
   ],
   "source": [
    "from sklearn.metrics.pairwise import linear_kernel\n",
    "cosine_similarities = linear_kernel(tf_idf_matrix[0:1], tf_idf_matrix).flatten()\n",
    "cosine_similarities "
   ]
  },
  {
   "cell_type": "code",
   "execution_count": 125,
   "metadata": {
    "collapsed": false
   },
   "outputs": [
    {
     "data": {
      "text/plain": [
       "array([     0, 592325, 406853, 658867, 185055, 117857,  29693, 520542,\n",
       "        65134])"
      ]
     },
     "execution_count": 125,
     "metadata": {},
     "output_type": "execute_result"
    }
   ],
   "source": [
    "related_docs_indices = cosine_similarities.argsort()[:-10:-1]\n",
    "related_docs_indices"
   ]
  },
  {
   "cell_type": "code",
   "execution_count": 126,
   "metadata": {
    "collapsed": false
   },
   "outputs": [
    {
     "data": {
      "text/plain": [
       "array([ 1.        ,  0.35099206,  0.3368126 ,  0.3368126 ,  0.30662329,\n",
       "        0.29634631,  0.29081255,  0.27746207,  0.2751169 ])"
      ]
     },
     "execution_count": 126,
     "metadata": {},
     "output_type": "execute_result"
    }
   ],
   "source": [
    "cosine_similarities[related_docs_indices]"
   ]
  },
  {
   "cell_type": "code",
   "execution_count": 127,
   "metadata": {
    "collapsed": true
   },
   "outputs": [],
   "source": [
    "user = \"RZwkUvViHYEh5Z65--cVZw\"\n",
    "rvs_ind = rest_text.ix[(rest_text.user_id == user) & (rest_text.stars >= 4)].index.tolist()"
   ]
  },
  {
   "cell_type": "code",
   "execution_count": 128,
   "metadata": {
    "collapsed": false
   },
   "outputs": [
    {
     "name": "stdout",
     "output_type": "stream",
     "text": [
      "[592325, 406853, 658867, 185055, 117857, 29693, 520542, 65134, 350187, 438135, 46947, 75279, 205934, 269042, 677359, 49482, 276816, 111696, 61584, 190554, 190643, 492208, 327931, 592534, 328597, 328370, 328264, 405767, 5552, 197066, 79991, 61794, 148813, 644126, 61644, 413056, 303096, 54646, 149047, 80070, 61316, 80027, 79857, 643924, 61675, 328370, 54582, 327783, 496796, 584088, 496733, 328116, 197066, 190815, 6406, 7029, 7161, 440184, 195395, 6938, 6089, 6442, 6656, 6529, 6638, 215943, 6495, 440269, 527210, 6533, 6460, 6343, 111402, 637029, 44779, 41416, 110986, 465025, 637013, 111390, 13943, 37918, 112172, 659996, 9278, 637083, 463398, 112340, 14779, 14500, 366630, 339586, 526673, 342876, 48673, 81900, 64419, 334803, 156230, 106849, 247605, 459543, 48541, 106164, 49903, 387231, 417520, 402620, 198376, 78739, 216165, 123257, 80421, 575039, 281014, 198528, 265256, 245751, 336999, 636986, 27742, 119279, 40225, 221047, 377213, 550684, 232512, 608817, 489226, 519266, 549137, 414469, 83784, 81383, 515526, 489921, 81381, 670630, 13135, 414261, 297444, 506821, 234140, 199126, 32344, 420577, 479947, 479940, 479996, 122422, 479839, 122269, 122265, 605665, 479836, 480090, 121608, 479920, 479894, 16639, 480083, 486897, 462575, 394819, 469508, 214064, 469537, 214049, 214069, 394813, 394749, 368619, 531915, 394738, 469504, 273587, 603025, 603064, 290779, 214155, 683682, 328715, 221511, 495531, 221669, 553239, 75799, 21296, 520315, 572924, 75684, 339847, 394809, 79441, 178383, 221670, 549727, 21327, 221641, 215622, 534012, 491470, 536230, 248973, 465246, 156426, 78696, 640633, 583754, 272303, 618402, 536656, 254890, 631605, 671468, 516826, 257597, 67198, 67170, 257678, 67190, 257580, 257582, 257660, 67257, 67181, 672161, 67240, 257697, 67207, 464625, 533006, 484911, 257590, 606166, 112083, 40745, 34506, 644098, 637904, 662230, 376835, 146444, 32139, 224806, 51854, 119451, 290734, 356147, 544979, 436615, 11523, 187754, 260295, 324705, 374684, 390307, 299672, 415657, 178490, 187736, 494700, 345059, 497608, 77207, 390318, 248467, 369406, 532946, 497611, 408160, 623670, 620606, 557843, 623870, 97059, 664295, 366312, 249881, 210128, 341384, 300294, 300715, 118488, 667288, 146779, 87186, 341286]\n"
     ]
    }
   ],
   "source": [
    "# Find the most simialar resturants\n",
    "\n",
    "ind = []\n",
    "for i in range(len(rvs_ind)):\n",
    "    cosine_similarities = linear_kernel(tf_idf_matrix[rvs_ind[i]], tf_idf_matrix).flatten()\n",
    "    related_docs_indices = cosine_similarities.argsort()[:-20:-1].tolist()\n",
    "    inds = filter(lambda x: x != rvs_ind[i], related_docs_indices)\n",
    "    ind = ind + inds\n",
    "print ind"
   ]
  },
  {
   "cell_type": "code",
   "execution_count": 129,
   "metadata": {
    "collapsed": false
   },
   "outputs": [
    {
     "data": {
      "text/plain": [
       "array(['Sunnys Chicken & Fish', 'Starbucks', 'Wok & Roll \"TAPSILOGAN\"',\n",
       "       'Vintner Grill', 'Olives', 'Fiesta Filipina Cuisine', 'Casanova',\n",
       "       'Eiffel Tower Restaurant', \"Wendy's Noodle Cafe\", 'S& S Barber Shop'], dtype=object)"
      ]
     },
     "execution_count": 129,
     "metadata": {},
     "output_type": "execute_result"
    }
   ],
   "source": [
    "rest = rest_text.ix[ind].name.unique()\n",
    "rest[:10]"
   ]
  },
  {
   "cell_type": "code",
   "execution_count": 130,
   "metadata": {
    "collapsed": false
   },
   "outputs": [
    {
     "data": {
      "text/plain": [
       "['Chianti Cafe',\n",
       " 'Samosa Factory',\n",
       " 'India Oven',\n",
       " 'Ichiza',\n",
       " 'White Cross Drugs',\n",
       " 'Spago',\n",
       " \"Stephano's Greek & Mediterranean Grill\",\n",
       " 'Albinas Italian American Bakery',\n",
       " 'Swiss Cafe Restaurant',\n",
       " 'Baladie Caf\\xc3\\xa9',\n",
       " 'The Olive Mediterranean Grill',\n",
       " 'Royal Persis',\n",
       " 'Go Raw Cafe',\n",
       " 'Pamplemousse Le Restaurant',\n",
       " \"Lily's Persian & Mediterranean Cuisine\",\n",
       " 'Siena Italian Authentic Trattoria and Deli']"
      ]
     },
     "execution_count": 130,
     "metadata": {},
     "output_type": "execute_result"
    }
   ],
   "source": [
    "# Find the resturants that user already went to\n",
    "rest_went = rest_text.ix[rvs_ind].name.tolist()\n",
    "rest_went"
   ]
  },
  {
   "cell_type": "code",
   "execution_count": 131,
   "metadata": {
    "collapsed": false
   },
   "outputs": [
    {
     "data": {
      "text/plain": [
       "['Sunnys Chicken & Fish',\n",
       " 'Starbucks',\n",
       " 'Wok & Roll \"TAPSILOGAN\"',\n",
       " 'Vintner Grill',\n",
       " 'Olives',\n",
       " 'Fiesta Filipina Cuisine',\n",
       " 'Casanova',\n",
       " 'Eiffel Tower Restaurant',\n",
       " \"Wendy's Noodle Cafe\",\n",
       " 'S& S Barber Shop']"
      ]
     },
     "execution_count": 131,
     "metadata": {},
     "output_type": "execute_result"
    }
   ],
   "source": [
    "rest = rest_text.ix[ind].name.unique()\n",
    "rest_went = rest_text.ix[rvs_ind].name.tolist()\n",
    "rec_rest = filter(lambda x: x not in rest_went, rest)\n",
    "rec_rest[:10]"
   ]
  },
  {
   "cell_type": "code",
   "execution_count": 134,
   "metadata": {
    "collapsed": true
   },
   "outputs": [],
   "source": [
    "# Try a new resturant based on reviews\n",
    "def try_dif_rest(ind,rvs_ind):\n",
    "    rest = rest_text.ix[ind].name.unique()\n",
    "    rest_went = rest_text.ix[rvs_ind].name.tolist()\n",
    "    rec_rest = filter(lambda x: x not in rest_went, rest)\n",
    "    return rec_rest[:10]"
   ]
  },
  {
   "cell_type": "code",
   "execution_count": 135,
   "metadata": {
    "collapsed": false
   },
   "outputs": [],
   "source": [
    "def make_recommedation(user):\n",
    "    \"\"\"\n",
    "    Function: make recommedations for user with user_id with most similar reviews\n",
    "    Input: user_id\n",
    "    Output: restaurants from most similar reviews\n",
    "    \"\"\"\n",
    "    \n",
    "    rvs_ind = rest_text.ix[(rest_text.user_id == user) & (rest_text.stars >= 4)].index.tolist()\n",
    "    went_ind = rest_text.ix[(rest_text.user_id == user)].index.tolist()\n",
    "   \n",
    "    if len(rvs_ind) == 0:\n",
    "        return [\"Not enought information!!\"]\n",
    "    else:\n",
    "        ind = []\n",
    "        for i in range(len(rvs_ind)):\n",
    "            cosine_similarities = linear_kernel(tf_idf_matrix[rvs_ind[i]], tf_idf_matrix).flatten()\n",
    "            related_docs_indices = cosine_similarities.argsort()[:-15:-1].tolist()\n",
    "            inds = filter(lambda x: x != went_ind, related_docs_indices)\n",
    "            ind = ind + inds\n",
    "            \n",
    "        return try_dif_rest(ind,went_ind)    "
   ]
  },
  {
   "cell_type": "code",
   "execution_count": 158,
   "metadata": {
    "collapsed": false
   },
   "outputs": [
    {
     "name": "stdout",
     "output_type": "stream",
     "text": [
      "User HAWHM5VNld0Nu1BjXm8UuQ\n",
      "Already Liked: Artisan Hotel Boutique, Pho Kim Long, Einstein Bros, The Tap House, The Mayan Club, Long John Silver's, Yama Sushi, Dispensary Lounge, Casa Don Juan  - Downtown, Japonais, Piranha Nightclub, Agave, Ricardo's Mexican Restaurant, Raising Cane's, L & L Hawaiian Barbecue, Yayo Taco, Cheeburger Cheeburger, Fuddruckers, Gina's Bistro, Shari's Rock & Roll Diner, Napoli Pizzeria, Frankie's Tiki Room, Archi's Thai Cafe, Baja Bar & Grill, Revolver Saloon, Foothills Lodge, KoMex Fusion, Miller's Ale House - Las Vegas, Strip N Dip Chicken Strips, TACOS EL GORDO, East West Pizzeria, Weera Thai, Emjay's New York Pizza, Cardenas Market, Secret Pizza, The Garage, Cous Cous Mediterranean Cafe, Egg Works, Pizza Natali, Wahoo's Fish Tacos, The Bar @ Flamingo & Grand Canyon, Chada Thai & Wine, Greens and Proteins, Cafe Zupas, Mariscos Playa Escondida, Tonkatsu Kiyoshi, West Wing Cigar Lounge, Gabriella's Italian Grill & Pizzeria, SkinnyFATS, Mercadito, LJ's Filipino Restaurant & Pub, Violette's Vegan\n",
      "Recommended: Tangerine Lounge & Nightclub, Free Zone, LAVO Italian Restaurant & Lounge, The Deuce Lounge, One Six Sky Lounge\n",
      "\n",
      "User vHfXGfsBHMG4siloAsK2vA\n",
      "Already Liked: Echo & Rig\n",
      "Recommended: CUT, Old Homestead Steakhouse, Honey Salt, Gordon Ramsay Steak, BLT Steak\n",
      "\n",
      "User evi7NhGzC_MSLZ0egezuaA\n",
      "Already Liked: \n",
      "Recommended: Not enought information!!\n",
      "\n",
      "User gBj2k5_QSZFqG2Lv84wssA\n",
      "Already Liked: China Wan Wan\n",
      "Recommended: Noodle Shop, China A Go Go, Red 8, Chang's Hong Kong Cuisine, Noodles\n",
      "\n",
      "User gZZWzTgACcmr9cTDdLSODQ\n",
      "Already Liked: Teriyaki House, Oyshi Sushi, Blue Fin Sushi & Roll, Barcelona Tapas, Jean-Marie Auboine Chocolatier, Jojo's Jerky, Freddy's Frozen Custard & Steakburgers, Sweet Addiction, Cookies & Ice Cream, Bacchanal Buffet, SkinnyFATS, Off the Hook, Cebu Inasal, Donut Mania, Tina's Filipino Cuisine, Gelatology, Gelatology, Bacon Boys\n",
      "Recommended: Super B Burrito, Gamblers Cafe, Aloha Hawaiian BBQ, Parsley Modern Mediterranean, Kabob Korner\n",
      "\n"
     ]
    }
   ],
   "source": [
    "n_users = 5\n",
    "\n",
    "for user in np.random.choice(rest_text.user_id, n_users, replace=False):\n",
    "    print \"User %s\" % user\n",
    "    print \"Already Liked:\", \", \".join(rest_text.ix[(rest_text.user_id == user) & (rest_text.stars >= 4)].name.tolist())\n",
    "    print \"Recommended:\", \", \".join(make_recommedation(user)[:5])\n",
    "    print\n",
    " "
   ]
  },
  {
   "cell_type": "markdown",
   "metadata": {},
   "source": [
    "### Item-Based Collaborative filtering\n",
    "\n",
    "* Item based filtering make recommendation based on similar items that the user had already rated highly. It is a \"because you liked this, we think you'd also like this\" approach.\n"
   ]
  },
  {
   "cell_type": "code",
   "execution_count": 137,
   "metadata": {
    "collapsed": true
   },
   "outputs": [],
   "source": [
    "from sklearn.metrics.pairwise import cosine_similarity, manhattan_distances, euclidean_distances"
   ]
  },
  {
   "cell_type": "markdown",
   "metadata": {},
   "source": [
    "* First, creat a pivot table using the name as row and user IDs as columns aggregating the average of stars by user IDs."
   ]
  },
  {
   "cell_type": "code",
   "execution_count": 138,
   "metadata": {
    "collapsed": true
   },
   "outputs": [],
   "source": [
    "pt = pd.pivot_table(rest_rvws, values=[\"stars\"],\n",
    "        index=[\"name\", \"user_id\"], aggfunc=np.mean).unstack()"
   ]
  },
  {
   "cell_type": "code",
   "execution_count": 139,
   "metadata": {
    "collapsed": false
   },
   "outputs": [
    {
     "name": "stdout",
     "output_type": "stream",
     "text": [
      "(4946, 228814)\n"
     ]
    }
   ],
   "source": [
    "print pt.shape"
   ]
  },
  {
   "cell_type": "code",
   "execution_count": 140,
   "metadata": {
    "collapsed": false
   },
   "outputs": [
    {
     "data": {
      "text/html": [
       "<div>\n",
       "<table border=\"1\" class=\"dataframe\">\n",
       "  <thead>\n",
       "    <tr>\n",
       "      <th></th>\n",
       "      <th colspan=\"5\" halign=\"left\">stars</th>\n",
       "    </tr>\n",
       "    <tr>\n",
       "      <th>user_id</th>\n",
       "      <th>---teJGnwK07UO6_oJfbRw</th>\n",
       "      <th>--0mI_q_0D1CdU4P_hoImQ</th>\n",
       "      <th>--106arHH4D3fLenTl3YZA</th>\n",
       "      <th>--2QZsyXGz1OhiD4-0FQLQ</th>\n",
       "      <th>--3-eGXlu61VQZZy-JviNw</th>\n",
       "    </tr>\n",
       "    <tr>\n",
       "      <th>name</th>\n",
       "      <th></th>\n",
       "      <th></th>\n",
       "      <th></th>\n",
       "      <th></th>\n",
       "      <th></th>\n",
       "    </tr>\n",
       "  </thead>\n",
       "  <tbody>\n",
       "    <tr>\n",
       "      <th>#1 Hawaiian Barbecue</th>\n",
       "      <td>NaN</td>\n",
       "      <td>NaN</td>\n",
       "      <td>NaN</td>\n",
       "      <td>NaN</td>\n",
       "      <td>NaN</td>\n",
       "    </tr>\n",
       "    <tr>\n",
       "      <th>100% Natural Mexican Grill</th>\n",
       "      <td>NaN</td>\n",
       "      <td>NaN</td>\n",
       "      <td>NaN</td>\n",
       "      <td>NaN</td>\n",
       "      <td>NaN</td>\n",
       "    </tr>\n",
       "    <tr>\n",
       "      <th>100℃</th>\n",
       "      <td>NaN</td>\n",
       "      <td>NaN</td>\n",
       "      <td>NaN</td>\n",
       "      <td>NaN</td>\n",
       "      <td>NaN</td>\n",
       "    </tr>\n",
       "    <tr>\n",
       "      <th>107 SkyLounge</th>\n",
       "      <td>NaN</td>\n",
       "      <td>NaN</td>\n",
       "      <td>NaN</td>\n",
       "      <td>NaN</td>\n",
       "      <td>NaN</td>\n",
       "    </tr>\n",
       "    <tr>\n",
       "      <th>168 Market</th>\n",
       "      <td>NaN</td>\n",
       "      <td>NaN</td>\n",
       "      <td>NaN</td>\n",
       "      <td>NaN</td>\n",
       "      <td>NaN</td>\n",
       "    </tr>\n",
       "  </tbody>\n",
       "</table>\n",
       "</div>"
      ],
      "text/plain": [
       "                                            stars                         \\\n",
       "user_id                    ---teJGnwK07UO6_oJfbRw --0mI_q_0D1CdU4P_hoImQ   \n",
       "name                                                                       \n",
       "#1 Hawaiian Barbecue                          NaN                    NaN   \n",
       "100% Natural Mexican Grill                    NaN                    NaN   \n",
       "100℃                                          NaN                    NaN   \n",
       "107 SkyLounge                                 NaN                    NaN   \n",
       "168 Market                                    NaN                    NaN   \n",
       "\n",
       "                                                                          \\\n",
       "user_id                    --106arHH4D3fLenTl3YZA --2QZsyXGz1OhiD4-0FQLQ   \n",
       "name                                                                       \n",
       "#1 Hawaiian Barbecue                          NaN                    NaN   \n",
       "100% Natural Mexican Grill                    NaN                    NaN   \n",
       "100℃                                          NaN                    NaN   \n",
       "107 SkyLounge                                 NaN                    NaN   \n",
       "168 Market                                    NaN                    NaN   \n",
       "\n",
       "                                                   \n",
       "user_id                    --3-eGXlu61VQZZy-JviNw  \n",
       "name                                               \n",
       "#1 Hawaiian Barbecue                          NaN  \n",
       "100% Natural Mexican Grill                    NaN  \n",
       "100℃                                          NaN  \n",
       "107 SkyLounge                                 NaN  \n",
       "168 Market                                    NaN  "
      ]
     },
     "execution_count": 140,
     "metadata": {},
     "output_type": "execute_result"
    }
   ],
   "source": [
    "pt.ix[:5,:5]"
   ]
  },
  {
   "cell_type": "markdown",
   "metadata": {},
   "source": [
    "* Then, fill the missing values with 0 and measure the similarity based on the cosine distance between all resturants."
   ]
  },
  {
   "cell_type": "code",
   "execution_count": 141,
   "metadata": {
    "collapsed": true
   },
   "outputs": [],
   "source": [
    "pt = pt.fillna(0)\n",
    "dist = cosine_similarity(pt)\n",
    "dists = pd.DataFrame(dist, columns=pt.index, index = pt.index)"
   ]
  },
  {
   "cell_type": "code",
   "execution_count": 142,
   "metadata": {
    "collapsed": false
   },
   "outputs": [
    {
     "data": {
      "text/html": [
       "<div>\n",
       "<table border=\"1\" class=\"dataframe\">\n",
       "  <thead>\n",
       "    <tr style=\"text-align: right;\">\n",
       "      <th>name</th>\n",
       "      <th>#1 Hawaiian Barbecue</th>\n",
       "      <th>100% Natural Mexican Grill</th>\n",
       "      <th>100℃</th>\n",
       "      <th>107 SkyLounge</th>\n",
       "      <th>168 Market</th>\n",
       "    </tr>\n",
       "    <tr>\n",
       "      <th>name</th>\n",
       "      <th></th>\n",
       "      <th></th>\n",
       "      <th></th>\n",
       "      <th></th>\n",
       "      <th></th>\n",
       "    </tr>\n",
       "  </thead>\n",
       "  <tbody>\n",
       "    <tr>\n",
       "      <th>#1 Hawaiian Barbecue</th>\n",
       "      <td>1.000000</td>\n",
       "      <td>0.000000</td>\n",
       "      <td>0.000000</td>\n",
       "      <td>0.006624</td>\n",
       "      <td>0.029843</td>\n",
       "    </tr>\n",
       "    <tr>\n",
       "      <th>100% Natural Mexican Grill</th>\n",
       "      <td>0.000000</td>\n",
       "      <td>1.000000</td>\n",
       "      <td>0.000000</td>\n",
       "      <td>0.015927</td>\n",
       "      <td>0.000000</td>\n",
       "    </tr>\n",
       "    <tr>\n",
       "      <th>100℃</th>\n",
       "      <td>0.000000</td>\n",
       "      <td>0.000000</td>\n",
       "      <td>1.000000</td>\n",
       "      <td>0.002140</td>\n",
       "      <td>0.014023</td>\n",
       "    </tr>\n",
       "    <tr>\n",
       "      <th>107 SkyLounge</th>\n",
       "      <td>0.006624</td>\n",
       "      <td>0.015927</td>\n",
       "      <td>0.002140</td>\n",
       "      <td>1.000000</td>\n",
       "      <td>0.009717</td>\n",
       "    </tr>\n",
       "    <tr>\n",
       "      <th>168 Market</th>\n",
       "      <td>0.029843</td>\n",
       "      <td>0.000000</td>\n",
       "      <td>0.014023</td>\n",
       "      <td>0.009717</td>\n",
       "      <td>1.000000</td>\n",
       "    </tr>\n",
       "  </tbody>\n",
       "</table>\n",
       "</div>"
      ],
      "text/plain": [
       "name                        #1 Hawaiian Barbecue  100% Natural Mexican Grill  \\\n",
       "name                                                                           \n",
       "#1 Hawaiian Barbecue                    1.000000                    0.000000   \n",
       "100% Natural Mexican Grill              0.000000                    1.000000   \n",
       "100℃                                    0.000000                    0.000000   \n",
       "107 SkyLounge                           0.006624                    0.015927   \n",
       "168 Market                              0.029843                    0.000000   \n",
       "\n",
       "name                            100℃  107 SkyLounge  168 Market  \n",
       "name                                                             \n",
       "#1 Hawaiian Barbecue        0.000000       0.006624    0.029843  \n",
       "100% Natural Mexican Grill  0.000000       0.015927    0.000000  \n",
       "100℃                        1.000000       0.002140    0.014023  \n",
       "107 SkyLounge               0.002140       1.000000    0.009717  \n",
       "168 Market                  0.014023       0.009717    1.000000  "
      ]
     },
     "execution_count": 142,
     "metadata": {},
     "output_type": "execute_result"
    }
   ],
   "source": [
    "dists.ix[:5,:5]"
   ]
  },
  {
   "cell_type": "code",
   "execution_count": 143,
   "metadata": {
    "collapsed": true
   },
   "outputs": [],
   "source": [
    "def get_similar(rests, n = None):\n",
    "    \"\"\"\n",
    "    Return most similar restaurants excluding restaurants provided.  \n",
    "    \n",
    "    Paramters:\n",
    "    rests: list of restaurants. \n",
    "    \n",
    "    Returns:\n",
    "    ranked_rests: list of rank-ordered restaurants.\n",
    "    \n",
    "    \"\"\"\n",
    "    rests = [rest for rest in rests if rest in dists.columns]\n",
    "    rests_summed = dists[rests].apply(lambda row: np.sum(row), axis = 1)\n",
    "    rests_summed = rests_summed.order(ascending = False)\n",
    "    ranked_rests = rests_summed.index[rests_summed.index.isin(rests) ==False]\n",
    "    ranked_rests = ranked_rests.tolist()\n",
    "    \n",
    "    if n is None:\n",
    "        return ranked_rests\n",
    "    else:\n",
    "        return ranked_rests[:n]\n",
    "\n",
    "def recommend_rests(user):\n",
    "    \"\"\"\n",
    "    Return 10 restaurants with most similarity based on users highest rated restaurants.\n",
    "    \n",
    "    Parameter:\n",
    "    user: user_id in yelp dataset.\n",
    "    \n",
    "    Returns:\n",
    "    get_similar: 10 most similar restaurants.\n",
    "    \"\"\"\n",
    "    user_data = rest_rvws[rest_rvws.user_id == user]\n",
    "    top_rated = user_data[user_data.stars >= 4]\n",
    "    top_rests = top_rated.name.tolist()\n",
    "    return get_similar(top_rests, 10)"
   ]
  },
  {
   "cell_type": "code",
   "execution_count": 144,
   "metadata": {
    "collapsed": false
   },
   "outputs": [
    {
     "name": "stderr",
     "output_type": "stream",
     "text": [
      "/Users/xftim/anaconda/lib/python2.7/site-packages/ipykernel/__main__.py:14: FutureWarning: order is deprecated, use sort_values(...)\n"
     ]
    },
    {
     "data": {
      "text/plain": [
       "['Secret Pizza',\n",
       " 'Bachi Burger',\n",
       " 'Wicked Spoon',\n",
       " 'Mon Ami Gabi',\n",
       " 'Sushi House Goyemon',\n",
       " 'Monta Ramen',\n",
       " 'Bacchanal Buffet',\n",
       " 'Ramen Sora',\n",
       " 'Snowflake Shavery',\n",
       " 'Holsteins Shakes and Buns']"
      ]
     },
     "execution_count": 144,
     "metadata": {},
     "output_type": "execute_result"
    }
   ],
   "source": [
    "recommend_rests(user)"
   ]
  },
  {
   "cell_type": "markdown",
   "metadata": {},
   "source": [
    "### Model-based collaborative filtering\n",
    "\n",
    "* In Model-based collabrative filtering, both items and users parameters are estimated simultaneouly. First,the rating matrix is decomposed by SVD to reduce the demensionalty and extract latent variables. Then, both user and items are represented in term of these latent variables. Item vector characteristic of given features and user vector represent the preferences for a given feature. Rating are the sum of user vector and item vector by taking their dot products.\n"
   ]
  },
  {
   "cell_type": "code",
   "execution_count": 145,
   "metadata": {
    "collapsed": true
   },
   "outputs": [],
   "source": [
    "from sklearn.decomposition import TruncatedSVD\n",
    "from sklearn.pipeline import make_pipeline\n",
    "from sklearn.preprocessing import Normalizer"
   ]
  },
  {
   "cell_type": "code",
   "execution_count": 147,
   "metadata": {
    "collapsed": false
   },
   "outputs": [
    {
     "data": {
      "text/html": [
       "<div>\n",
       "<table border=\"1\" class=\"dataframe\">\n",
       "  <thead>\n",
       "    <tr style=\"text-align: right;\">\n",
       "      <th>user_id</th>\n",
       "      <th>---teJGnwK07UO6_oJfbRw</th>\n",
       "      <th>--0mI_q_0D1CdU4P_hoImQ</th>\n",
       "      <th>--106arHH4D3fLenTl3YZA</th>\n",
       "      <th>--2QZsyXGz1OhiD4-0FQLQ</th>\n",
       "      <th>--3-eGXlu61VQZZy-JviNw</th>\n",
       "      <th>--37T3V10ZeoJ1Il7D2Wzw</th>\n",
       "      <th>--4fX3LBeXoE88gDTK6TKQ</th>\n",
       "      <th>--519Rh5sTtkoUraGzAaKQ</th>\n",
       "      <th>--65q1FpAL_UQtVZ2PTGew</th>\n",
       "      <th>--7266Nwi6RXjKNNKeoFMQ</th>\n",
       "      <th>...</th>\n",
       "      <th>zzlEOrvF8EkkX4fxCwPZdw</th>\n",
       "      <th>zznPTkBKMznV8RdqvDX5Jw</th>\n",
       "      <th>zznUhVBuxM-Hl5_2P6bO_Q</th>\n",
       "      <th>zzntUWPa2pGOpPBe7VZ5AQ</th>\n",
       "      <th>zzpT-Mfyh4jEjdqDerSVnQ</th>\n",
       "      <th>zzrNDzW1GxgaWTBD2yeaaQ</th>\n",
       "      <th>zzv762b871Wp3SVxsFQqHw</th>\n",
       "      <th>zzvflqB4xAcKFbIbS6HSOw</th>\n",
       "      <th>zzvrDmRAYdvIVRGszSFPGQ</th>\n",
       "      <th>zzzfn8ETe8A4kp4HnTK86g</th>\n",
       "    </tr>\n",
       "    <tr>\n",
       "      <th>name</th>\n",
       "      <th></th>\n",
       "      <th></th>\n",
       "      <th></th>\n",
       "      <th></th>\n",
       "      <th></th>\n",
       "      <th></th>\n",
       "      <th></th>\n",
       "      <th></th>\n",
       "      <th></th>\n",
       "      <th></th>\n",
       "      <th></th>\n",
       "      <th></th>\n",
       "      <th></th>\n",
       "      <th></th>\n",
       "      <th></th>\n",
       "      <th></th>\n",
       "      <th></th>\n",
       "      <th></th>\n",
       "      <th></th>\n",
       "      <th></th>\n",
       "      <th></th>\n",
       "    </tr>\n",
       "  </thead>\n",
       "  <tbody>\n",
       "    <tr>\n",
       "      <th>#1 Hawaiian Barbecue</th>\n",
       "      <td>0.0</td>\n",
       "      <td>0.0</td>\n",
       "      <td>0.0</td>\n",
       "      <td>0.0</td>\n",
       "      <td>0.0</td>\n",
       "      <td>0.0</td>\n",
       "      <td>0.0</td>\n",
       "      <td>0.0</td>\n",
       "      <td>0.0</td>\n",
       "      <td>0.0</td>\n",
       "      <td>...</td>\n",
       "      <td>0.0</td>\n",
       "      <td>0.0</td>\n",
       "      <td>0.0</td>\n",
       "      <td>0.0</td>\n",
       "      <td>0.0</td>\n",
       "      <td>0.0</td>\n",
       "      <td>0.0</td>\n",
       "      <td>0.0</td>\n",
       "      <td>0.0</td>\n",
       "      <td>0.0</td>\n",
       "    </tr>\n",
       "    <tr>\n",
       "      <th>100% Natural Mexican Grill</th>\n",
       "      <td>0.0</td>\n",
       "      <td>0.0</td>\n",
       "      <td>0.0</td>\n",
       "      <td>0.0</td>\n",
       "      <td>0.0</td>\n",
       "      <td>0.0</td>\n",
       "      <td>0.0</td>\n",
       "      <td>0.0</td>\n",
       "      <td>0.0</td>\n",
       "      <td>0.0</td>\n",
       "      <td>...</td>\n",
       "      <td>0.0</td>\n",
       "      <td>0.0</td>\n",
       "      <td>0.0</td>\n",
       "      <td>0.0</td>\n",
       "      <td>0.0</td>\n",
       "      <td>0.0</td>\n",
       "      <td>0.0</td>\n",
       "      <td>0.0</td>\n",
       "      <td>0.0</td>\n",
       "      <td>0.0</td>\n",
       "    </tr>\n",
       "  </tbody>\n",
       "</table>\n",
       "<p>2 rows × 228814 columns</p>\n",
       "</div>"
      ],
      "text/plain": [
       "user_id                     ---teJGnwK07UO6_oJfbRw  --0mI_q_0D1CdU4P_hoImQ  \\\n",
       "name                                                                         \n",
       "#1 Hawaiian Barbecue                           0.0                     0.0   \n",
       "100% Natural Mexican Grill                     0.0                     0.0   \n",
       "\n",
       "user_id                     --106arHH4D3fLenTl3YZA  --2QZsyXGz1OhiD4-0FQLQ  \\\n",
       "name                                                                         \n",
       "#1 Hawaiian Barbecue                           0.0                     0.0   \n",
       "100% Natural Mexican Grill                     0.0                     0.0   \n",
       "\n",
       "user_id                     --3-eGXlu61VQZZy-JviNw  --37T3V10ZeoJ1Il7D2Wzw  \\\n",
       "name                                                                         \n",
       "#1 Hawaiian Barbecue                           0.0                     0.0   \n",
       "100% Natural Mexican Grill                     0.0                     0.0   \n",
       "\n",
       "user_id                     --4fX3LBeXoE88gDTK6TKQ  --519Rh5sTtkoUraGzAaKQ  \\\n",
       "name                                                                         \n",
       "#1 Hawaiian Barbecue                           0.0                     0.0   \n",
       "100% Natural Mexican Grill                     0.0                     0.0   \n",
       "\n",
       "user_id                     --65q1FpAL_UQtVZ2PTGew  --7266Nwi6RXjKNNKeoFMQ  \\\n",
       "name                                                                         \n",
       "#1 Hawaiian Barbecue                           0.0                     0.0   \n",
       "100% Natural Mexican Grill                     0.0                     0.0   \n",
       "\n",
       "user_id                              ...            zzlEOrvF8EkkX4fxCwPZdw  \\\n",
       "name                                 ...                                     \n",
       "#1 Hawaiian Barbecue                 ...                               0.0   \n",
       "100% Natural Mexican Grill           ...                               0.0   \n",
       "\n",
       "user_id                     zznPTkBKMznV8RdqvDX5Jw  zznUhVBuxM-Hl5_2P6bO_Q  \\\n",
       "name                                                                         \n",
       "#1 Hawaiian Barbecue                           0.0                     0.0   \n",
       "100% Natural Mexican Grill                     0.0                     0.0   \n",
       "\n",
       "user_id                     zzntUWPa2pGOpPBe7VZ5AQ  zzpT-Mfyh4jEjdqDerSVnQ  \\\n",
       "name                                                                         \n",
       "#1 Hawaiian Barbecue                           0.0                     0.0   \n",
       "100% Natural Mexican Grill                     0.0                     0.0   \n",
       "\n",
       "user_id                     zzrNDzW1GxgaWTBD2yeaaQ  zzv762b871Wp3SVxsFQqHw  \\\n",
       "name                                                                         \n",
       "#1 Hawaiian Barbecue                           0.0                     0.0   \n",
       "100% Natural Mexican Grill                     0.0                     0.0   \n",
       "\n",
       "user_id                     zzvflqB4xAcKFbIbS6HSOw  zzvrDmRAYdvIVRGszSFPGQ  \\\n",
       "name                                                                         \n",
       "#1 Hawaiian Barbecue                           0.0                     0.0   \n",
       "100% Natural Mexican Grill                     0.0                     0.0   \n",
       "\n",
       "user_id                     zzzfn8ETe8A4kp4HnTK86g  \n",
       "name                                                \n",
       "#1 Hawaiian Barbecue                           0.0  \n",
       "100% Natural Mexican Grill                     0.0  \n",
       "\n",
       "[2 rows x 228814 columns]"
      ]
     },
     "execution_count": 147,
     "metadata": {},
     "output_type": "execute_result"
    }
   ],
   "source": [
    "M = rest_rvws.groupby(['name', 'user_id']).stars.mean().unstack()\n",
    "M = np.maximum(-1, (M - 3).fillna(0) / 2.)\n",
    "M.head(2)"
   ]
  },
  {
   "cell_type": "code",
   "execution_count": 148,
   "metadata": {
    "collapsed": false
   },
   "outputs": [
    {
     "name": "stdout",
     "output_type": "stream",
     "text": [
      "Explained variance of the SVD step: 57%\n",
      "Dimensions feature matrix (old): (228814, 4946)\n",
      "Dimensions feature matrix (new): (228814, 500)\n"
     ]
    }
   ],
   "source": [
    "n_components = 500\n",
    "svd = TruncatedSVD(n_components)\n",
    "X_red = svd.fit_transform(M.T)\n",
    "explained_variance = svd.explained_variance_ratio_.sum()\n",
    "print \"Explained variance of the SVD step: %d%%\" % (explained_variance * 100)\n",
    "print \"Dimensions feature matrix (old):\", M.T.shape\n",
    "print \"Dimensions feature matrix (new):\", X_red.shape"
   ]
  },
  {
   "cell_type": "code",
   "execution_count": 154,
   "metadata": {
    "collapsed": false
   },
   "outputs": [
    {
     "data": {
      "image/png": "[encoded data removed]",
      "text/plain": [
       "<matplotlib.figure.Figure at 0x1c1dda690>"
      ]
     },
     "metadata": {},
     "output_type": "display_data"
    }
   ],
   "source": [
    "plt.plot(svd.explained_variance_ratio_.cumsum())\n",
    "f = plt.ylim(0,1)"
   ]
  },
  {
   "cell_type": "code",
   "execution_count": 155,
   "metadata": {
    "collapsed": false
   },
   "outputs": [
    {
     "name": "stderr",
     "output_type": "stream",
     "text": [
      "/Users/xftim/anaconda/lib/python2.7/site-packages/ipykernel/__main__.py:8: FutureWarning: sort is deprecated, use sort_values(inplace=True) for INPLACE sorting\n"
     ]
    },
    {
     "data": {
      "image/png": "[encoded data removed]",
      "text/plain": [
       "<matplotlib.figure.Figure at 0x1c3f00390>"
      ]
     },
     "metadata": {},
     "output_type": "display_data"
    }
   ],
   "source": [
    "rests = M.index\n",
    "top_rests = 10\n",
    "n_rows, n_cols = 3,2\n",
    "top_components = n_rows * n_cols\n",
    "f, axes = plt.subplots(n_rows, n_cols, figsize=(20, n_rows * 3))\n",
    "for no, component in enumerate(svd.components_[:top_components]):\n",
    "    ax = axes[no / n_cols][no % n_cols]\n",
    "    s = pd.Series(svd.components_[no], index = M.index ).sort(inplace=False)[-top_rests:]\n",
    "    s.plot(kind='barh', ax=ax, title=\"Component %d\\nexplained variance %4.1f\" % \n",
    "           (no, 100 * svd.explained_variance_ratio_[no]))\n",
    "f = plt.tight_layout()"
   ]
  },
  {
   "cell_type": "code",
   "execution_count": 156,
   "metadata": {
    "collapsed": false
   },
   "outputs": [
    {
     "data": {
      "text/plain": [
       "array([[ -6.85963992e-04,   1.36399586e-04,  -3.87922980e-04, ...,\n",
       "         -3.30225099e-03,   4.07617011e-04,  -5.65520679e-04],\n",
       "       [  2.61979709e-02,   1.44259047e-02,   1.97144899e-02, ...,\n",
       "          8.43927240e-03,  -2.40580306e-03,  -1.76572799e-03],\n",
       "       [ -1.97829051e-03,  -1.00400640e-03,  -1.57797713e-03, ...,\n",
       "          1.64066752e-02,  -5.25777664e-03,   1.59566387e-02],\n",
       "       ..., \n",
       "       [  3.65122134e-01,   1.42235468e-01,   1.28178565e-01, ...,\n",
       "         -4.72370006e-03,   3.60742383e-03,  -5.70434915e-04],\n",
       "       [  1.22304689e-03,   3.83440119e-04,   6.88833294e-04, ...,\n",
       "          2.19728760e-03,   1.07943725e-02,  -6.54569311e-03],\n",
       "       [  8.20330547e-02,   2.62673507e-02,   2.41378300e-02, ...,\n",
       "         -5.57979900e-03,   1.41243789e-03,   2.73647950e-03]])"
      ]
     },
     "execution_count": 156,
     "metadata": {},
     "output_type": "execute_result"
    }
   ],
   "source": [
    "X_red"
   ]
  },
  {
   "cell_type": "code",
   "execution_count": 157,
   "metadata": {
    "collapsed": false
   },
   "outputs": [
    {
     "name": "stderr",
     "output_type": "stream",
     "text": [
      "/Users/xftim/anaconda/lib/python2.7/site-packages/ipykernel/__main__.py:3: FutureWarning: sort is deprecated, use sort_values(inplace=True) for INPLACE sorting\n",
      "  app.launch_new_instance()\n"
     ]
    },
    {
     "data": {
      "text/plain": [
       "name\n",
       "Lotus of Siam                                  1.000003\n",
       "The Barrymore                                  0.987247\n",
       "Kung Fu Tea                                    0.982145\n",
       "Earl of Sandwich                               0.500344\n",
       "The Peppermill Restaurant & Fireside Lounge    0.500275\n",
       "Orchids Garden Chinese Restaurant              0.039722\n",
       "Glutton                                        0.038122\n",
       "Gilley's                                       0.037819\n",
       "Project Pie - MGM                              0.036499\n",
       "Ghostbar                                       0.036237\n",
       "dtype: float64"
      ]
     },
     "execution_count": 157,
     "metadata": {},
     "output_type": "execute_result"
    }
   ],
   "source": [
    "userid = list(M.columns).index(user)\n",
    "rest_recs = X_red[userid].dot(svd.components_)\n",
    "rest_recs = pd.Series(rest_recs, index=M.index).sort(ascending = False, inplace=False)\n",
    "rest_recs[:10]"
   ]
  }
 ],
 "metadata": {
  "kernelspec": {
   "display_name": "Python 2",
   "language": "python",
   "name": "python2"
  },
  "language_info": {
   "codemirror_mode": {
    "name": "ipython",
    "version": 2
   },
   "file_extension": ".py",
   "mimetype": "text/x-python",
   "name": "python",
   "nbconvert_exporter": "python",
   "pygments_lexer": "ipython2",
   "version": "2.7.11"
  }
 },
 "nbformat": 4,
 "nbformat_minor": 0
}
