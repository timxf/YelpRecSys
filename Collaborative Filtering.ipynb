{
 "cells": [
  {
   "cell_type": "markdown",
   "metadata": {
    "collapsed": false
   },
   "source": [
    "#Project: Recommendation System for Yelp Users\n",
    "### Aim: The purpose of this project is create a recommendation system  based on user's review text and star ratings for restaurants in Las Vegas with the data provided by Yelp Data Challenge.\n",
    "\n",
    "### Data: There are 1M reviews, 61K businesses, 10 different cities, over 11 year. <https://www.yelp.com/dataset_challenge/dataset>\n",
    "\n",
    "### Methods: \n",
    "1. Content-based filtering: \n",
    "  - A. Mapping restaurants and reviewers into a feature space and compute distance between restaurants and reviwers using dot products. And predict rating with linear model. \n",
    "  - B. Mapping review texts into feature space and recommed restaurant with similar text reviews to reviews. (different notebook)\n",
    "  \n",
    "  \n",
    "2. Collaborative filtering: \n",
    "  - A. Item-based: Compute similarity between restaurants, recommend restaurants most similar to reviewer's item.\n",
    "  - B. Model-based: Use restaurant categories to create latent variables in the rating data. Ratings are comoputed by dot products of users & items vectors in the latent feature space."
   ]
  },
  {
   "cell_type": "code",
   "execution_count": 2,
   "metadata": {
    "collapsed": false
   },
   "outputs": [],
   "source": [
    "#import json_to_csv_converter as jc\n",
    "import numpy as np\n",
    "import pandas as pd\n",
    "from sklearn.linear_model import LinearRegression, Lasso, Ridge\n",
    "from sklearn.cross_validation import cross_val_score, train_test_split\n",
    "from sklearn.feature_extraction.text import CountVectorizer\n",
    "from patsy import dmatrix\n",
    "import seaborn as sb\n",
    "from matplotlib import pyplot as plt\n",
    "import recsys.algorithm\n",
    "%matplotlib inline"
   ]
  },
  {
   "cell_type": "markdown",
   "metadata": {},
   "source": [
    "#### Data Preprocessing\n",
    "Convert JSON data to csv files"
   ]
  },
  {
   "cell_type": "code",
   "execution_count": 3,
   "metadata": {
    "collapsed": false
   },
   "outputs": [],
   "source": [
    "#business_path = 'yelp_dataset_challenge_academic_dataset 2/yelp_academic_dataset_business.json'\n",
    "#business_cols = jc.get_superset_of_column_names_from_file(business_path)\n",
    "#jc.read_and_write_file(business_path, \"business.csv\", column_names = business_cols)\n",
    "#review_path = 'yelp_dataset_challenge_academic_dataset 2/yelp_academic_dataset_review.json'\n",
    "#review_cols = jc.get_superset_of_column_names_from_file(review_path)\n",
    "#jc.read_and_write_file(review_path, \"review.csv\", review_cols)\n",
    "#user_path = 'yelp_dataset_challenge_academic_dataset 2/yelp_academic_dataset_user.json'\n",
    "#user_cols = jc.get_superset_of_column_names_from_file(user_path)\n",
    "#jc.read_and_write_file(user_path, \"user.csv\", user_cols)"
   ]
  },
  {
   "cell_type": "markdown",
   "metadata": {},
   "source": [
    "Read csv files"
   ]
  },
  {
   "cell_type": "code",
   "execution_count": 4,
   "metadata": {
    "collapsed": false
   },
   "outputs": [
    {
     "name": "stderr",
     "output_type": "stream",
     "text": [
      "/Users/xftim/anaconda/lib/python2.7/site-packages/pandas/io/parsers.py:1170: DtypeWarning: Columns (1,4,7,14,18,21,27,30,43,49,52,62,64,66,70,84,89,92,100) have mixed types. Specify dtype option on import or set low_memory=False.\n",
      "  data = self._reader.read(nrows)\n"
     ]
    }
   ],
   "source": [
    "business = pd.read_csv(\"business.csv\")\n",
    "review = pd.read_csv(\"review.csv\")\n",
    "user = pd.read_csv(\"user.csv\")"
   ]
  },
  {
   "cell_type": "code",
   "execution_count": 5,
   "metadata": {
    "collapsed": false
   },
   "outputs": [
    {
     "name": "stdout",
     "output_type": "stream",
     "text": [
      "61184\n",
      "1037488\n",
      "366715\n"
     ]
    }
   ],
   "source": [
    "print len(business)\n",
    "print len(review)\n",
    "print len(user)"
   ]
  },
  {
   "cell_type": "markdown",
   "metadata": {},
   "source": [
    "The business dataset contains 61K observations, the review dataset contains 1M observarions, and the user dataset contains 36 observations."
   ]
  },
  {
   "cell_type": "code",
   "execution_count": 6,
   "metadata": {
    "collapsed": true
   },
   "outputs": [],
   "source": [
    "#business.columns.tolist()\n",
    "#business['categories'].unique()\n",
    "#business.city.unique()"
   ]
  },
  {
   "cell_type": "markdown",
   "metadata": {},
   "source": [
    "Extract 'city','categories','business_id', and 'name' from business dataset. Choose restaurants that are only in Las Vegas."
   ]
  },
  {
   "cell_type": "code",
   "execution_count": 7,
   "metadata": {
    "collapsed": false
   },
   "outputs": [],
   "source": [
    "business_df = business[['city','categories','business_id', 'name']]\n",
    "business_df = business_df[(business_df['city'] == 'Las Vegas')]\n",
    "ind = []\n",
    "for i in range(0, len(business_df.categories)):\n",
    "    if 'Food' in business_df[i:i+1].categories.to_string() or 'Restaurants' in business_df[i:i+1].categories.to_string():\n",
    "        ind.append(i)      \n",
    "\n",
    "rest = business_df.iloc[ind]"
   ]
  },
  {
   "cell_type": "code",
   "execution_count": 8,
   "metadata": {
    "collapsed": false
   },
   "outputs": [
    {
     "data": {
      "text/html": [
       "<div>\n",
       "<table border=\"1\" class=\"dataframe\">\n",
       "  <thead>\n",
       "    <tr style=\"text-align: right;\">\n",
       "      <th></th>\n",
       "      <th>city</th>\n",
       "      <th>categories</th>\n",
       "      <th>business_id</th>\n",
       "      <th>name</th>\n",
       "    </tr>\n",
       "  </thead>\n",
       "  <tbody>\n",
       "    <tr>\n",
       "      <th>6856</th>\n",
       "      <td>Las Vegas</td>\n",
       "      <td>['Wine Bars', 'Bars', 'Restaurants', 'Nightlif...</td>\n",
       "      <td>_SM8UKIwBNbmj1r629ipoQ</td>\n",
       "      <td>Chianti Cafe</td>\n",
       "    </tr>\n",
       "    <tr>\n",
       "      <th>7111</th>\n",
       "      <td>Las Vegas</td>\n",
       "      <td>['Pizza', 'Restaurants']</td>\n",
       "      <td>AgtFQVxo-PGQVsOdY6Nvdg</td>\n",
       "      <td>Pizza Hut</td>\n",
       "    </tr>\n",
       "  </tbody>\n",
       "</table>\n",
       "</div>"
      ],
      "text/plain": [
       "           city                                         categories  \\\n",
       "6856  Las Vegas  ['Wine Bars', 'Bars', 'Restaurants', 'Nightlif...   \n",
       "7111  Las Vegas                           ['Pizza', 'Restaurants']   \n",
       "\n",
       "                 business_id          name  \n",
       "6856  _SM8UKIwBNbmj1r629ipoQ  Chianti Cafe  \n",
       "7111  AgtFQVxo-PGQVsOdY6Nvdg     Pizza Hut  "
      ]
     },
     "execution_count": 8,
     "metadata": {},
     "output_type": "execute_result"
    }
   ],
   "source": [
    "rest.head(2)"
   ]
  },
  {
   "cell_type": "markdown",
   "metadata": {},
   "source": [
    "Extract 'user_id','stars','business_id' from review dataset. "
   ]
  },
  {
   "cell_type": "code",
   "execution_count": 9,
   "metadata": {
    "collapsed": false
   },
   "outputs": [
    {
     "data": {
      "text/html": [
       "<div>\n",
       "<table border=\"1\" class=\"dataframe\">\n",
       "  <thead>\n",
       "    <tr style=\"text-align: right;\">\n",
       "      <th></th>\n",
       "      <th>user_id</th>\n",
       "      <th>review_id</th>\n",
       "      <th>text</th>\n",
       "      <th>votes.cool</th>\n",
       "      <th>business_id</th>\n",
       "      <th>votes.funny</th>\n",
       "      <th>stars</th>\n",
       "      <th>date</th>\n",
       "      <th>type</th>\n",
       "      <th>votes.useful</th>\n",
       "    </tr>\n",
       "  </thead>\n",
       "  <tbody>\n",
       "    <tr>\n",
       "      <th>0</th>\n",
       "      <td>Xqd0DzHaiyRqVH3WRG7hzg</td>\n",
       "      <td>15SdjuK7DmYqUAj6rjGowg</td>\n",
       "      <td>dr. goldberg offers everything i look for in a...</td>\n",
       "      <td>1</td>\n",
       "      <td>vcNAWiLM4dR7D2nwwJ7nCA</td>\n",
       "      <td>0</td>\n",
       "      <td>5</td>\n",
       "      <td>2007-05-17</td>\n",
       "      <td>review</td>\n",
       "      <td>2</td>\n",
       "    </tr>\n",
       "    <tr>\n",
       "      <th>1</th>\n",
       "      <td>H1kH6QZV7Le4zqTRNxoZow</td>\n",
       "      <td>RF6UnRTtG7tWMcrO2GEoAg</td>\n",
       "      <td>Unfortunately, the frustration of being Dr. Go...</td>\n",
       "      <td>0</td>\n",
       "      <td>vcNAWiLM4dR7D2nwwJ7nCA</td>\n",
       "      <td>0</td>\n",
       "      <td>2</td>\n",
       "      <td>2010-03-22</td>\n",
       "      <td>review</td>\n",
       "      <td>2</td>\n",
       "    </tr>\n",
       "  </tbody>\n",
       "</table>\n",
       "</div>"
      ],
      "text/plain": [
       "                  user_id               review_id  \\\n",
       "0  Xqd0DzHaiyRqVH3WRG7hzg  15SdjuK7DmYqUAj6rjGowg   \n",
       "1  H1kH6QZV7Le4zqTRNxoZow  RF6UnRTtG7tWMcrO2GEoAg   \n",
       "\n",
       "                                                text  votes.cool  \\\n",
       "0  dr. goldberg offers everything i look for in a...           1   \n",
       "1  Unfortunately, the frustration of being Dr. Go...           0   \n",
       "\n",
       "              business_id  votes.funny  stars        date    type  \\\n",
       "0  vcNAWiLM4dR7D2nwwJ7nCA            0      5  2007-05-17  review   \n",
       "1  vcNAWiLM4dR7D2nwwJ7nCA            0      2  2010-03-22  review   \n",
       "\n",
       "   votes.useful  \n",
       "0             2  \n",
       "1             2  "
      ]
     },
     "execution_count": 9,
     "metadata": {},
     "output_type": "execute_result"
    }
   ],
   "source": [
    "review.head(2)"
   ]
  },
  {
   "cell_type": "code",
   "execution_count": 10,
   "metadata": {
    "collapsed": true
   },
   "outputs": [],
   "source": [
    "rvws = review[['user_id','stars','business_id']]"
   ]
  },
  {
   "cell_type": "markdown",
   "metadata": {},
   "source": [
    "Merge business dataset and review dataset on the buiness id. "
   ]
  },
  {
   "cell_type": "code",
   "execution_count": 11,
   "metadata": {
    "collapsed": false
   },
   "outputs": [
    {
     "data": {
      "text/html": [
       "<div>\n",
       "<table border=\"1\" class=\"dataframe\">\n",
       "  <thead>\n",
       "    <tr style=\"text-align: right;\">\n",
       "      <th></th>\n",
       "      <th>city</th>\n",
       "      <th>categories</th>\n",
       "      <th>business_id</th>\n",
       "      <th>name</th>\n",
       "      <th>user_id</th>\n",
       "      <th>stars</th>\n",
       "    </tr>\n",
       "  </thead>\n",
       "  <tbody>\n",
       "    <tr>\n",
       "      <th>0</th>\n",
       "      <td>Las Vegas</td>\n",
       "      <td>['Wine Bars', 'Bars', 'Restaurants', 'Nightlif...</td>\n",
       "      <td>_SM8UKIwBNbmj1r629ipoQ</td>\n",
       "      <td>Chianti Cafe</td>\n",
       "      <td>RZwkUvViHYEh5Z65--cVZw</td>\n",
       "      <td>4</td>\n",
       "    </tr>\n",
       "    <tr>\n",
       "      <th>1</th>\n",
       "      <td>Las Vegas</td>\n",
       "      <td>['Wine Bars', 'Bars', 'Restaurants', 'Nightlif...</td>\n",
       "      <td>_SM8UKIwBNbmj1r629ipoQ</td>\n",
       "      <td>Chianti Cafe</td>\n",
       "      <td>mW0l2ZhDeAAgjXPz_x2qRQ</td>\n",
       "      <td>4</td>\n",
       "    </tr>\n",
       "  </tbody>\n",
       "</table>\n",
       "</div>"
      ],
      "text/plain": [
       "        city                                         categories  \\\n",
       "0  Las Vegas  ['Wine Bars', 'Bars', 'Restaurants', 'Nightlif...   \n",
       "1  Las Vegas  ['Wine Bars', 'Bars', 'Restaurants', 'Nightlif...   \n",
       "\n",
       "              business_id          name                 user_id  stars  \n",
       "0  _SM8UKIwBNbmj1r629ipoQ  Chianti Cafe  RZwkUvViHYEh5Z65--cVZw      4  \n",
       "1  _SM8UKIwBNbmj1r629ipoQ  Chianti Cafe  mW0l2ZhDeAAgjXPz_x2qRQ      4  "
      ]
     },
     "execution_count": 11,
     "metadata": {},
     "output_type": "execute_result"
    }
   ],
   "source": [
    "rest_rvws = pd.merge(rest, rvws, on = 'business_id')\n",
    "rest_rvws.head(2)"
   ]
  },
  {
   "cell_type": "markdown",
   "metadata": {},
   "source": [
    "#### Data Exploration"
   ]
  },
  {
   "cell_type": "code",
   "execution_count": 12,
   "metadata": {
    "collapsed": false
   },
   "outputs": [
    {
     "name": "stdout",
     "output_type": "stream",
     "text": [
      "city                :       1 uniques\n",
      "categories          :     448 uniques\n",
      "business_id         :    2539 uniques\n",
      "name                :    1706 uniques\n",
      "user_id             :   77840 uniques\n",
      "stars               :       5 uniques\n"
     ]
    }
   ],
   "source": [
    "for col in rest_rvws:\n",
    "    print \"%-20s: %7d uniques\" % (col, rest_rvws[col].nunique())"
   ]
  },
  {
   "cell_type": "code",
   "execution_count": 13,
   "metadata": {
    "collapsed": false
   },
   "outputs": [
    {
     "data": {
      "text/plain": [
       "190789"
      ]
     },
     "execution_count": 13,
     "metadata": {},
     "output_type": "execute_result"
    }
   ],
   "source": [
    "len(rest_rvws)"
   ]
  },
  {
   "cell_type": "code",
   "execution_count": 14,
   "metadata": {
    "collapsed": false
   },
   "outputs": [
    {
     "data": {
      "text/plain": [
       "1    181404\n",
       "2      2770\n",
       "3       152\n",
       "4         7\n",
       "5         1\n",
       "dtype: int64"
      ]
     },
     "execution_count": 14,
     "metadata": {},
     "output_type": "execute_result"
    }
   ],
   "source": [
    "n_reviews = rest_rvws.groupby(['name', 'user_id']).stars.nunique()\n",
    "n_reviews.value_counts()"
   ]
  },
  {
   "cell_type": "markdown",
   "metadata": {},
   "source": [
    "The dataset contains:\n",
    "- 2539 restaurants.\n",
    "- 1706 restaurants names, many might be franchise.\n",
    "- Highest rating with 5 stars\n",
    "- 77840 reviewers\n",
    "\n",
    "Since franchise is likely to serve the same food and some properties, we use restaurant name instead of business IDs.\n",
    "\n",
    "There are:\n",
    "- 190789 observations\n",
    "\n",
    "The reviewers might have muliple reviews for a restaurant, so we take the average ratings.\n",
    "\n"
   ]
  },
  {
   "cell_type": "markdown",
   "metadata": {},
   "source": [
    "The distribution of ratings:"
   ]
  },
  {
   "cell_type": "code",
   "execution_count": 15,
   "metadata": {
    "collapsed": false
   },
   "outputs": [
    {
     "data": {
      "image/png": "[encoded data removed]",
      "text/plain": [
       "<matplotlib.figure.Figure at 0x10c258890>"
      ]
     },
     "metadata": {},
     "output_type": "display_data"
    }
   ],
   "source": [
    "f = rest_rvws.stars.hist(bins=5)\n",
    "f = plt.title(\"Overall Ratings\")"
   ]
  },
  {
   "cell_type": "markdown",
   "metadata": {},
   "source": [
    "###Content-Based Flitering\n",
    "\n",
    "Content-based filtering focus on the properties of items. Similarity of items is measured based on similarity of their properties.[MMD, Leskoves]\n",
    "Restaurant catorgeries (Wine Bars, Bars, Pizza, Italian, etc.) are used to map as features of the restaurants.  "
   ]
  },
  {
   "cell_type": "code",
   "execution_count": 16,
   "metadata": {
    "collapsed": false
   },
   "outputs": [
    {
     "name": "stdout",
     "output_type": "stream",
     "text": [
      "[\"['Wine Bars', 'Bars', 'Restaurants', 'Nightlife', 'Italian']\"]\n",
      "[\"['Pizza', 'Restaurants']\"]\n"
     ]
    }
   ],
   "source": [
    "print rest_rvws.categories[2:3].tolist()\n",
    "print rest_rvws.categories[9:10].tolist()"
   ]
  },
  {
   "cell_type": "code",
   "execution_count": 17,
   "metadata": {
    "collapsed": false
   },
   "outputs": [],
   "source": [
    "max_features = 5000\n",
    "cv = CountVectorizer(max_features=max_features)\n",
    "X_cag = cv.fit_transform(rest_rvws.categories)"
   ]
  },
  {
   "cell_type": "code",
   "execution_count": 18,
   "metadata": {
    "collapsed": false
   },
   "outputs": [
    {
     "name": "stdout",
     "output_type": "stream",
     "text": [
      "(190789, 197)\n"
     ]
    }
   ],
   "source": [
    "X = np.hstack([X_cag.toarray()])\n",
    "y = rest_rvws.stars\n",
    "n_samples, n_features = X.shape\n",
    "print X.shape"
   ]
  },
  {
   "cell_type": "markdown",
   "metadata": {},
   "source": [
    "#### Dot-product method\n",
    "\n",
    "First, we use the index of first occurance restaurant for its repressenation. Then, give its features same score as the ratings and then average all ratings per user to get a user profile. Each rating is subtracted by 3, so bad ratings are negative and good ratings are postive.  "
   ]
  },
  {
   "cell_type": "code",
   "execution_count": 19,
   "metadata": {
    "collapsed": false
   },
   "outputs": [
    {
     "name": "stdout",
     "output_type": "stream",
     "text": [
      "(1706, 197)\n"
     ]
    },
    {
     "data": {
      "text/html": [
       "<div>\n",
       "<table border=\"1\" class=\"dataframe\">\n",
       "  <thead>\n",
       "    <tr style=\"text-align: right;\">\n",
       "      <th></th>\n",
       "      <th>0</th>\n",
       "      <th>1</th>\n",
       "      <th>2</th>\n",
       "      <th>3</th>\n",
       "      <th>4</th>\n",
       "      <th>5</th>\n",
       "      <th>6</th>\n",
       "      <th>7</th>\n",
       "      <th>8</th>\n",
       "      <th>9</th>\n",
       "      <th>...</th>\n",
       "      <th>187</th>\n",
       "      <th>188</th>\n",
       "      <th>189</th>\n",
       "      <th>190</th>\n",
       "      <th>191</th>\n",
       "      <th>192</th>\n",
       "      <th>193</th>\n",
       "      <th>194</th>\n",
       "      <th>195</th>\n",
       "      <th>196</th>\n",
       "    </tr>\n",
       "    <tr>\n",
       "      <th>name</th>\n",
       "      <th></th>\n",
       "      <th></th>\n",
       "      <th></th>\n",
       "      <th></th>\n",
       "      <th></th>\n",
       "      <th></th>\n",
       "      <th></th>\n",
       "      <th></th>\n",
       "      <th></th>\n",
       "      <th></th>\n",
       "      <th></th>\n",
       "      <th></th>\n",
       "      <th></th>\n",
       "      <th></th>\n",
       "      <th></th>\n",
       "      <th></th>\n",
       "      <th></th>\n",
       "      <th></th>\n",
       "      <th></th>\n",
       "      <th></th>\n",
       "      <th></th>\n",
       "    </tr>\n",
       "  </thead>\n",
       "  <tbody>\n",
       "    <tr>\n",
       "      <th>168 Market</th>\n",
       "      <td>0</td>\n",
       "      <td>0</td>\n",
       "      <td>0</td>\n",
       "      <td>0</td>\n",
       "      <td>0</td>\n",
       "      <td>0</td>\n",
       "      <td>0</td>\n",
       "      <td>0</td>\n",
       "      <td>0</td>\n",
       "      <td>0</td>\n",
       "      <td>...</td>\n",
       "      <td>0</td>\n",
       "      <td>0</td>\n",
       "      <td>0</td>\n",
       "      <td>0</td>\n",
       "      <td>0</td>\n",
       "      <td>0</td>\n",
       "      <td>0</td>\n",
       "      <td>0</td>\n",
       "      <td>0</td>\n",
       "      <td>0</td>\n",
       "    </tr>\n",
       "    <tr>\n",
       "      <th>3 Tomatoes and A Mozzarella</th>\n",
       "      <td>0</td>\n",
       "      <td>0</td>\n",
       "      <td>0</td>\n",
       "      <td>0</td>\n",
       "      <td>0</td>\n",
       "      <td>0</td>\n",
       "      <td>0</td>\n",
       "      <td>0</td>\n",
       "      <td>0</td>\n",
       "      <td>0</td>\n",
       "      <td>...</td>\n",
       "      <td>0</td>\n",
       "      <td>0</td>\n",
       "      <td>0</td>\n",
       "      <td>0</td>\n",
       "      <td>0</td>\n",
       "      <td>0</td>\n",
       "      <td>0</td>\n",
       "      <td>0</td>\n",
       "      <td>0</td>\n",
       "      <td>0</td>\n",
       "    </tr>\n",
       "  </tbody>\n",
       "</table>\n",
       "<p>2 rows × 197 columns</p>\n",
       "</div>"
      ],
      "text/plain": [
       "                             0    1    2    3    4    5    6    7    8    9    \\\n",
       "name                                                                            \n",
       "168 Market                     0    0    0    0    0    0    0    0    0    0   \n",
       "3 Tomatoes and A Mozzarella    0    0    0    0    0    0    0    0    0    0   \n",
       "\n",
       "                            ...   187  188  189  190  191  192  193  194  195  \\\n",
       "name                        ...                                                 \n",
       "168 Market                  ...     0    0    0    0    0    0    0    0    0   \n",
       "3 Tomatoes and A Mozzarella ...     0    0    0    0    0    0    0    0    0   \n",
       "\n",
       "                             196  \n",
       "name                              \n",
       "168 Market                     0  \n",
       "3 Tomatoes and A Mozzarella    0  \n",
       "\n",
       "[2 rows x 197 columns]"
      ]
     },
     "execution_count": 19,
     "metadata": {},
     "output_type": "execute_result"
    }
   ],
   "source": [
    "uniques, idx = np.unique(rest_rvws.name, return_index=True)\n",
    "rest_features = pd.DataFrame(X[idx, :], index=rest_rvws.name[idx])\n",
    "print rest_features.shape\n",
    "rest_features.head(2)"
   ]
  },
  {
   "cell_type": "code",
   "execution_count": 20,
   "metadata": {
    "collapsed": false
   },
   "outputs": [
    {
     "data": {
      "text/html": [
       "<div>\n",
       "<table border=\"1\" class=\"dataframe\">\n",
       "  <thead>\n",
       "    <tr style=\"text-align: right;\">\n",
       "      <th></th>\n",
       "      <th>0</th>\n",
       "      <th>1</th>\n",
       "      <th>2</th>\n",
       "      <th>3</th>\n",
       "      <th>4</th>\n",
       "      <th>5</th>\n",
       "      <th>6</th>\n",
       "      <th>7</th>\n",
       "      <th>8</th>\n",
       "      <th>9</th>\n",
       "      <th>...</th>\n",
       "      <th>187</th>\n",
       "      <th>188</th>\n",
       "      <th>189</th>\n",
       "      <th>190</th>\n",
       "      <th>191</th>\n",
       "      <th>192</th>\n",
       "      <th>193</th>\n",
       "      <th>194</th>\n",
       "      <th>195</th>\n",
       "      <th>196</th>\n",
       "    </tr>\n",
       "    <tr>\n",
       "      <th>user_id</th>\n",
       "      <th></th>\n",
       "      <th></th>\n",
       "      <th></th>\n",
       "      <th></th>\n",
       "      <th></th>\n",
       "      <th></th>\n",
       "      <th></th>\n",
       "      <th></th>\n",
       "      <th></th>\n",
       "      <th></th>\n",
       "      <th></th>\n",
       "      <th></th>\n",
       "      <th></th>\n",
       "      <th></th>\n",
       "      <th></th>\n",
       "      <th></th>\n",
       "      <th></th>\n",
       "      <th></th>\n",
       "      <th></th>\n",
       "      <th></th>\n",
       "      <th></th>\n",
       "    </tr>\n",
       "  </thead>\n",
       "  <tbody>\n",
       "    <tr>\n",
       "      <th>--2QZsyXGz1OhiD4-0FQLQ</th>\n",
       "      <td>0</td>\n",
       "      <td>0</td>\n",
       "      <td>0</td>\n",
       "      <td>0</td>\n",
       "      <td>0</td>\n",
       "      <td>0</td>\n",
       "      <td>0</td>\n",
       "      <td>0</td>\n",
       "      <td>0</td>\n",
       "      <td>0</td>\n",
       "      <td>...</td>\n",
       "      <td>0</td>\n",
       "      <td>0</td>\n",
       "      <td>0</td>\n",
       "      <td>0</td>\n",
       "      <td>0</td>\n",
       "      <td>0</td>\n",
       "      <td>0</td>\n",
       "      <td>0.000000</td>\n",
       "      <td>0</td>\n",
       "      <td>0</td>\n",
       "    </tr>\n",
       "    <tr>\n",
       "      <th>--4fX3LBeXoE88gDTK6TKQ</th>\n",
       "      <td>0</td>\n",
       "      <td>0</td>\n",
       "      <td>0</td>\n",
       "      <td>0</td>\n",
       "      <td>0</td>\n",
       "      <td>0</td>\n",
       "      <td>0</td>\n",
       "      <td>0</td>\n",
       "      <td>0</td>\n",
       "      <td>0</td>\n",
       "      <td>...</td>\n",
       "      <td>0</td>\n",
       "      <td>0</td>\n",
       "      <td>0</td>\n",
       "      <td>0</td>\n",
       "      <td>0</td>\n",
       "      <td>0</td>\n",
       "      <td>0</td>\n",
       "      <td>0.153846</td>\n",
       "      <td>0</td>\n",
       "      <td>0</td>\n",
       "    </tr>\n",
       "  </tbody>\n",
       "</table>\n",
       "<p>2 rows × 197 columns</p>\n",
       "</div>"
      ],
      "text/plain": [
       "                        0    1    2    3    4    5    6    7    8    9   ...   \\\n",
       "user_id                                                                  ...    \n",
       "--2QZsyXGz1OhiD4-0FQLQ    0    0    0    0    0    0    0    0    0    0 ...    \n",
       "--4fX3LBeXoE88gDTK6TKQ    0    0    0    0    0    0    0    0    0    0 ...    \n",
       "\n",
       "                        187  188  189  190  191  192  193       194  195  196  \n",
       "user_id                                                                        \n",
       "--2QZsyXGz1OhiD4-0FQLQ    0    0    0    0    0    0    0  0.000000    0    0  \n",
       "--4fX3LBeXoE88gDTK6TKQ    0    0    0    0    0    0    0  0.153846    0    0  \n",
       "\n",
       "[2 rows x 197 columns]"
      ]
     },
     "execution_count": 20,
     "metadata": {},
     "output_type": "execute_result"
    }
   ],
   "source": [
    "reviewer_features = pd.DataFrame(X * (rest_rvws.stars.values - 3).reshape(n_samples, 1))\n",
    "reviewer_features['user_id'] = rest_rvws.user_id\n",
    "reviewer_features = reviewer_features.groupby('user_id')[range(n_features)].mean()\n",
    "reviewer_features = reviewer_features.divide(reviewer_features.sum(axis=1), axis=0)\n",
    "reviewer_features.head(2)"
   ]
  },
  {
   "cell_type": "code",
   "execution_count": 21,
   "metadata": {
    "collapsed": false
   },
   "outputs": [
    {
     "data": {
      "text/plain": [
       "77840"
      ]
     },
     "execution_count": 21,
     "metadata": {},
     "output_type": "execute_result"
    }
   ],
   "source": [
    "len(reviewer_features)"
   ]
  },
  {
   "cell_type": "code",
   "execution_count": 22,
   "metadata": {
    "collapsed": false
   },
   "outputs": [
    {
     "data": {
      "text/html": [
       "<div>\n",
       "<table border=\"1\" class=\"dataframe\">\n",
       "  <thead>\n",
       "    <tr style=\"text-align: right;\">\n",
       "      <th></th>\n",
       "      <th>0</th>\n",
       "      <th>1</th>\n",
       "      <th>2</th>\n",
       "      <th>3</th>\n",
       "      <th>4</th>\n",
       "      <th>5</th>\n",
       "      <th>6</th>\n",
       "      <th>7</th>\n",
       "      <th>8</th>\n",
       "      <th>9</th>\n",
       "      <th>...</th>\n",
       "      <th>187</th>\n",
       "      <th>188</th>\n",
       "      <th>189</th>\n",
       "      <th>190</th>\n",
       "      <th>191</th>\n",
       "      <th>192</th>\n",
       "      <th>193</th>\n",
       "      <th>194</th>\n",
       "      <th>195</th>\n",
       "      <th>196</th>\n",
       "    </tr>\n",
       "    <tr>\n",
       "      <th>user_id</th>\n",
       "      <th></th>\n",
       "      <th></th>\n",
       "      <th></th>\n",
       "      <th></th>\n",
       "      <th></th>\n",
       "      <th></th>\n",
       "      <th></th>\n",
       "      <th></th>\n",
       "      <th></th>\n",
       "      <th></th>\n",
       "      <th></th>\n",
       "      <th></th>\n",
       "      <th></th>\n",
       "      <th></th>\n",
       "      <th></th>\n",
       "      <th></th>\n",
       "      <th></th>\n",
       "      <th></th>\n",
       "      <th></th>\n",
       "      <th></th>\n",
       "      <th></th>\n",
       "    </tr>\n",
       "  </thead>\n",
       "  <tbody>\n",
       "    <tr>\n",
       "      <th>--2QZsyXGz1OhiD4-0FQLQ</th>\n",
       "      <td>0</td>\n",
       "      <td>0</td>\n",
       "      <td>0</td>\n",
       "      <td>0</td>\n",
       "      <td>0</td>\n",
       "      <td>0</td>\n",
       "      <td>0</td>\n",
       "      <td>0</td>\n",
       "      <td>0</td>\n",
       "      <td>0</td>\n",
       "      <td>...</td>\n",
       "      <td>0</td>\n",
       "      <td>0</td>\n",
       "      <td>0</td>\n",
       "      <td>0</td>\n",
       "      <td>0</td>\n",
       "      <td>0</td>\n",
       "      <td>0</td>\n",
       "      <td>0.000000</td>\n",
       "      <td>0</td>\n",
       "      <td>0</td>\n",
       "    </tr>\n",
       "    <tr>\n",
       "      <th>--4fX3LBeXoE88gDTK6TKQ</th>\n",
       "      <td>0</td>\n",
       "      <td>0</td>\n",
       "      <td>0</td>\n",
       "      <td>0</td>\n",
       "      <td>0</td>\n",
       "      <td>0</td>\n",
       "      <td>0</td>\n",
       "      <td>0</td>\n",
       "      <td>0</td>\n",
       "      <td>0</td>\n",
       "      <td>...</td>\n",
       "      <td>0</td>\n",
       "      <td>0</td>\n",
       "      <td>0</td>\n",
       "      <td>0</td>\n",
       "      <td>0</td>\n",
       "      <td>0</td>\n",
       "      <td>0</td>\n",
       "      <td>0.153846</td>\n",
       "      <td>0</td>\n",
       "      <td>0</td>\n",
       "    </tr>\n",
       "  </tbody>\n",
       "</table>\n",
       "<p>2 rows × 197 columns</p>\n",
       "</div>"
      ],
      "text/plain": [
       "                        0    1    2    3    4    5    6    7    8    9   ...   \\\n",
       "user_id                                                                  ...    \n",
       "--2QZsyXGz1OhiD4-0FQLQ    0    0    0    0    0    0    0    0    0    0 ...    \n",
       "--4fX3LBeXoE88gDTK6TKQ    0    0    0    0    0    0    0    0    0    0 ...    \n",
       "\n",
       "                        187  188  189  190  191  192  193       194  195  196  \n",
       "user_id                                                                        \n",
       "--2QZsyXGz1OhiD4-0FQLQ    0    0    0    0    0    0    0  0.000000    0    0  \n",
       "--4fX3LBeXoE88gDTK6TKQ    0    0    0    0    0    0    0  0.153846    0    0  \n",
       "\n",
       "[2 rows x 197 columns]"
      ]
     },
     "execution_count": 22,
     "metadata": {},
     "output_type": "execute_result"
    }
   ],
   "source": [
    "reviewer_features.head(2)"
   ]
  },
  {
   "cell_type": "markdown",
   "metadata": {},
   "source": [
    "Now, add a user's ratings for each of the beer's features by taking the dot product of user vector and restaurant vector. "
   ]
  },
  {
   "cell_type": "code",
   "execution_count": 23,
   "metadata": {
    "collapsed": true
   },
   "outputs": [],
   "source": [
    "user = \"RZwkUvViHYEh5Z65--cVZw\""
   ]
  },
  {
   "cell_type": "code",
   "execution_count": 24,
   "metadata": {
    "collapsed": false
   },
   "outputs": [
    {
     "data": {
      "text/plain": [
       "name\n",
       "White Cross Drugs                  5\n",
       "Pamplemousse Le Restaurant         5\n",
       "Albinas Italian American Bakery    5\n",
       "Swiss Cafe Restaurant              4\n",
       "Spago                              4\n",
       "Samosa Factory                     4\n",
       "India Oven                         4\n",
       "Ichiza                             4\n",
       "Go Raw Cafe                        4\n",
       "Chianti Cafe                       4\n",
       "Baladie Café                       4\n",
       "Bonjour Bakery & Deli              3\n",
       "Amena Bakery & Deli                3\n",
       "Tamba                              2\n",
       "Sababa                             2\n",
       "Name: stars, dtype: int64"
      ]
     },
     "execution_count": 24,
     "metadata": {},
     "output_type": "execute_result"
    }
   ],
   "source": [
    "my_rvs = rest_rvws[rest_rvws.user_id == user].groupby('name').stars.mean()\\\n",
    "    .sort(ascending=False, inplace=False)\n",
    "my_rvs"
   ]
  },
  {
   "cell_type": "code",
   "execution_count": 25,
   "metadata": {
    "collapsed": false
   },
   "outputs": [
    {
     "data": {
      "text/plain": [
       "name\n",
       "Big Dog's Bar and Grill              0.540541\n",
       "Kabob Palace                         0.540541\n",
       "Little Bangkok Thai Restaurant       0.513514\n",
       "Sakun Thai                           0.513514\n",
       "Thai Spice                           0.513514\n",
       "Go Raw Cafe                          0.513514\n",
       "Jean Philippe Patisserie             0.486486\n",
       "Auntie Anne's                        0.486486\n",
       "Dick's Last Resort                   0.486486\n",
       "Sesame House                         0.486486\n",
       "Josette's Bistro                     0.486486\n",
       "Baba's Tsi-bugan Restaurant          0.486486\n",
       "Gordon Biersch Brewery Restaurant    0.486486\n",
       "Grape Street                         0.486486\n",
       "Nora's Wine Bar and Osteria          0.486486\n",
       "Chianti Cafe                         0.486486\n",
       "Fiamma Trattoria & Bar               0.486486\n",
       "D Vino                               0.486486\n",
       "Tintoretto Restaurant and Bakery     0.459459\n",
       "Fin                                  0.459459\n",
       "Name: predictions, dtype: float64"
      ]
     },
     "execution_count": 25,
     "metadata": {},
     "output_type": "execute_result"
    }
   ],
   "source": [
    "v = reviewer_features.loc[user].values\n",
    "Mx = rest_features.values\n",
    "pred = Mx.dot(v)\n",
    "pred = pd.Series(pred, index=rest_features.index, name=\"predictions\").sort(ascending=False, inplace=False)\n",
    "pred[:20]"
   ]
  },
  {
   "cell_type": "markdown",
   "metadata": {},
   "source": [
    "#### LInear Model:"
   ]
  },
  {
   "cell_type": "code",
   "execution_count": 26,
   "metadata": {
    "collapsed": false
   },
   "outputs": [
    {
     "data": {
      "text/plain": [
       "name\n",
       "Red Velvet Cafe          4.662425\n",
       "Sandbar                  4.540951\n",
       "My Buddy's Greek Cafe    4.485396\n",
       "Palio Pronto             4.475701\n",
       "Cafe Belle Madeleine     4.475701\n",
       "Picasso                  4.471745\n",
       "Elysium Internet Cafe    4.463551\n",
       "Studio Café              4.456188\n",
       "Sidewalk Cafe            4.456188\n",
       "Grand Café               4.456188\n",
       "Name: predictions, dtype: float64"
      ]
     },
     "execution_count": 26,
     "metadata": {},
     "output_type": "execute_result"
    }
   ],
   "source": [
    "idx = (rest_rvws.user_id == user).values  # filter reviews of user\n",
    "X_user, y_user = X[idx, :], y[idx]\n",
    " \n",
    "model = Ridge()\n",
    "model.fit(X_user, y_user)\n",
    "\n",
    "uniques, idx = np.unique(rest_rvws.name, return_index=True)\n",
    "pred = pd.Series(model.predict(X[idx, :]), rest_rvws.name[idx], name=\"predictions\") \\\n",
    "    .sort(ascending=False, inplace=False)\n",
    "pred[:10]"
   ]
  },
  {
   "cell_type": "code",
   "execution_count": 27,
   "metadata": {
    "collapsed": false
   },
   "outputs": [
    {
     "data": {
      "image/png": "[encoded data removed]",
      "text/plain": [
       "<matplotlib.figure.Figure at 0x15161ae50>"
      ]
     },
     "metadata": {},
     "output_type": "display_data"
    }
   ],
   "source": [
    "f = sb.regplot(my_rvs, pred[list(my_rvs.index)], scatter_kws=dict(alpha=.4))"
   ]
  },
  {
   "cell_type": "markdown",
   "metadata": {},
   "source": [
    "### Item-Based Collaborative filtering\n",
    "\n",
    "Item based filtering make recommendation based on similar items that the user had already rated highly. It is a \"because you liked this, we think you'd also like this\" approach."
   ]
  },
  {
   "cell_type": "code",
   "execution_count": 28,
   "metadata": {
    "collapsed": true
   },
   "outputs": [],
   "source": [
    "from sklearn.metrics.pairwise import cosine_similarity\n",
    "from sklearn.metrics.pairwise import manhattan_distances\n",
    "from sklearn.metrics.pairwise import euclidean_distances"
   ]
  },
  {
   "cell_type": "markdown",
   "metadata": {},
   "source": [
    "First, creat a pivot table using the name as row and user IDs as columns aggregating the average of stars by user IDs."
   ]
  },
  {
   "cell_type": "code",
   "execution_count": 37,
   "metadata": {
    "collapsed": false
   },
   "outputs": [],
   "source": [
    "pt = pd.pivot_table(rest_rvws, values=[\"stars\"],\n",
    "        index=[\"name\", \"user_id\"], aggfunc=np.mean).unstack()"
   ]
  },
  {
   "cell_type": "code",
   "execution_count": 38,
   "metadata": {
    "collapsed": false
   },
   "outputs": [
    {
     "name": "stdout",
     "output_type": "stream",
     "text": [
      "(1706, 77840)\n"
     ]
    }
   ],
   "source": [
    "print pt.shape"
   ]
  },
  {
   "cell_type": "code",
   "execution_count": 39,
   "metadata": {
    "collapsed": false
   },
   "outputs": [
    {
     "data": {
      "text/html": [
       "<div>\n",
       "<table border=\"1\" class=\"dataframe\">\n",
       "  <thead>\n",
       "    <tr>\n",
       "      <th></th>\n",
       "      <th colspan=\"5\" halign=\"left\">stars</th>\n",
       "    </tr>\n",
       "    <tr>\n",
       "      <th>user_id</th>\n",
       "      <th>--2QZsyXGz1OhiD4-0FQLQ</th>\n",
       "      <th>--4fX3LBeXoE88gDTK6TKQ</th>\n",
       "      <th>--52YqcuRttZN62TCKQdbw</th>\n",
       "      <th>--BnK7rx64Gu9KAb2OjMxQ</th>\n",
       "      <th>--D6B8SF9EAIaS4O7wLVJw</th>\n",
       "    </tr>\n",
       "    <tr>\n",
       "      <th>name</th>\n",
       "      <th></th>\n",
       "      <th></th>\n",
       "      <th></th>\n",
       "      <th></th>\n",
       "      <th></th>\n",
       "    </tr>\n",
       "  </thead>\n",
       "  <tbody>\n",
       "    <tr>\n",
       "      <th>168 Market</th>\n",
       "      <td>NaN</td>\n",
       "      <td>NaN</td>\n",
       "      <td>NaN</td>\n",
       "      <td>NaN</td>\n",
       "      <td>NaN</td>\n",
       "    </tr>\n",
       "    <tr>\n",
       "      <th>3 Tomatoes and A Mozzarella</th>\n",
       "      <td>NaN</td>\n",
       "      <td>NaN</td>\n",
       "      <td>NaN</td>\n",
       "      <td>NaN</td>\n",
       "      <td>NaN</td>\n",
       "    </tr>\n",
       "    <tr>\n",
       "      <th>360 Gourmet Burrito</th>\n",
       "      <td>NaN</td>\n",
       "      <td>NaN</td>\n",
       "      <td>NaN</td>\n",
       "      <td>NaN</td>\n",
       "      <td>NaN</td>\n",
       "    </tr>\n",
       "    <tr>\n",
       "      <th>50's Diner</th>\n",
       "      <td>NaN</td>\n",
       "      <td>NaN</td>\n",
       "      <td>NaN</td>\n",
       "      <td>NaN</td>\n",
       "      <td>NaN</td>\n",
       "    </tr>\n",
       "    <tr>\n",
       "      <th>7- Eleven</th>\n",
       "      <td>NaN</td>\n",
       "      <td>NaN</td>\n",
       "      <td>NaN</td>\n",
       "      <td>NaN</td>\n",
       "      <td>NaN</td>\n",
       "    </tr>\n",
       "  </tbody>\n",
       "</table>\n",
       "</div>"
      ],
      "text/plain": [
       "                                             stars                         \\\n",
       "user_id                     --2QZsyXGz1OhiD4-0FQLQ --4fX3LBeXoE88gDTK6TKQ   \n",
       "name                                                                        \n",
       "168 Market                                     NaN                    NaN   \n",
       "3 Tomatoes and A Mozzarella                    NaN                    NaN   \n",
       "360 Gourmet Burrito                            NaN                    NaN   \n",
       "50's Diner                                     NaN                    NaN   \n",
       "7- Eleven                                      NaN                    NaN   \n",
       "\n",
       "                                                                           \\\n",
       "user_id                     --52YqcuRttZN62TCKQdbw --BnK7rx64Gu9KAb2OjMxQ   \n",
       "name                                                                        \n",
       "168 Market                                     NaN                    NaN   \n",
       "3 Tomatoes and A Mozzarella                    NaN                    NaN   \n",
       "360 Gourmet Burrito                            NaN                    NaN   \n",
       "50's Diner                                     NaN                    NaN   \n",
       "7- Eleven                                      NaN                    NaN   \n",
       "\n",
       "                                                    \n",
       "user_id                     --D6B8SF9EAIaS4O7wLVJw  \n",
       "name                                                \n",
       "168 Market                                     NaN  \n",
       "3 Tomatoes and A Mozzarella                    NaN  \n",
       "360 Gourmet Burrito                            NaN  \n",
       "50's Diner                                     NaN  \n",
       "7- Eleven                                      NaN  "
      ]
     },
     "execution_count": 39,
     "metadata": {},
     "output_type": "execute_result"
    }
   ],
   "source": [
    "pt.ix[:5,:5]"
   ]
  },
  {
   "cell_type": "markdown",
   "metadata": {},
   "source": [
    "Then, fill the missing values with 0 and measure the similarity based on the cosine distance between all beers."
   ]
  },
  {
   "cell_type": "code",
   "execution_count": 42,
   "metadata": {
    "collapsed": false,
    "scrolled": true
   },
   "outputs": [],
   "source": [
    "pt = pt.fillna(0)\n",
    "dist = cosine_similarity(pt)\n",
    "dists = pd.DataFrame(dist, columns=pt.index, index = pt.index)"
   ]
  },
  {
   "cell_type": "code",
   "execution_count": 43,
   "metadata": {
    "collapsed": false
   },
   "outputs": [
    {
     "data": {
      "text/html": [
       "<div>\n",
       "<table border=\"1\" class=\"dataframe\">\n",
       "  <thead>\n",
       "    <tr style=\"text-align: right;\">\n",
       "      <th>name</th>\n",
       "      <th>168 Market</th>\n",
       "      <th>3 Tomatoes and A Mozzarella</th>\n",
       "      <th>360 Gourmet Burrito</th>\n",
       "      <th>50's Diner</th>\n",
       "      <th>7- Eleven</th>\n",
       "    </tr>\n",
       "    <tr>\n",
       "      <th>name</th>\n",
       "      <th></th>\n",
       "      <th></th>\n",
       "      <th></th>\n",
       "      <th></th>\n",
       "      <th></th>\n",
       "    </tr>\n",
       "  </thead>\n",
       "  <tbody>\n",
       "    <tr>\n",
       "      <th>168 Market</th>\n",
       "      <td>1.000000</td>\n",
       "      <td>0.013561</td>\n",
       "      <td>0.010126</td>\n",
       "      <td>0</td>\n",
       "      <td>0</td>\n",
       "    </tr>\n",
       "    <tr>\n",
       "      <th>3 Tomatoes and A Mozzarella</th>\n",
       "      <td>0.013561</td>\n",
       "      <td>1.000000</td>\n",
       "      <td>0.015557</td>\n",
       "      <td>0</td>\n",
       "      <td>0</td>\n",
       "    </tr>\n",
       "    <tr>\n",
       "      <th>360 Gourmet Burrito</th>\n",
       "      <td>0.010126</td>\n",
       "      <td>0.015557</td>\n",
       "      <td>1.000000</td>\n",
       "      <td>0</td>\n",
       "      <td>0</td>\n",
       "    </tr>\n",
       "    <tr>\n",
       "      <th>50's Diner</th>\n",
       "      <td>0.000000</td>\n",
       "      <td>0.000000</td>\n",
       "      <td>0.000000</td>\n",
       "      <td>1</td>\n",
       "      <td>0</td>\n",
       "    </tr>\n",
       "    <tr>\n",
       "      <th>7- Eleven</th>\n",
       "      <td>0.000000</td>\n",
       "      <td>0.000000</td>\n",
       "      <td>0.000000</td>\n",
       "      <td>0</td>\n",
       "      <td>1</td>\n",
       "    </tr>\n",
       "  </tbody>\n",
       "</table>\n",
       "</div>"
      ],
      "text/plain": [
       "name                         168 Market  3 Tomatoes and A Mozzarella  \\\n",
       "name                                                                   \n",
       "168 Market                     1.000000                     0.013561   \n",
       "3 Tomatoes and A Mozzarella    0.013561                     1.000000   \n",
       "360 Gourmet Burrito            0.010126                     0.015557   \n",
       "50's Diner                     0.000000                     0.000000   \n",
       "7- Eleven                      0.000000                     0.000000   \n",
       "\n",
       "name                         360 Gourmet Burrito  50's Diner  7- Eleven  \n",
       "name                                                                     \n",
       "168 Market                              0.010126           0          0  \n",
       "3 Tomatoes and A Mozzarella             0.015557           0          0  \n",
       "360 Gourmet Burrito                     1.000000           0          0  \n",
       "50's Diner                              0.000000           1          0  \n",
       "7- Eleven                               0.000000           0          1  "
      ]
     },
     "execution_count": 43,
     "metadata": {},
     "output_type": "execute_result"
    }
   ],
   "source": [
    "dists.ix[:5,:5]"
   ]
  },
  {
   "cell_type": "code",
   "execution_count": 44,
   "metadata": {
    "collapsed": false
   },
   "outputs": [],
   "source": [
    "def get_similar(rests, n = None):\n",
    "    \"\"\"\n",
    "    Return most similar restaurants excluding restaurants provided.  \n",
    "    \n",
    "    Paramters:\n",
    "    rests: list of restaurants. \n",
    "    \n",
    "    Returns:\n",
    "    ranked_rests: list of rank-ordered restaurants.\n",
    "    \n",
    "    \"\"\"\n",
    "    rests = [rest for rest in rests if rest in dists.columns]\n",
    "    rests_summed = dists[rests].apply(lambda row: np.sum(row), axis = 1)\n",
    "    rests_summed = rests_summed.order(ascending = False)\n",
    "    ranked_rests = rests_summed.index[rests_summed.index.isin(rests) ==False]\n",
    "    ranked_rests = ranked_rests.tolist()\n",
    "    \n",
    "    if n is None:\n",
    "        return ranked_rests\n",
    "    else:\n",
    "        return ranked_rests[:n]"
   ]
  },
  {
   "cell_type": "code",
   "execution_count": 45,
   "metadata": {
    "collapsed": false
   },
   "outputs": [],
   "source": [
    "def recommend_rests(user):\n",
    "    \"\"\"\n",
    "    Return 10 restaurants with most similarity based on users highest rated restaurants.\n",
    "    \n",
    "    Parameter:\n",
    "    user: user_id in yelp dataset.\n",
    "    \n",
    "    Returns:\n",
    "    get_similar: 10 most similar restaurants.\n",
    "    \"\"\"\n",
    "    user_data = rest_rvws[rest_rvws.user_id == user]\n",
    "    top_rated = user_data[user_data.stars >= 4]\n",
    "    top_rests = top_rated.name.tolist()\n",
    "    return get_similar(top_rests, 10)"
   ]
  },
  {
   "cell_type": "code",
   "execution_count": 46,
   "metadata": {
    "collapsed": false,
    "scrolled": true
   },
   "outputs": [
    {
     "data": {
      "text/plain": [
       "['Bonjour Bakery & Deli',\n",
       " \"Marie Callender's\",\n",
       " 'Sai India Curry',\n",
       " \"Kitty's Cafe\",\n",
       " 'Jalapeno Grill',\n",
       " 'Diho Supermarket',\n",
       " 'China Mama Restaurant',\n",
       " 'Red Robin',\n",
       " 'Taqueria Los Parados',\n",
       " 'Whole Foods Market']"
      ]
     },
     "execution_count": 46,
     "metadata": {},
     "output_type": "execute_result"
    }
   ],
   "source": [
    "recommend_rests(user)"
   ]
  },
  {
   "cell_type": "markdown",
   "metadata": {},
   "source": [
    "####Model-based collaborative filtering\n",
    "\n",
    "In Model-based collabrative filtering, both items and users parameters are estimated simultaneouly. First,the rating matrix is decomposed by SVD to reduce the demensionalty and extract latent variables. Then, both user and items are represented in term of these latent variables. Item vector characteristic of given features and user vector represent the preferences for a given feature. Rating are the sum of user vector and item vector by taking their dot products."
   ]
  },
  {
   "cell_type": "code",
   "execution_count": 2,
   "metadata": {
    "collapsed": true
   },
   "outputs": [],
   "source": [
    "from sklearn.decomposition import TruncatedSVD\n",
    "from sklearn.pipeline import make_pipeline\n",
    "from sklearn.preprocessing import Normalizer"
   ]
  },
  {
   "cell_type": "code",
   "execution_count": 3,
   "metadata": {
    "collapsed": false
   },
   "outputs": [
    {
     "ename": "NameError",
     "evalue": "name 'rest_rvws' is not defined",
     "output_type": "error",
     "traceback": [
      "\u001b[0;31m---------------------------------------------------------------------------\u001b[0m",
      "\u001b[0;31mNameError\u001b[0m                                 Traceback (most recent call last)",
      "\u001b[0;32m<ipython-input-3-649b95702fee>\u001b[0m in \u001b[0;36m<module>\u001b[0;34m()\u001b[0m\n\u001b[1;32m      1\u001b[0m \u001b[0;31m# Create beer x drinker preference matrix\u001b[0m\u001b[0;34m\u001b[0m\u001b[0;34m\u001b[0m\u001b[0m\n\u001b[0;32m----> 2\u001b[0;31m \u001b[0mM\u001b[0m \u001b[0;34m=\u001b[0m \u001b[0mrest_rvws\u001b[0m\u001b[0;34m.\u001b[0m\u001b[0mgroupby\u001b[0m\u001b[0;34m(\u001b[0m\u001b[0;34m[\u001b[0m\u001b[0;34m'name'\u001b[0m\u001b[0;34m,\u001b[0m \u001b[0;34m'user_id'\u001b[0m\u001b[0;34m]\u001b[0m\u001b[0;34m)\u001b[0m\u001b[0;34m.\u001b[0m\u001b[0mstars\u001b[0m\u001b[0;34m.\u001b[0m\u001b[0mmean\u001b[0m\u001b[0;34m(\u001b[0m\u001b[0;34m)\u001b[0m\u001b[0;34m.\u001b[0m\u001b[0munstack\u001b[0m\u001b[0;34m(\u001b[0m\u001b[0;34m)\u001b[0m\u001b[0;34m\u001b[0m\u001b[0m\n\u001b[0m\u001b[1;32m      3\u001b[0m \u001b[0mM\u001b[0m \u001b[0;34m=\u001b[0m \u001b[0mnp\u001b[0m\u001b[0;34m.\u001b[0m\u001b[0mmaximum\u001b[0m\u001b[0;34m(\u001b[0m\u001b[0;34m-\u001b[0m\u001b[0;36m1\u001b[0m\u001b[0;34m,\u001b[0m \u001b[0;34m(\u001b[0m\u001b[0mM\u001b[0m \u001b[0;34m-\u001b[0m \u001b[0;36m3\u001b[0m\u001b[0;34m)\u001b[0m\u001b[0;34m.\u001b[0m\u001b[0mfillna\u001b[0m\u001b[0;34m(\u001b[0m\u001b[0;36m0\u001b[0m\u001b[0;34m)\u001b[0m \u001b[0;34m/\u001b[0m \u001b[0;36m2.\u001b[0m\u001b[0;34m)\u001b[0m\u001b[0;34m\u001b[0m\u001b[0m\n\u001b[1;32m      4\u001b[0m \u001b[0mM\u001b[0m\u001b[0;34m.\u001b[0m\u001b[0mhead\u001b[0m\u001b[0;34m(\u001b[0m\u001b[0;36m2\u001b[0m\u001b[0;34m)\u001b[0m\u001b[0;34m\u001b[0m\u001b[0m\n",
      "\u001b[0;31mNameError\u001b[0m: name 'rest_rvws' is not defined"
     ]
    }
   ],
   "source": [
    "M = rest_rvws.groupby(['name', 'user_id']).stars.mean().unstack()\n",
    "M = np.maximum(-1, (M - 3).fillna(0) / 2.)\n",
    "M.head(2)"
   ]
  },
  {
   "cell_type": "code",
   "execution_count": null,
   "metadata": {
    "collapsed": false
   },
   "outputs": [],
   "source": [
    "n_components = 500\n",
    "svd = TruncatedSVD(n_components)\n",
    "X_red = svd.fit_transform(M.T)\n",
    "explained_variance = svd.explained_variance_ratio_.sum()\n",
    "print \"Explained variance of the SVD step: %d%%\" % (explained_variance * 100)\n",
    "print \"Dimensions feature matrix (old):\", M.T.shape\n",
    "print \"Dimensions feature matrix (new):\", X_red.shape"
   ]
  },
  {
   "cell_type": "code",
   "execution_count": null,
   "metadata": {
    "collapsed": false
   },
   "outputs": [],
   "source": [
    "plt.plot(svd.explained_variance_ratio_.cumsum())\n",
    "f = plt.ylim(0,1)"
   ]
  },
  {
   "cell_type": "code",
   "execution_count": 1,
   "metadata": {
    "collapsed": false,
    "scrolled": true
   },
   "outputs": [
    {
     "ename": "NameError",
     "evalue": "name 'M' is not defined",
     "output_type": "error",
     "traceback": [
      "\u001b[0;31m---------------------------------------------------------------------------\u001b[0m",
      "\u001b[0;31mNameError\u001b[0m                                 Traceback (most recent call last)",
      "\u001b[0;32m<ipython-input-1-3929f9b04ed8>\u001b[0m in \u001b[0;36m<module>\u001b[0;34m()\u001b[0m\n\u001b[0;32m----> 1\u001b[0;31m \u001b[0mrests\u001b[0m \u001b[0;34m=\u001b[0m \u001b[0mM\u001b[0m\u001b[0;34m.\u001b[0m\u001b[0mindex\u001b[0m\u001b[0;34m\u001b[0m\u001b[0m\n\u001b[0m\u001b[1;32m      2\u001b[0m \u001b[0mtop_rests\u001b[0m \u001b[0;34m=\u001b[0m \u001b[0;36m10\u001b[0m\u001b[0;34m\u001b[0m\u001b[0m\n\u001b[1;32m      3\u001b[0m \u001b[0mn_rows\u001b[0m\u001b[0;34m,\u001b[0m \u001b[0mn_cols\u001b[0m \u001b[0;34m=\u001b[0m \u001b[0;36m3\u001b[0m\u001b[0;34m,\u001b[0m\u001b[0;36m2\u001b[0m\u001b[0;34m\u001b[0m\u001b[0m\n\u001b[1;32m      4\u001b[0m \u001b[0mtop_components\u001b[0m \u001b[0;34m=\u001b[0m \u001b[0mn_rows\u001b[0m \u001b[0;34m*\u001b[0m \u001b[0mn_cols\u001b[0m\u001b[0;34m\u001b[0m\u001b[0m\n\u001b[1;32m      5\u001b[0m \u001b[0mf\u001b[0m\u001b[0;34m,\u001b[0m \u001b[0maxes\u001b[0m \u001b[0;34m=\u001b[0m \u001b[0mplt\u001b[0m\u001b[0;34m.\u001b[0m\u001b[0msubplots\u001b[0m\u001b[0;34m(\u001b[0m\u001b[0mn_rows\u001b[0m\u001b[0;34m,\u001b[0m \u001b[0mn_cols\u001b[0m\u001b[0;34m,\u001b[0m \u001b[0mfigsize\u001b[0m\u001b[0;34m=\u001b[0m\u001b[0;34m(\u001b[0m\u001b[0;36m20\u001b[0m\u001b[0;34m,\u001b[0m \u001b[0mn_rows\u001b[0m \u001b[0;34m*\u001b[0m \u001b[0;36m3\u001b[0m\u001b[0;34m)\u001b[0m\u001b[0;34m)\u001b[0m\u001b[0;34m\u001b[0m\u001b[0m\n",
      "\u001b[0;31mNameError\u001b[0m: name 'M' is not defined"
     ]
    }
   ],
   "source": [
    "rests = M.index\n",
    "top_rests = 10\n",
    "n_rows, n_cols = 3,2\n",
    "top_components = n_rows * n_cols\n",
    "f, axes = plt.subplots(n_rows, n_cols, figsize=(20, n_rows * 3))\n",
    "for no, component in enumerate(svd.components_[:top_components]):\n",
    "    ax = axes[no / n_cols][no % n_cols]\n",
    "    s = pd.Series(svd.components_[no], index = M.index ).sort(inplace=False)[-top_rests:]\n",
    "    s.plot(kind='barh', ax=ax, title=\"Component %d\\nexplained variance %4.1f\" % \n",
    "           (no, 100 * svd.explained_variance_ratio_[no]))\n",
    "f = plt.tight_layout()"
   ]
  },
  {
   "cell_type": "code",
   "execution_count": 319,
   "metadata": {
    "collapsed": false
   },
   "outputs": [
    {
     "data": {
      "text/plain": [
       "array([[  2.04706071e-04,  -1.38809937e-03,  -9.97562589e-04, ...,\n",
       "          1.83006334e-03,  -1.59069820e-03,   3.15138415e-03],\n",
       "       [  1.81189426e-02,   5.75630107e-02,  -1.67737417e-02, ...,\n",
       "         -5.44278359e-02,  -5.97641793e-02,   9.06548760e-02],\n",
       "       [  7.43100920e-04,   4.41135333e-03,  -4.98280389e-04, ...,\n",
       "         -1.16218049e-03,  -9.76919124e-03,  -5.55639590e-03],\n",
       "       ..., \n",
       "       [  1.07686131e-01,   4.02881450e-01,   8.53906346e-01, ...,\n",
       "         -9.68627903e-05,  -6.95821275e-04,  -1.24256523e-04],\n",
       "       [  6.78265182e-04,   9.90467787e-04,  -9.66570441e-04, ...,\n",
       "          5.27477452e-03,   5.05580666e-03,   1.14586833e-03],\n",
       "       [  9.75023394e-01,  -2.22655997e-01,  -4.04421662e-02, ...,\n",
       "         -1.69218458e-03,  -9.68298307e-04,  -3.42585586e-05]])"
      ]
     },
     "execution_count": 319,
     "metadata": {},
     "output_type": "execute_result"
    }
   ],
   "source": [
    "X_red"
   ]
  },
  {
   "cell_type": "code",
   "execution_count": 57,
   "metadata": {
    "collapsed": false
   },
   "outputs": [
    {
     "data": {
      "text/plain": [
       "name\n",
       "Pamplemousse Le Restaurant    0.972926\n",
       "Go Raw Cafe                   0.508439\n",
       "Spago                         0.505901\n",
       "Samosa Factory                0.504681\n",
       "Baladie Café                  0.504628\n",
       "Ichiza                        0.502571\n",
       "El Pollo Loco                 0.064086\n",
       "Sushiko                       0.061469\n",
       "Binion's Hotel & Casino       0.057244\n",
       "Rincon De Buenos Aires        0.053358\n",
       "dtype: float64"
      ]
     },
     "execution_count": 57,
     "metadata": {},
     "output_type": "execute_result"
    }
   ],
   "source": [
    "userid = list(M.columns).index(user)\n",
    "rest_recs = X_red[userid].dot(svd.components_)\n",
    "rest_recs = pd.Series(rest_recs, index=M.index).sort(ascending = False, inplace=False)\n",
    "rest_recs[:10]"
   ]
  }
 ],
 "metadata": {
  "kernelspec": {
   "display_name": "Python 2",
   "language": "python",
   "name": "python2"
  },
  "language_info": {
   "codemirror_mode": {
    "name": "ipython",
    "version": 2
   },
   "file_extension": ".py",
   "mimetype": "text/x-python",
   "name": "python",
   "nbconvert_exporter": "python",
   "pygments_lexer": "ipython2",
   "version": "2.7.10"
  }
 },
 "nbformat": 4,
 "nbformat_minor": 0
}
