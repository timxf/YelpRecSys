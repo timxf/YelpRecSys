{
 "cells": [
  {
   "cell_type": "markdown",
   "metadata": {
    "collapsed": false
   },
   "source": [
    "#Project: Recommendation System for Yelp Users\n",
    "### Aim: The purpose of this project is create a recommendation system  based on user's review text and star ratings for restaurants in Las Vegas with the data provided by Yelp Data Challenge.\n",
    "\n",
    "### Data: There are 1M reviews, 61K businesses, 10 different cities, over 11 year. <https://www.yelp.com/dataset_challenge/dataset>\n",
    "\n",
    "### Methods: \n",
    "1. Content-based filtering: \n",
    "  - A. Mapping restaurants and reviewers into a feature space and compute distance between restaurants and reviwers using dot products. And predict rating with linear model. \n",
    "  - B. Mapping review texts into feature space and recommed restaurant with similar text reviews to reviews. (different notebook)\n",
    "  \n",
    "  \n",
    "2. Collaborative filtering: \n",
    "  - A. Item-based: Compute similarity between restaurants, recommend restaurants most similar to reviewer's item.\n",
    "  - B. Model-based: Use restaurant categories to create latent variables in the rating data. Ratings are comoputed by dot products of users & items vectors in the latent feature space."
   ]
  },
  {
   "cell_type": "code",
   "execution_count": 3,
   "metadata": {
    "collapsed": false
   },
   "outputs": [],
   "source": [
    "import json_to_csv_converter as jc\n",
    "import numpy as np\n",
    "import pandas as pd\n",
    "from sklearn.linear_model import LinearRegression, Lasso, Ridge\n",
    "from sklearn.cross_validation import cross_val_score, train_test_split\n",
    "from sklearn.feature_extraction.text import CountVectorizer\n",
    "from patsy import dmatrix\n",
    "import seaborn as sb\n",
    "from matplotlib import pyplot as plt\n",
    "import recsys.algorithm\n",
    "%matplotlib inline"
   ]
  },
  {
   "cell_type": "markdown",
   "metadata": {},
   "source": [
    "#### Data Preprocessing\n",
    "Convert JSON data to csv files"
   ]
  },
  {
   "cell_type": "code",
   "execution_count": 6,
   "metadata": {
    "collapsed": false
   },
   "outputs": [],
   "source": [
    "business_path = 'yelp_dataset_challenge_academic_dataset/yelp_academic_dataset_business.json'\n",
    "business_cols = jc.get_superset_of_column_names_from_file(business_path)\n",
    "jc.read_and_write_file(business_path, \"business.csv\", column_names = business_cols)\n",
    "review_path = 'yelp_dataset_challenge_academic_dataset/yelp_academic_dataset_review.json'\n",
    "review_cols = jc.get_superset_of_column_names_from_file(review_path)\n",
    "jc.read_and_write_file(review_path, \"review.csv\", review_cols)\n",
    "user_path = 'yelp_dataset_challenge_academic_dataset/yelp_academic_dataset_user.json'\n",
    "user_cols = jc.get_superset_of_column_names_from_file(user_path)\n",
    "jc.read_and_write_file(user_path, \"user.csv\", user_cols)"
   ]
  },
  {
   "cell_type": "markdown",
   "metadata": {},
   "source": [
    "Read csv files"
   ]
  },
  {
   "cell_type": "code",
   "execution_count": 8,
   "metadata": {
    "collapsed": false
   },
   "outputs": [
    {
     "name": "stderr",
     "output_type": "stream",
     "text": [
      "/Users/xftim/anaconda/lib/python2.7/site-packages/pandas/io/parsers.py:1170: DtypeWarning: Columns (1,4,7,17,29,49,60,62,79,86,94) have mixed types. Specify dtype option on import or set low_memory=False.\n",
      "  data = self._reader.read(nrows)\n"
     ]
    }
   ],
   "source": [
    "business = pd.read_csv(\"business.csv\")\n",
    "review = pd.read_csv(\"review.csv\")\n",
    "user = pd.read_csv(\"user.csv\")"
   ]
  },
  {
   "cell_type": "code",
   "execution_count": 9,
   "metadata": {
    "collapsed": false
   },
   "outputs": [
    {
     "name": "stdout",
     "output_type": "stream",
     "text": [
      "77445\n",
      "2225213\n",
      "552339\n"
     ]
    }
   ],
   "source": [
    "print len(business)\n",
    "print len(review)\n",
    "print len(user)"
   ]
  },
  {
   "cell_type": "markdown",
   "metadata": {},
   "source": [
    "The business dataset contains 61K observations, the review dataset contains 1M observarions, and the user dataset contains 36 observations."
   ]
  },
  {
   "cell_type": "code",
   "execution_count": 10,
   "metadata": {
    "collapsed": true
   },
   "outputs": [],
   "source": [
    "#business.columns.tolist()\n",
    "#business['categories'].unique()\n",
    "#business.city.unique()"
   ]
  },
  {
   "cell_type": "markdown",
   "metadata": {},
   "source": [
    "Extract 'city','categories','business_id', and 'name' from business dataset. Choose restaurants that are only in Las Vegas."
   ]
  },
  {
   "cell_type": "code",
   "execution_count": 11,
   "metadata": {
    "collapsed": false
   },
   "outputs": [],
   "source": [
    "business_df = business[['city','categories','business_id', 'name']]\n",
    "business_df = business_df[(business_df['city'] == 'Las Vegas')]\n",
    "ind = []\n",
    "for i in range(0, len(business_df.categories)):\n",
    "    if 'Food' in business_df[i:i+1].categories.to_string() or 'Restaurants' in business_df[i:i+1].categories.to_string():\n",
    "        ind.append(i)      \n",
    "\n",
    "rest = business_df.iloc[ind]"
   ]
  },
  {
   "cell_type": "code",
   "execution_count": 12,
   "metadata": {
    "collapsed": false
   },
   "outputs": [
    {
     "data": {
      "text/html": [
       "<div>\n",
       "<table border=\"1\" class=\"dataframe\">\n",
       "  <thead>\n",
       "    <tr style=\"text-align: right;\">\n",
       "      <th></th>\n",
       "      <th>city</th>\n",
       "      <th>categories</th>\n",
       "      <th>business_id</th>\n",
       "      <th>name</th>\n",
       "    </tr>\n",
       "  </thead>\n",
       "  <tbody>\n",
       "    <tr>\n",
       "      <th>7984</th>\n",
       "      <td>Las Vegas</td>\n",
       "      <td>['Wine Bars', 'Bars', 'Restaurants', 'Nightlif...</td>\n",
       "      <td>_SM8UKIwBNbmj1r629ipoQ</td>\n",
       "      <td>Chianti Cafe</td>\n",
       "    </tr>\n",
       "    <tr>\n",
       "      <th>8290</th>\n",
       "      <td>Las Vegas</td>\n",
       "      <td>['Pizza', 'Restaurants']</td>\n",
       "      <td>AgtFQVxo-PGQVsOdY6Nvdg</td>\n",
       "      <td>Pizza Hut</td>\n",
       "    </tr>\n",
       "  </tbody>\n",
       "</table>\n",
       "</div>"
      ],
      "text/plain": [
       "           city                                         categories  \\\n",
       "7984  Las Vegas  ['Wine Bars', 'Bars', 'Restaurants', 'Nightlif...   \n",
       "8290  Las Vegas                           ['Pizza', 'Restaurants']   \n",
       "\n",
       "                 business_id          name  \n",
       "7984  _SM8UKIwBNbmj1r629ipoQ  Chianti Cafe  \n",
       "8290  AgtFQVxo-PGQVsOdY6Nvdg     Pizza Hut  "
      ]
     },
     "execution_count": 12,
     "metadata": {},
     "output_type": "execute_result"
    }
   ],
   "source": [
    "rest.head(2)"
   ]
  },
  {
   "cell_type": "markdown",
   "metadata": {},
   "source": [
    "Extract 'user_id','stars','business_id' from review dataset. "
   ]
  },
  {
   "cell_type": "code",
   "execution_count": 13,
   "metadata": {
    "collapsed": false
   },
   "outputs": [
    {
     "data": {
      "text/html": [
       "<div>\n",
       "<table border=\"1\" class=\"dataframe\">\n",
       "  <thead>\n",
       "    <tr style=\"text-align: right;\">\n",
       "      <th></th>\n",
       "      <th>user_id</th>\n",
       "      <th>review_id</th>\n",
       "      <th>text</th>\n",
       "      <th>votes.cool</th>\n",
       "      <th>business_id</th>\n",
       "      <th>votes.funny</th>\n",
       "      <th>stars</th>\n",
       "      <th>date</th>\n",
       "      <th>type</th>\n",
       "      <th>votes.useful</th>\n",
       "    </tr>\n",
       "  </thead>\n",
       "  <tbody>\n",
       "    <tr>\n",
       "      <th>0</th>\n",
       "      <td>PUFPaY9KxDAcGqfsorJp3Q</td>\n",
       "      <td>Ya85v4eqdd6k9Od8HbQjyA</td>\n",
       "      <td>Mr Hoagie is an institution. Walking in, it do...</td>\n",
       "      <td>0</td>\n",
       "      <td>5UmKMjUEUNdYWqANhGckJw</td>\n",
       "      <td>0</td>\n",
       "      <td>4</td>\n",
       "      <td>2012-08-01</td>\n",
       "      <td>review</td>\n",
       "      <td>0</td>\n",
       "    </tr>\n",
       "    <tr>\n",
       "      <th>1</th>\n",
       "      <td>Iu6AxdBYGR4A0wspR9BYHA</td>\n",
       "      <td>KPvLNJ21_4wbYNctrOwWdQ</td>\n",
       "      <td>Excellent food. Superb customer service. I mis...</td>\n",
       "      <td>0</td>\n",
       "      <td>5UmKMjUEUNdYWqANhGckJw</td>\n",
       "      <td>0</td>\n",
       "      <td>5</td>\n",
       "      <td>2014-02-13</td>\n",
       "      <td>review</td>\n",
       "      <td>0</td>\n",
       "    </tr>\n",
       "  </tbody>\n",
       "</table>\n",
       "</div>"
      ],
      "text/plain": [
       "                  user_id               review_id  \\\n",
       "0  PUFPaY9KxDAcGqfsorJp3Q  Ya85v4eqdd6k9Od8HbQjyA   \n",
       "1  Iu6AxdBYGR4A0wspR9BYHA  KPvLNJ21_4wbYNctrOwWdQ   \n",
       "\n",
       "                                                text  votes.cool  \\\n",
       "0  Mr Hoagie is an institution. Walking in, it do...           0   \n",
       "1  Excellent food. Superb customer service. I mis...           0   \n",
       "\n",
       "              business_id  votes.funny  stars        date    type  \\\n",
       "0  5UmKMjUEUNdYWqANhGckJw            0      4  2012-08-01  review   \n",
       "1  5UmKMjUEUNdYWqANhGckJw            0      5  2014-02-13  review   \n",
       "\n",
       "   votes.useful  \n",
       "0             0  \n",
       "1             0  "
      ]
     },
     "execution_count": 13,
     "metadata": {},
     "output_type": "execute_result"
    }
   ],
   "source": [
    "review.head(2)"
   ]
  },
  {
   "cell_type": "code",
   "execution_count": 14,
   "metadata": {
    "collapsed": true
   },
   "outputs": [],
   "source": [
    "rvws = review[['user_id','stars','business_id']]"
   ]
  },
  {
   "cell_type": "markdown",
   "metadata": {},
   "source": [
    "Merge business dataset and review dataset on the buiness id. "
   ]
  },
  {
   "cell_type": "code",
   "execution_count": 15,
   "metadata": {
    "collapsed": false
   },
   "outputs": [
    {
     "data": {
      "text/html": [
       "<div>\n",
       "<table border=\"1\" class=\"dataframe\">\n",
       "  <thead>\n",
       "    <tr style=\"text-align: right;\">\n",
       "      <th></th>\n",
       "      <th>city</th>\n",
       "      <th>categories</th>\n",
       "      <th>business_id</th>\n",
       "      <th>name</th>\n",
       "      <th>user_id</th>\n",
       "      <th>stars</th>\n",
       "    </tr>\n",
       "  </thead>\n",
       "  <tbody>\n",
       "    <tr>\n",
       "      <th>0</th>\n",
       "      <td>Las Vegas</td>\n",
       "      <td>['Wine Bars', 'Bars', 'Restaurants', 'Nightlif...</td>\n",
       "      <td>_SM8UKIwBNbmj1r629ipoQ</td>\n",
       "      <td>Chianti Cafe</td>\n",
       "      <td>RZwkUvViHYEh5Z65--cVZw</td>\n",
       "      <td>4</td>\n",
       "    </tr>\n",
       "    <tr>\n",
       "      <th>1</th>\n",
       "      <td>Las Vegas</td>\n",
       "      <td>['Wine Bars', 'Bars', 'Restaurants', 'Nightlif...</td>\n",
       "      <td>_SM8UKIwBNbmj1r629ipoQ</td>\n",
       "      <td>Chianti Cafe</td>\n",
       "      <td>mW0l2ZhDeAAgjXPz_x2qRQ</td>\n",
       "      <td>4</td>\n",
       "    </tr>\n",
       "  </tbody>\n",
       "</table>\n",
       "</div>"
      ],
      "text/plain": [
       "        city                                         categories  \\\n",
       "0  Las Vegas  ['Wine Bars', 'Bars', 'Restaurants', 'Nightlif...   \n",
       "1  Las Vegas  ['Wine Bars', 'Bars', 'Restaurants', 'Nightlif...   \n",
       "\n",
       "              business_id          name                 user_id  stars  \n",
       "0  _SM8UKIwBNbmj1r629ipoQ  Chianti Cafe  RZwkUvViHYEh5Z65--cVZw      4  \n",
       "1  _SM8UKIwBNbmj1r629ipoQ  Chianti Cafe  mW0l2ZhDeAAgjXPz_x2qRQ      4  "
      ]
     },
     "execution_count": 15,
     "metadata": {},
     "output_type": "execute_result"
    }
   ],
   "source": [
    "rest_rvws = pd.merge(rest, rvws, on = 'business_id')\n",
    "rest_rvws.head(2)"
   ]
  },
  {
   "cell_type": "markdown",
   "metadata": {},
   "source": [
    "#### Data Exploration"
   ]
  },
  {
   "cell_type": "code",
   "execution_count": 16,
   "metadata": {
    "collapsed": false
   },
   "outputs": [
    {
     "name": "stdout",
     "output_type": "stream",
     "text": [
      "city                :       1 uniques\n",
      "categories          :     967 uniques\n",
      "business_id         :    5170 uniques\n",
      "name                :    3516 uniques\n",
      "user_id             :  147947 uniques\n",
      "stars               :       5 uniques\n"
     ]
    }
   ],
   "source": [
    "for col in rest_rvws:\n",
    "    print \"%-20s: %7d uniques\" % (col, rest_rvws[col].nunique())"
   ]
  },
  {
   "cell_type": "code",
   "execution_count": 17,
   "metadata": {
    "collapsed": false
   },
   "outputs": [
    {
     "data": {
      "text/plain": [
       "408639"
      ]
     },
     "execution_count": 17,
     "metadata": {},
     "output_type": "execute_result"
    }
   ],
   "source": [
    "len(rest_rvws)"
   ]
  },
  {
   "cell_type": "code",
   "execution_count": 18,
   "metadata": {
    "collapsed": false
   },
   "outputs": [
    {
     "data": {
      "text/plain": [
       "1    387268\n",
       "2      6173\n",
       "3       330\n",
       "4        28\n",
       "5         3\n",
       "dtype: int64"
      ]
     },
     "execution_count": 18,
     "metadata": {},
     "output_type": "execute_result"
    }
   ],
   "source": [
    "n_reviews = rest_rvws.groupby(['name', 'user_id']).stars.nunique()\n",
    "n_reviews.value_counts()"
   ]
  },
  {
   "cell_type": "markdown",
   "metadata": {},
   "source": [
    "The dataset contains:\n",
    "- 5170 restaurants.\n",
    "- 3516 restaurants names, many might be franchise.\n",
    "- Highest rating with 5 stars\n",
    "- 147947 reviewers\n",
    "\n",
    "Since franchise is likely to serve the same food and some properties, we use restaurant name instead of business IDs.\n",
    "\n",
    "There are:\n",
    "- 408639 observations\n",
    "\n",
    "The reviewers might have muliple reviews for a restaurant, so we take the average ratings.\n",
    "\n"
   ]
  },
  {
   "cell_type": "markdown",
   "metadata": {},
   "source": [
    "The distribution of ratings:"
   ]
  },
  {
   "cell_type": "code",
   "execution_count": 19,
   "metadata": {
    "collapsed": false
   },
   "outputs": [
    {
     "data": {
      "image/png": "iVBORw0KGgoAAAANSUhEUgAAAYoAAAEKCAYAAAAMzhLIAAAABHNCSVQICAgIfAhkiAAAAAlwSFlz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\ng8LMzLIcFGZmluWgMDOzLAeFmZll/T/HbNgsW6tSfgAAAABJRU5ErkJggg==\n",
      "text/plain": [
       "<matplotlib.figure.Figure at 0x18d079a50>"
      ]
     },
     "metadata": {},
     "output_type": "display_data"
    }
   ],
   "source": [
    "f = rest_rvws.stars.hist(bins=5)\n",
    "f = plt.title(\"Overall Ratings\")"
   ]
  },
  {
   "cell_type": "markdown",
   "metadata": {},
   "source": [
    "###Content-Based Flitering\n",
    "\n",
    "Content-based filtering focus on the properties of items. Similarity of items is measured based on similarity of their properties.[MMD, Leskoves]\n",
    "Restaurant catorgeries (Wine Bars, Bars, Pizza, Italian, etc.) are used to map as features of the restaurants.  "
   ]
  },
  {
   "cell_type": "code",
   "execution_count": 20,
   "metadata": {
    "collapsed": false
   },
   "outputs": [
    {
     "name": "stdout",
     "output_type": "stream",
     "text": [
      "[\"['Wine Bars', 'Bars', 'Restaurants', 'Nightlife', 'Italian']\"]\n",
      "[\"['Pizza', 'Restaurants']\"]\n"
     ]
    }
   ],
   "source": [
    "print rest_rvws.categories[2:3].tolist()\n",
    "print rest_rvws.categories[9:10].tolist()"
   ]
  },
  {
   "cell_type": "code",
   "execution_count": 21,
   "metadata": {
    "collapsed": false
   },
   "outputs": [],
   "source": [
    "max_features = 5000\n",
    "cv = CountVectorizer(max_features=max_features)\n",
    "X_cag = cv.fit_transform(rest_rvws.categories)"
   ]
  },
  {
   "cell_type": "code",
   "execution_count": 22,
   "metadata": {
    "collapsed": false
   },
   "outputs": [
    {
     "name": "stdout",
     "output_type": "stream",
     "text": [
      "(408639, 257)\n"
     ]
    }
   ],
   "source": [
    "X = np.hstack([X_cag.toarray()])\n",
    "y = rest_rvws.stars\n",
    "n_samples, n_features = X.shape\n",
    "print X.shape"
   ]
  },
  {
   "cell_type": "markdown",
   "metadata": {},
   "source": [
    "#### Dot-product method\n",
    "\n",
    "First, we use the index of first occurance restaurant for its repressenation. Then, give its features same score as the ratings and then average all ratings per user to get a user profile. Each rating is subtracted by 3, so bad ratings are negative and good ratings are postive.  "
   ]
  },
  {
   "cell_type": "code",
   "execution_count": 23,
   "metadata": {
    "collapsed": false
   },
   "outputs": [
    {
     "name": "stdout",
     "output_type": "stream",
     "text": [
      "(3516, 257)\n"
     ]
    },
    {
     "data": {
      "text/html": [
       "<div>\n",
       "<table border=\"1\" class=\"dataframe\">\n",
       "  <thead>\n",
       "    <tr style=\"text-align: right;\">\n",
       "      <th></th>\n",
       "      <th>0</th>\n",
       "      <th>1</th>\n",
       "      <th>2</th>\n",
       "      <th>3</th>\n",
       "      <th>4</th>\n",
       "      <th>5</th>\n",
       "      <th>6</th>\n",
       "      <th>7</th>\n",
       "      <th>8</th>\n",
       "      <th>9</th>\n",
       "      <th>...</th>\n",
       "      <th>247</th>\n",
       "      <th>248</th>\n",
       "      <th>249</th>\n",
       "      <th>250</th>\n",
       "      <th>251</th>\n",
       "      <th>252</th>\n",
       "      <th>253</th>\n",
       "      <th>254</th>\n",
       "      <th>255</th>\n",
       "      <th>256</th>\n",
       "    </tr>\n",
       "    <tr>\n",
       "      <th>name</th>\n",
       "      <th></th>\n",
       "      <th></th>\n",
       "      <th></th>\n",
       "      <th></th>\n",
       "      <th></th>\n",
       "      <th></th>\n",
       "      <th></th>\n",
       "      <th></th>\n",
       "      <th></th>\n",
       "      <th></th>\n",
       "      <th></th>\n",
       "      <th></th>\n",
       "      <th></th>\n",
       "      <th></th>\n",
       "      <th></th>\n",
       "      <th></th>\n",
       "      <th></th>\n",
       "      <th></th>\n",
       "      <th></th>\n",
       "      <th></th>\n",
       "      <th></th>\n",
       "    </tr>\n",
       "  </thead>\n",
       "  <tbody>\n",
       "    <tr>\n",
       "      <th>100% Natural Mexican Grill</th>\n",
       "      <td>0</td>\n",
       "      <td>0</td>\n",
       "      <td>0</td>\n",
       "      <td>0</td>\n",
       "      <td>0</td>\n",
       "      <td>0</td>\n",
       "      <td>0</td>\n",
       "      <td>0</td>\n",
       "      <td>0</td>\n",
       "      <td>0</td>\n",
       "      <td>...</td>\n",
       "      <td>0</td>\n",
       "      <td>0</td>\n",
       "      <td>0</td>\n",
       "      <td>0</td>\n",
       "      <td>0</td>\n",
       "      <td>0</td>\n",
       "      <td>0</td>\n",
       "      <td>0</td>\n",
       "      <td>0</td>\n",
       "      <td>0</td>\n",
       "    </tr>\n",
       "    <tr>\n",
       "      <th>168 Market</th>\n",
       "      <td>0</td>\n",
       "      <td>0</td>\n",
       "      <td>0</td>\n",
       "      <td>0</td>\n",
       "      <td>0</td>\n",
       "      <td>0</td>\n",
       "      <td>0</td>\n",
       "      <td>0</td>\n",
       "      <td>0</td>\n",
       "      <td>0</td>\n",
       "      <td>...</td>\n",
       "      <td>0</td>\n",
       "      <td>0</td>\n",
       "      <td>0</td>\n",
       "      <td>0</td>\n",
       "      <td>0</td>\n",
       "      <td>0</td>\n",
       "      <td>0</td>\n",
       "      <td>0</td>\n",
       "      <td>0</td>\n",
       "      <td>0</td>\n",
       "    </tr>\n",
       "  </tbody>\n",
       "</table>\n",
       "<p>2 rows × 257 columns</p>\n",
       "</div>"
      ],
      "text/plain": [
       "                            0    1    2    3    4    5    6    7    8    9    \\\n",
       "name                                                                           \n",
       "100% Natural Mexican Grill    0    0    0    0    0    0    0    0    0    0   \n",
       "168 Market                    0    0    0    0    0    0    0    0    0    0   \n",
       "\n",
       "                           ...   247  248  249  250  251  252  253  254  255  \\\n",
       "name                       ...                                                 \n",
       "100% Natural Mexican Grill ...     0    0    0    0    0    0    0    0    0   \n",
       "168 Market                 ...     0    0    0    0    0    0    0    0    0   \n",
       "\n",
       "                            256  \n",
       "name                             \n",
       "100% Natural Mexican Grill    0  \n",
       "168 Market                    0  \n",
       "\n",
       "[2 rows x 257 columns]"
      ]
     },
     "execution_count": 23,
     "metadata": {},
     "output_type": "execute_result"
    }
   ],
   "source": [
    "uniques, idx = np.unique(rest_rvws.name, return_index=True)\n",
    "rest_features = pd.DataFrame(X[idx, :], index=rest_rvws.name[idx])\n",
    "print rest_features.shape\n",
    "rest_features.head(2)"
   ]
  },
  {
   "cell_type": "code",
   "execution_count": 24,
   "metadata": {
    "collapsed": false
   },
   "outputs": [
    {
     "data": {
      "text/html": [
       "<div>\n",
       "<table border=\"1\" class=\"dataframe\">\n",
       "  <thead>\n",
       "    <tr style=\"text-align: right;\">\n",
       "      <th></th>\n",
       "      <th>0</th>\n",
       "      <th>1</th>\n",
       "      <th>2</th>\n",
       "      <th>3</th>\n",
       "      <th>4</th>\n",
       "      <th>5</th>\n",
       "      <th>6</th>\n",
       "      <th>7</th>\n",
       "      <th>8</th>\n",
       "      <th>9</th>\n",
       "      <th>...</th>\n",
       "      <th>247</th>\n",
       "      <th>248</th>\n",
       "      <th>249</th>\n",
       "      <th>250</th>\n",
       "      <th>251</th>\n",
       "      <th>252</th>\n",
       "      <th>253</th>\n",
       "      <th>254</th>\n",
       "      <th>255</th>\n",
       "      <th>256</th>\n",
       "    </tr>\n",
       "    <tr>\n",
       "      <th>user_id</th>\n",
       "      <th></th>\n",
       "      <th></th>\n",
       "      <th></th>\n",
       "      <th></th>\n",
       "      <th></th>\n",
       "      <th></th>\n",
       "      <th></th>\n",
       "      <th></th>\n",
       "      <th></th>\n",
       "      <th></th>\n",
       "      <th></th>\n",
       "      <th></th>\n",
       "      <th></th>\n",
       "      <th></th>\n",
       "      <th></th>\n",
       "      <th></th>\n",
       "      <th></th>\n",
       "      <th></th>\n",
       "      <th></th>\n",
       "      <th></th>\n",
       "      <th></th>\n",
       "    </tr>\n",
       "  </thead>\n",
       "  <tbody>\n",
       "    <tr>\n",
       "      <th>--2QZsyXGz1OhiD4-0FQLQ</th>\n",
       "      <td>0</td>\n",
       "      <td>0</td>\n",
       "      <td>0</td>\n",
       "      <td>0</td>\n",
       "      <td>0</td>\n",
       "      <td>0</td>\n",
       "      <td>0</td>\n",
       "      <td>0</td>\n",
       "      <td>0</td>\n",
       "      <td>0</td>\n",
       "      <td>...</td>\n",
       "      <td>0</td>\n",
       "      <td>0</td>\n",
       "      <td>0</td>\n",
       "      <td>0</td>\n",
       "      <td>0</td>\n",
       "      <td>0</td>\n",
       "      <td>0</td>\n",
       "      <td>0</td>\n",
       "      <td>0</td>\n",
       "      <td>0</td>\n",
       "    </tr>\n",
       "    <tr>\n",
       "      <th>--37T3V10ZeoJ1Il7D2Wzw</th>\n",
       "      <td>NaN</td>\n",
       "      <td>NaN</td>\n",
       "      <td>NaN</td>\n",
       "      <td>NaN</td>\n",
       "      <td>NaN</td>\n",
       "      <td>NaN</td>\n",
       "      <td>NaN</td>\n",
       "      <td>NaN</td>\n",
       "      <td>NaN</td>\n",
       "      <td>NaN</td>\n",
       "      <td>...</td>\n",
       "      <td>NaN</td>\n",
       "      <td>NaN</td>\n",
       "      <td>NaN</td>\n",
       "      <td>NaN</td>\n",
       "      <td>NaN</td>\n",
       "      <td>NaN</td>\n",
       "      <td>NaN</td>\n",
       "      <td>NaN</td>\n",
       "      <td>NaN</td>\n",
       "      <td>NaN</td>\n",
       "    </tr>\n",
       "  </tbody>\n",
       "</table>\n",
       "<p>2 rows × 257 columns</p>\n",
       "</div>"
      ],
      "text/plain": [
       "                        0    1    2    3    4    5    6    7    8    9   ...   \\\n",
       "user_id                                                                  ...    \n",
       "--2QZsyXGz1OhiD4-0FQLQ    0    0    0    0    0    0    0    0    0    0 ...    \n",
       "--37T3V10ZeoJ1Il7D2Wzw  NaN  NaN  NaN  NaN  NaN  NaN  NaN  NaN  NaN  NaN ...    \n",
       "\n",
       "                        247  248  249  250  251  252  253  254  255  256  \n",
       "user_id                                                                   \n",
       "--2QZsyXGz1OhiD4-0FQLQ    0    0    0    0    0    0    0    0    0    0  \n",
       "--37T3V10ZeoJ1Il7D2Wzw  NaN  NaN  NaN  NaN  NaN  NaN  NaN  NaN  NaN  NaN  \n",
       "\n",
       "[2 rows x 257 columns]"
      ]
     },
     "execution_count": 24,
     "metadata": {},
     "output_type": "execute_result"
    }
   ],
   "source": [
    "reviewer_features = pd.DataFrame(X * (rest_rvws.stars.values - 3).reshape(n_samples, 1))\n",
    "reviewer_features['user_id'] = rest_rvws.user_id\n",
    "reviewer_features = reviewer_features.groupby('user_id')[range(n_features)].mean()\n",
    "reviewer_features = reviewer_features.divide(reviewer_features.sum(axis=1), axis=0)\n",
    "reviewer_features.head(2)"
   ]
  },
  {
   "cell_type": "code",
   "execution_count": 25,
   "metadata": {
    "collapsed": false
   },
   "outputs": [
    {
     "data": {
      "text/plain": [
       "147947"
      ]
     },
     "execution_count": 25,
     "metadata": {},
     "output_type": "execute_result"
    }
   ],
   "source": [
    "len(reviewer_features)"
   ]
  },
  {
   "cell_type": "code",
   "execution_count": 26,
   "metadata": {
    "collapsed": false
   },
   "outputs": [
    {
     "data": {
      "text/html": [
       "<div>\n",
       "<table border=\"1\" class=\"dataframe\">\n",
       "  <thead>\n",
       "    <tr style=\"text-align: right;\">\n",
       "      <th></th>\n",
       "      <th>0</th>\n",
       "      <th>1</th>\n",
       "      <th>2</th>\n",
       "      <th>3</th>\n",
       "      <th>4</th>\n",
       "      <th>5</th>\n",
       "      <th>6</th>\n",
       "      <th>7</th>\n",
       "      <th>8</th>\n",
       "      <th>9</th>\n",
       "      <th>...</th>\n",
       "      <th>247</th>\n",
       "      <th>248</th>\n",
       "      <th>249</th>\n",
       "      <th>250</th>\n",
       "      <th>251</th>\n",
       "      <th>252</th>\n",
       "      <th>253</th>\n",
       "      <th>254</th>\n",
       "      <th>255</th>\n",
       "      <th>256</th>\n",
       "    </tr>\n",
       "    <tr>\n",
       "      <th>user_id</th>\n",
       "      <th></th>\n",
       "      <th></th>\n",
       "      <th></th>\n",
       "      <th></th>\n",
       "      <th></th>\n",
       "      <th></th>\n",
       "      <th></th>\n",
       "      <th></th>\n",
       "      <th></th>\n",
       "      <th></th>\n",
       "      <th></th>\n",
       "      <th></th>\n",
       "      <th></th>\n",
       "      <th></th>\n",
       "      <th></th>\n",
       "      <th></th>\n",
       "      <th></th>\n",
       "      <th></th>\n",
       "      <th></th>\n",
       "      <th></th>\n",
       "      <th></th>\n",
       "    </tr>\n",
       "  </thead>\n",
       "  <tbody>\n",
       "    <tr>\n",
       "      <th>--2QZsyXGz1OhiD4-0FQLQ</th>\n",
       "      <td>0</td>\n",
       "      <td>0</td>\n",
       "      <td>0</td>\n",
       "      <td>0</td>\n",
       "      <td>0</td>\n",
       "      <td>0</td>\n",
       "      <td>0</td>\n",
       "      <td>0</td>\n",
       "      <td>0</td>\n",
       "      <td>0</td>\n",
       "      <td>...</td>\n",
       "      <td>0</td>\n",
       "      <td>0</td>\n",
       "      <td>0</td>\n",
       "      <td>0</td>\n",
       "      <td>0</td>\n",
       "      <td>0</td>\n",
       "      <td>0</td>\n",
       "      <td>0</td>\n",
       "      <td>0</td>\n",
       "      <td>0</td>\n",
       "    </tr>\n",
       "    <tr>\n",
       "      <th>--37T3V10ZeoJ1Il7D2Wzw</th>\n",
       "      <td>NaN</td>\n",
       "      <td>NaN</td>\n",
       "      <td>NaN</td>\n",
       "      <td>NaN</td>\n",
       "      <td>NaN</td>\n",
       "      <td>NaN</td>\n",
       "      <td>NaN</td>\n",
       "      <td>NaN</td>\n",
       "      <td>NaN</td>\n",
       "      <td>NaN</td>\n",
       "      <td>...</td>\n",
       "      <td>NaN</td>\n",
       "      <td>NaN</td>\n",
       "      <td>NaN</td>\n",
       "      <td>NaN</td>\n",
       "      <td>NaN</td>\n",
       "      <td>NaN</td>\n",
       "      <td>NaN</td>\n",
       "      <td>NaN</td>\n",
       "      <td>NaN</td>\n",
       "      <td>NaN</td>\n",
       "    </tr>\n",
       "  </tbody>\n",
       "</table>\n",
       "<p>2 rows × 257 columns</p>\n",
       "</div>"
      ],
      "text/plain": [
       "                        0    1    2    3    4    5    6    7    8    9   ...   \\\n",
       "user_id                                                                  ...    \n",
       "--2QZsyXGz1OhiD4-0FQLQ    0    0    0    0    0    0    0    0    0    0 ...    \n",
       "--37T3V10ZeoJ1Il7D2Wzw  NaN  NaN  NaN  NaN  NaN  NaN  NaN  NaN  NaN  NaN ...    \n",
       "\n",
       "                        247  248  249  250  251  252  253  254  255  256  \n",
       "user_id                                                                   \n",
       "--2QZsyXGz1OhiD4-0FQLQ    0    0    0    0    0    0    0    0    0    0  \n",
       "--37T3V10ZeoJ1Il7D2Wzw  NaN  NaN  NaN  NaN  NaN  NaN  NaN  NaN  NaN  NaN  \n",
       "\n",
       "[2 rows x 257 columns]"
      ]
     },
     "execution_count": 26,
     "metadata": {},
     "output_type": "execute_result"
    }
   ],
   "source": [
    "reviewer_features.head(2)"
   ]
  },
  {
   "cell_type": "markdown",
   "metadata": {},
   "source": [
    "Now, add a user's ratings for each of the beer's features by taking the dot product of user vector and restaurant vector. "
   ]
  },
  {
   "cell_type": "code",
   "execution_count": 27,
   "metadata": {
    "collapsed": true
   },
   "outputs": [],
   "source": [
    "user = \"RZwkUvViHYEh5Z65--cVZw\""
   ]
  },
  {
   "cell_type": "code",
   "execution_count": 28,
   "metadata": {
    "collapsed": false
   },
   "outputs": [
    {
     "data": {
      "text/plain": [
       "name\n",
       "White Cross Drugs                             5\n",
       "Siena Italian Authentic Trattoria and Deli    5\n",
       "Pamplemousse Le Restaurant                    5\n",
       "Albinas Italian American Bakery               5\n",
       "Swiss Cafe Restaurant                         4\n",
       "Spago                                         4\n",
       "Samosa Factory                                4\n",
       "India Oven                                    4\n",
       "Ichiza                                        4\n",
       "Go Raw Cafe                                   4\n",
       "Chianti Cafe                                  4\n",
       "Bonjour Bakery                                3\n",
       "Amena Bakery & Deli                           3\n",
       "Tamba                                         2\n",
       "Name: stars, dtype: int64"
      ]
     },
     "execution_count": 28,
     "metadata": {},
     "output_type": "execute_result"
    }
   ],
   "source": [
    "my_rvs = rest_rvws[rest_rvws.user_id == user].groupby('name').stars.mean()\\\n",
    "    .sort(ascending=False, inplace=False)\n",
    "my_rvs"
   ]
  },
  {
   "cell_type": "code",
   "execution_count": 29,
   "metadata": {
    "collapsed": false
   },
   "outputs": [
    {
     "data": {
      "text/plain": [
       "name\n",
       "Soul Food Cafe Express                  0.680851\n",
       "Aracely's SAZON Colombiano              0.617021\n",
       "Jimmy's Louisiana Market Deli           0.553191\n",
       "The Lodge Coffee House & Tavern         0.531915\n",
       "Cafe 316                                0.531915\n",
       "HEXX kitchen + bar                      0.531915\n",
       "Orange Julius / Dairy Queen             0.531915\n",
       "Vince Neil's Tatuado EAT DRINK PARTY    0.531915\n",
       "Big Dog's Bar and Grill                 0.531915\n",
       "Tonkatsu Kiyoshi                        0.531915\n",
       "Love Empanadas                          0.531915\n",
       "Sesame House                            0.531915\n",
       "Toscano Italian Steakhouse              0.510638\n",
       "Roamin' Dough                           0.510638\n",
       "Vegas CheeseSteaks                      0.510638\n",
       "Street Foods - Food Trucks              0.510638\n",
       "SkinnyFATS                              0.510638\n",
       "Dom DeMarco's Pizzeria & Bar            0.510638\n",
       "Cornish Pasty Co.                       0.510638\n",
       "D. Vino                                 0.510638\n",
       "Name: predictions, dtype: float64"
      ]
     },
     "execution_count": 29,
     "metadata": {},
     "output_type": "execute_result"
    }
   ],
   "source": [
    "v = reviewer_features.loc[user].values\n",
    "Mx = rest_features.values\n",
    "pred = Mx.dot(v)\n",
    "pred = pd.Series(pred, index=rest_features.index, name=\"predictions\").sort(ascending=False, inplace=False)\n",
    "pred[:20]"
   ]
  },
  {
   "cell_type": "markdown",
   "metadata": {},
   "source": [
    "#### LInear Model:"
   ]
  },
  {
   "cell_type": "code",
   "execution_count": 30,
   "metadata": {
    "collapsed": false
   },
   "outputs": [
    {
     "data": {
      "text/plain": [
       "name\n",
       "Bronze Cafe                 5.009508\n",
       "Sports Deli                 4.956279\n",
       "BARDOT Brasserie            4.868196\n",
       "La Maison de Maggie         4.868196\n",
       "The Bagel Cafe              4.800774\n",
       "Red Velvet Cafe             4.789296\n",
       "Cafe 316                    4.784664\n",
       "Potato Valley Cafe          4.745575\n",
       "Chieti Coffee & Roasting    4.640284\n",
       "Courtyard Deli              4.615297\n",
       "Name: predictions, dtype: float64"
      ]
     },
     "execution_count": 30,
     "metadata": {},
     "output_type": "execute_result"
    }
   ],
   "source": [
    "idx = (rest_rvws.user_id == user).values  # filter reviews of user\n",
    "X_user, y_user = X[idx, :], y[idx]\n",
    " \n",
    "model = Ridge()\n",
    "model.fit(X_user, y_user)\n",
    "\n",
    "uniques, idx = np.unique(rest_rvws.name, return_index=True)\n",
    "pred = pd.Series(model.predict(X[idx, :]), rest_rvws.name[idx], name=\"predictions\") \\\n",
    "    .sort(ascending=False, inplace=False)\n",
    "pred[:10]"
   ]
  },
  {
   "cell_type": "code",
   "execution_count": 31,
   "metadata": {
    "collapsed": false
   },
   "outputs": [
    {
     "data": {
      "image/png": "iVBORw0KGgoAAAANSUhEUgAAAYcAAAERCAYAAACQIWsgAAAABHNCSVQICAgIfAhkiAAAAAlwSFlz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\nAABJRU5ErkJggg==\n",
      "text/plain": [
       "<matplotlib.figure.Figure at 0x190eeca90>"
      ]
     },
     "metadata": {},
     "output_type": "display_data"
    }
   ],
   "source": [
    "f = sb.regplot(my_rvs, pred[list(my_rvs.index)], scatter_kws=dict(alpha=.4))"
   ]
  },
  {
   "cell_type": "markdown",
   "metadata": {},
   "source": [
    "### Item-Based Collaborative filtering\n",
    "\n",
    "Item based filtering make recommendation based on similar items that the user had already rated highly. It is a \"because you liked this, we think you'd also like this\" approach."
   ]
  },
  {
   "cell_type": "code",
   "execution_count": 32,
   "metadata": {
    "collapsed": true
   },
   "outputs": [],
   "source": [
    "from sklearn.metrics.pairwise import cosine_similarity\n",
    "from sklearn.metrics.pairwise import manhattan_distances\n",
    "from sklearn.metrics.pairwise import euclidean_distances"
   ]
  },
  {
   "cell_type": "markdown",
   "metadata": {},
   "source": [
    "First, creat a pivot table using the name as row and user IDs as columns aggregating the average of stars by user IDs."
   ]
  },
  {
   "cell_type": "code",
   "execution_count": 33,
   "metadata": {
    "collapsed": false
   },
   "outputs": [],
   "source": [
    "pt = pd.pivot_table(rest_rvws, values=[\"stars\"],\n",
    "        index=[\"name\", \"user_id\"], aggfunc=np.mean).unstack()"
   ]
  },
  {
   "cell_type": "code",
   "execution_count": 34,
   "metadata": {
    "collapsed": false
   },
   "outputs": [
    {
     "name": "stdout",
     "output_type": "stream",
     "text": [
      "(3516, 147947)\n"
     ]
    }
   ],
   "source": [
    "print pt.shape"
   ]
  },
  {
   "cell_type": "code",
   "execution_count": 35,
   "metadata": {
    "collapsed": false
   },
   "outputs": [
    {
     "data": {
      "text/html": [
       "<div>\n",
       "<table border=\"1\" class=\"dataframe\">\n",
       "  <thead>\n",
       "    <tr>\n",
       "      <th></th>\n",
       "      <th colspan=\"5\" halign=\"left\">stars</th>\n",
       "    </tr>\n",
       "    <tr>\n",
       "      <th>user_id</th>\n",
       "      <th>--2QZsyXGz1OhiD4-0FQLQ</th>\n",
       "      <th>--37T3V10ZeoJ1Il7D2Wzw</th>\n",
       "      <th>--4fX3LBeXoE88gDTK6TKQ</th>\n",
       "      <th>--52YqcuRttZN62TCKQdbw</th>\n",
       "      <th>--65q1FpAL_UQtVZ2PTGew</th>\n",
       "    </tr>\n",
       "    <tr>\n",
       "      <th>name</th>\n",
       "      <th></th>\n",
       "      <th></th>\n",
       "      <th></th>\n",
       "      <th></th>\n",
       "      <th></th>\n",
       "    </tr>\n",
       "  </thead>\n",
       "  <tbody>\n",
       "    <tr>\n",
       "      <th>100% Natural Mexican Grill</th>\n",
       "      <td>NaN</td>\n",
       "      <td>NaN</td>\n",
       "      <td>NaN</td>\n",
       "      <td>NaN</td>\n",
       "      <td>NaN</td>\n",
       "    </tr>\n",
       "    <tr>\n",
       "      <th>168 Market</th>\n",
       "      <td>NaN</td>\n",
       "      <td>NaN</td>\n",
       "      <td>NaN</td>\n",
       "      <td>NaN</td>\n",
       "      <td>NaN</td>\n",
       "    </tr>\n",
       "    <tr>\n",
       "      <th>17 South Booze &amp; Bites</th>\n",
       "      <td>NaN</td>\n",
       "      <td>NaN</td>\n",
       "      <td>NaN</td>\n",
       "      <td>NaN</td>\n",
       "      <td>NaN</td>\n",
       "    </tr>\n",
       "    <tr>\n",
       "      <th>2010 Fusion Restaurant</th>\n",
       "      <td>NaN</td>\n",
       "      <td>NaN</td>\n",
       "      <td>NaN</td>\n",
       "      <td>NaN</td>\n",
       "      <td>NaN</td>\n",
       "    </tr>\n",
       "    <tr>\n",
       "      <th>221 Wine Bar</th>\n",
       "      <td>NaN</td>\n",
       "      <td>NaN</td>\n",
       "      <td>NaN</td>\n",
       "      <td>NaN</td>\n",
       "      <td>NaN</td>\n",
       "    </tr>\n",
       "  </tbody>\n",
       "</table>\n",
       "</div>"
      ],
      "text/plain": [
       "                                            stars                         \\\n",
       "user_id                    --2QZsyXGz1OhiD4-0FQLQ --37T3V10ZeoJ1Il7D2Wzw   \n",
       "name                                                                       \n",
       "100% Natural Mexican Grill                    NaN                    NaN   \n",
       "168 Market                                    NaN                    NaN   \n",
       "17 South Booze & Bites                        NaN                    NaN   \n",
       "2010 Fusion Restaurant                        NaN                    NaN   \n",
       "221 Wine Bar                                  NaN                    NaN   \n",
       "\n",
       "                                                                          \\\n",
       "user_id                    --4fX3LBeXoE88gDTK6TKQ --52YqcuRttZN62TCKQdbw   \n",
       "name                                                                       \n",
       "100% Natural Mexican Grill                    NaN                    NaN   \n",
       "168 Market                                    NaN                    NaN   \n",
       "17 South Booze & Bites                        NaN                    NaN   \n",
       "2010 Fusion Restaurant                        NaN                    NaN   \n",
       "221 Wine Bar                                  NaN                    NaN   \n",
       "\n",
       "                                                   \n",
       "user_id                    --65q1FpAL_UQtVZ2PTGew  \n",
       "name                                               \n",
       "100% Natural Mexican Grill                    NaN  \n",
       "168 Market                                    NaN  \n",
       "17 South Booze & Bites                        NaN  \n",
       "2010 Fusion Restaurant                        NaN  \n",
       "221 Wine Bar                                  NaN  "
      ]
     },
     "execution_count": 35,
     "metadata": {},
     "output_type": "execute_result"
    }
   ],
   "source": [
    "pt.ix[:5,:5]"
   ]
  },
  {
   "cell_type": "markdown",
   "metadata": {},
   "source": [
    "Then, fill the missing values with 0 and measure the similarity based on the cosine distance between all beers."
   ]
  },
  {
   "cell_type": "code",
   "execution_count": 36,
   "metadata": {
    "collapsed": false,
    "scrolled": true
   },
   "outputs": [],
   "source": [
    "pt = pt.fillna(0)\n",
    "dist = cosine_similarity(pt)\n",
    "dists = pd.DataFrame(dist, columns=pt.index, index = pt.index)"
   ]
  },
  {
   "cell_type": "code",
   "execution_count": 37,
   "metadata": {
    "collapsed": false
   },
   "outputs": [
    {
     "data": {
      "text/html": [
       "<div>\n",
       "<table border=\"1\" class=\"dataframe\">\n",
       "  <thead>\n",
       "    <tr style=\"text-align: right;\">\n",
       "      <th>name</th>\n",
       "      <th>100% Natural Mexican Grill</th>\n",
       "      <th>168 Market</th>\n",
       "      <th>17 South Booze &amp; Bites</th>\n",
       "      <th>2010 Fusion Restaurant</th>\n",
       "      <th>221 Wine Bar</th>\n",
       "    </tr>\n",
       "    <tr>\n",
       "      <th>name</th>\n",
       "      <th></th>\n",
       "      <th></th>\n",
       "      <th></th>\n",
       "      <th></th>\n",
       "      <th></th>\n",
       "    </tr>\n",
       "  </thead>\n",
       "  <tbody>\n",
       "    <tr>\n",
       "      <th>100% Natural Mexican Grill</th>\n",
       "      <td>1</td>\n",
       "      <td>0.000000</td>\n",
       "      <td>0</td>\n",
       "      <td>0.000000</td>\n",
       "      <td>0</td>\n",
       "    </tr>\n",
       "    <tr>\n",
       "      <th>168 Market</th>\n",
       "      <td>0</td>\n",
       "      <td>1.000000</td>\n",
       "      <td>0</td>\n",
       "      <td>0.126388</td>\n",
       "      <td>0</td>\n",
       "    </tr>\n",
       "    <tr>\n",
       "      <th>17 South Booze &amp; Bites</th>\n",
       "      <td>0</td>\n",
       "      <td>0.000000</td>\n",
       "      <td>1</td>\n",
       "      <td>0.000000</td>\n",
       "      <td>0</td>\n",
       "    </tr>\n",
       "    <tr>\n",
       "      <th>2010 Fusion Restaurant</th>\n",
       "      <td>0</td>\n",
       "      <td>0.126388</td>\n",
       "      <td>0</td>\n",
       "      <td>1.000000</td>\n",
       "      <td>0</td>\n",
       "    </tr>\n",
       "    <tr>\n",
       "      <th>221 Wine Bar</th>\n",
       "      <td>0</td>\n",
       "      <td>0.000000</td>\n",
       "      <td>0</td>\n",
       "      <td>0.000000</td>\n",
       "      <td>1</td>\n",
       "    </tr>\n",
       "  </tbody>\n",
       "</table>\n",
       "</div>"
      ],
      "text/plain": [
       "name                        100% Natural Mexican Grill  168 Market  \\\n",
       "name                                                                 \n",
       "100% Natural Mexican Grill                           1    0.000000   \n",
       "168 Market                                           0    1.000000   \n",
       "17 South Booze & Bites                               0    0.000000   \n",
       "2010 Fusion Restaurant                               0    0.126388   \n",
       "221 Wine Bar                                         0    0.000000   \n",
       "\n",
       "name                        17 South Booze & Bites  2010 Fusion Restaurant  \\\n",
       "name                                                                         \n",
       "100% Natural Mexican Grill                       0                0.000000   \n",
       "168 Market                                       0                0.126388   \n",
       "17 South Booze & Bites                           1                0.000000   \n",
       "2010 Fusion Restaurant                           0                1.000000   \n",
       "221 Wine Bar                                     0                0.000000   \n",
       "\n",
       "name                        221 Wine Bar  \n",
       "name                                      \n",
       "100% Natural Mexican Grill             0  \n",
       "168 Market                             0  \n",
       "17 South Booze & Bites                 0  \n",
       "2010 Fusion Restaurant                 0  \n",
       "221 Wine Bar                           1  "
      ]
     },
     "execution_count": 37,
     "metadata": {},
     "output_type": "execute_result"
    }
   ],
   "source": [
    "dists.ix[:5,:5]"
   ]
  },
  {
   "cell_type": "code",
   "execution_count": 38,
   "metadata": {
    "collapsed": false
   },
   "outputs": [],
   "source": [
    "def get_similar(rests, n = None):\n",
    "    \"\"\"\n",
    "    Return most similar restaurants excluding restaurants provided.  \n",
    "    \n",
    "    Paramters:\n",
    "    rests: list of restaurants. \n",
    "    \n",
    "    Returns:\n",
    "    ranked_rests: list of rank-ordered restaurants.\n",
    "    \n",
    "    \"\"\"\n",
    "    rests = [rest for rest in rests if rest in dists.columns]\n",
    "    rests_summed = dists[rests].apply(lambda row: np.sum(row), axis = 1)\n",
    "    rests_summed = rests_summed.order(ascending = False)\n",
    "    ranked_rests = rests_summed.index[rests_summed.index.isin(rests) ==False]\n",
    "    ranked_rests = ranked_rests.tolist()\n",
    "    \n",
    "    if n is None:\n",
    "        return ranked_rests\n",
    "    else:\n",
    "        return ranked_rests[:n]"
   ]
  },
  {
   "cell_type": "code",
   "execution_count": 39,
   "metadata": {
    "collapsed": false
   },
   "outputs": [],
   "source": [
    "def recommend_rests(user):\n",
    "    \"\"\"\n",
    "    Return 10 restaurants with most similarity based on users highest rated restaurants.\n",
    "    \n",
    "    Parameter:\n",
    "    user: user_id in yelp dataset.\n",
    "    \n",
    "    Returns:\n",
    "    get_similar: 10 most similar restaurants.\n",
    "    \"\"\"\n",
    "    user_data = rest_rvws[rest_rvws.user_id == user]\n",
    "    top_rated = user_data[user_data.stars >= 4]\n",
    "    top_rests = top_rated.name.tolist()\n",
    "    return get_similar(top_rests, 10)"
   ]
  },
  {
   "cell_type": "code",
   "execution_count": 40,
   "metadata": {
    "collapsed": false,
    "scrolled": true
   },
   "outputs": [
    {
     "data": {
      "text/plain": [
       "['Red Robin',\n",
       " \"Marie Callender's\",\n",
       " 'Sai India Curry',\n",
       " 'Bonjour Bakery',\n",
       " \"Kitty's Cafe\",\n",
       " 'Diho Supermarket',\n",
       " 'Taco Ole',\n",
       " 'Jalapeno Grill',\n",
       " \"Slidin' Thru\",\n",
       " \"Adam's Ribs\"]"
      ]
     },
     "execution_count": 40,
     "metadata": {},
     "output_type": "execute_result"
    }
   ],
   "source": [
    "recommend_rests(user)"
   ]
  },
  {
   "cell_type": "markdown",
   "metadata": {},
   "source": [
    "####Model-based collaborative filtering\n",
    "\n",
    "In Model-based collabrative filtering, both items and users parameters are estimated simultaneouly. First,the rating matrix is decomposed by SVD to reduce the demensionalty and extract latent variables. Then, both user and items are represented in term of these latent variables. Item vector characteristic of given features and user vector represent the preferences for a given feature. Rating are the sum of user vector and item vector by taking their dot products."
   ]
  },
  {
   "cell_type": "code",
   "execution_count": 41,
   "metadata": {
    "collapsed": true
   },
   "outputs": [],
   "source": [
    "from sklearn.decomposition import TruncatedSVD\n",
    "from sklearn.pipeline import make_pipeline\n",
    "from sklearn.preprocessing import Normalizer"
   ]
  },
  {
   "cell_type": "code",
   "execution_count": 42,
   "metadata": {
    "collapsed": false
   },
<<<<<<< HEAD
   "outputs": [
    {
     "data": {
      "text/html": [
       "<div>\n",
       "<table border=\"1\" class=\"dataframe\">\n",
       "  <thead>\n",
       "    <tr style=\"text-align: right;\">\n",
       "      <th>user_id</th>\n",
       "      <th>--2QZsyXGz1OhiD4-0FQLQ</th>\n",
       "      <th>--37T3V10ZeoJ1Il7D2Wzw</th>\n",
       "      <th>--4fX3LBeXoE88gDTK6TKQ</th>\n",
       "      <th>--52YqcuRttZN62TCKQdbw</th>\n",
       "      <th>--65q1FpAL_UQtVZ2PTGew</th>\n",
       "      <th>--8A9o_NeGyt_3kzlXtSdg</th>\n",
       "      <th>--BnK7rx64Gu9KAb2OjMxQ</th>\n",
       "      <th>--D6B8SF9EAIaS4O7wLVJw</th>\n",
       "      <th>--E8HPRm1TvCpBFrDRfq2A</th>\n",
       "      <th>--FpxrGL-a82dkgrWZLn5Q</th>\n",
       "      <th>...</th>\n",
       "      <th>zzjHMdpGvptn8h5bXN83pA</th>\n",
       "      <th>zzjbYl789JCxRoccM1TpUQ</th>\n",
       "      <th>zzlEOrvF8EkkX4fxCwPZdw</th>\n",
       "      <th>zznPTkBKMznV8RdqvDX5Jw</th>\n",
       "      <th>zznUhVBuxM-Hl5_2P6bO_Q</th>\n",
       "      <th>zzny3Fs3c5P59oUQhhhVRw</th>\n",
       "      <th>zzpT-Mfyh4jEjdqDerSVnQ</th>\n",
       "      <th>zzrNDzW1GxgaWTBD2yeaaQ</th>\n",
       "      <th>zzvflqB4xAcKFbIbS6HSOw</th>\n",
       "      <th>zzvrDmRAYdvIVRGszSFPGQ</th>\n",
       "    </tr>\n",
       "    <tr>\n",
       "      <th>name</th>\n",
       "      <th></th>\n",
       "      <th></th>\n",
       "      <th></th>\n",
       "      <th></th>\n",
       "      <th></th>\n",
       "      <th></th>\n",
       "      <th></th>\n",
       "      <th></th>\n",
       "      <th></th>\n",
       "      <th></th>\n",
       "      <th></th>\n",
       "      <th></th>\n",
       "      <th></th>\n",
       "      <th></th>\n",
       "      <th></th>\n",
       "      <th></th>\n",
       "      <th></th>\n",
       "      <th></th>\n",
       "      <th></th>\n",
       "      <th></th>\n",
       "      <th></th>\n",
       "    </tr>\n",
       "  </thead>\n",
       "  <tbody>\n",
       "    <tr>\n",
       "      <th>100% Natural Mexican Grill</th>\n",
       "      <td>0</td>\n",
       "      <td>0</td>\n",
       "      <td>0</td>\n",
       "      <td>0</td>\n",
       "      <td>0</td>\n",
       "      <td>0</td>\n",
       "      <td>0</td>\n",
       "      <td>0</td>\n",
       "      <td>0</td>\n",
       "      <td>0</td>\n",
       "      <td>...</td>\n",
       "      <td>0</td>\n",
       "      <td>0</td>\n",
       "      <td>0</td>\n",
       "      <td>0</td>\n",
       "      <td>0</td>\n",
       "      <td>0</td>\n",
       "      <td>0</td>\n",
       "      <td>0</td>\n",
       "      <td>0</td>\n",
       "      <td>0</td>\n",
       "    </tr>\n",
       "    <tr>\n",
       "      <th>168 Market</th>\n",
       "      <td>0</td>\n",
       "      <td>0</td>\n",
       "      <td>0</td>\n",
       "      <td>0</td>\n",
       "      <td>0</td>\n",
       "      <td>0</td>\n",
       "      <td>0</td>\n",
       "      <td>0</td>\n",
       "      <td>0</td>\n",
       "      <td>0</td>\n",
       "      <td>...</td>\n",
       "      <td>0</td>\n",
       "      <td>0</td>\n",
       "      <td>0</td>\n",
       "      <td>0</td>\n",
       "      <td>0</td>\n",
       "      <td>0</td>\n",
       "      <td>0</td>\n",
       "      <td>0</td>\n",
       "      <td>0</td>\n",
       "      <td>0</td>\n",
       "    </tr>\n",
       "  </tbody>\n",
       "</table>\n",
       "<p>2 rows × 147947 columns</p>\n",
       "</div>"
      ],
      "text/plain": [
       "user_id                     --2QZsyXGz1OhiD4-0FQLQ  --37T3V10ZeoJ1Il7D2Wzw  \\\n",
       "name                                                                         \n",
       "100% Natural Mexican Grill                       0                       0   \n",
       "168 Market                                       0                       0   \n",
       "\n",
       "user_id                     --4fX3LBeXoE88gDTK6TKQ  --52YqcuRttZN62TCKQdbw  \\\n",
       "name                                                                         \n",
       "100% Natural Mexican Grill                       0                       0   \n",
       "168 Market                                       0                       0   \n",
       "\n",
       "user_id                     --65q1FpAL_UQtVZ2PTGew  --8A9o_NeGyt_3kzlXtSdg  \\\n",
       "name                                                                         \n",
       "100% Natural Mexican Grill                       0                       0   \n",
       "168 Market                                       0                       0   \n",
       "\n",
       "user_id                     --BnK7rx64Gu9KAb2OjMxQ  --D6B8SF9EAIaS4O7wLVJw  \\\n",
       "name                                                                         \n",
       "100% Natural Mexican Grill                       0                       0   \n",
       "168 Market                                       0                       0   \n",
       "\n",
       "user_id                     --E8HPRm1TvCpBFrDRfq2A  --FpxrGL-a82dkgrWZLn5Q  \\\n",
       "name                                                                         \n",
       "100% Natural Mexican Grill                       0                       0   \n",
       "168 Market                                       0                       0   \n",
       "\n",
       "user_id                              ...            zzjHMdpGvptn8h5bXN83pA  \\\n",
       "name                                 ...                                     \n",
       "100% Natural Mexican Grill           ...                                 0   \n",
       "168 Market                           ...                                 0   \n",
       "\n",
       "user_id                     zzjbYl789JCxRoccM1TpUQ  zzlEOrvF8EkkX4fxCwPZdw  \\\n",
       "name                                                                         \n",
       "100% Natural Mexican Grill                       0                       0   \n",
       "168 Market                                       0                       0   \n",
       "\n",
       "user_id                     zznPTkBKMznV8RdqvDX5Jw  zznUhVBuxM-Hl5_2P6bO_Q  \\\n",
       "name                                                                         \n",
       "100% Natural Mexican Grill                       0                       0   \n",
       "168 Market                                       0                       0   \n",
       "\n",
       "user_id                     zzny3Fs3c5P59oUQhhhVRw  zzpT-Mfyh4jEjdqDerSVnQ  \\\n",
       "name                                                                         \n",
       "100% Natural Mexican Grill                       0                       0   \n",
       "168 Market                                       0                       0   \n",
       "\n",
       "user_id                     zzrNDzW1GxgaWTBD2yeaaQ  zzvflqB4xAcKFbIbS6HSOw  \\\n",
       "name                                                                         \n",
       "100% Natural Mexican Grill                       0                       0   \n",
       "168 Market                                       0                       0   \n",
       "\n",
       "user_id                     zzvrDmRAYdvIVRGszSFPGQ  \n",
       "name                                                \n",
       "100% Natural Mexican Grill                       0  \n",
       "168 Market                                       0  \n",
       "\n",
       "[2 rows x 147947 columns]"
      ]
     },
     "execution_count": 42,
     "metadata": {},
     "output_type": "execute_result"
=======
>>>>>>> origin/master
    }
   ],
   "source": [
    "M = rest_rvws.groupby(['name', 'user_id']).stars.mean().unstack()\n",
    "M = np.maximum(-1, (M - 3).fillna(0) / 2.)\n",
    "M.head(2)"
   ]
  },
  {
   "cell_type": "code",
   "execution_count": 43,
   "metadata": {
    "collapsed": false
   },
   "outputs": [
    {
     "name": "stdout",
     "output_type": "stream",
     "text": [
      "Explained variance of the SVD step: 66%\n",
      "Dimensions feature matrix (old): (147947, 3516)\n",
      "Dimensions feature matrix (new): (147947, 500)\n"
     ]
    }
   ],
   "source": [
    "n_components = 500\n",
    "svd = TruncatedSVD(n_components)\n",
    "X_red = svd.fit_transform(M.T)\n",
    "explained_variance = svd.explained_variance_ratio_.sum()\n",
    "print \"Explained variance of the SVD step: %d%%\" % (explained_variance * 100)\n",
    "print \"Dimensions feature matrix (old):\", M.T.shape\n",
    "print \"Dimensions feature matrix (new):\", X_red.shape"
   ]
  },
  {
   "cell_type": "code",
   "execution_count": 44,
   "metadata": {
    "collapsed": false
   },
   "outputs": [
    {
     "data": {
      "image/png": "iVBORw0KGgoAAAANSUhEUgAAAXkAAAECCAYAAAAb5qc/AAAABHNCSVQICAgIfAhkiAAAAAlwSFlz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\nVwAAAABJRU5ErkJggg==\n",
      "text/plain": [
       "<matplotlib.figure.Figure at 0x1811a5d90>"
      ]
     },
     "metadata": {},
     "output_type": "display_data"
    }
   ],
   "source": [
    "plt.plot(svd.explained_variance_ratio_.cumsum())\n",
    "f = plt.ylim(0,1)"
   ]
  },
  {
   "cell_type": "code",
   "execution_count": 45,
   "metadata": {
    "collapsed": false,
    "scrolled": true
   },
<<<<<<< HEAD
   "outputs": [
    {
     "data": {
      "image/png": "iVBORw0KGgoAAAANSUhEUgAABZkAAAJ/CAYAAAAaid1OAAAABHNCSVQICAgIfAhkiAAAAAlwSFlz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\n",
      "text/plain": [
       "<matplotlib.figure.Figure at 0x1811a5c10>"
      ]
     },
     "metadata": {},
     "output_type": "display_data"
=======
>>>>>>> origin/master
    }
   ],
   "source": [
    "rests = M.index\n",
    "top_rests = 10\n",
    "n_rows, n_cols = 3,2\n",
    "top_components = n_rows * n_cols\n",
    "f, axes = plt.subplots(n_rows, n_cols, figsize=(20, n_rows * 3))\n",
    "for no, component in enumerate(svd.components_[:top_components]):\n",
    "    ax = axes[no / n_cols][no % n_cols]\n",
    "    s = pd.Series(svd.components_[no], index = M.index ).sort(inplace=False)[-top_rests:]\n",
    "    s.plot(kind='barh', ax=ax, title=\"Component %d\\nexplained variance %4.1f\" % \n",
    "           (no, 100 * svd.explained_variance_ratio_[no]))\n",
    "f = plt.tight_layout()"
   ]
  },
  {
   "cell_type": "code",
   "execution_count": 46,
   "metadata": {
    "collapsed": false
   },
   "outputs": [
    {
     "data": {
      "text/plain": [
       "array([[  1.57164069e-01,  -9.30874907e-02,  -1.22451048e-01, ...,\n",
       "         -1.13620197e-02,   1.61110157e-02,  -2.43234296e-03],\n",
       "       [  6.42909272e-15,  -4.11295524e-14,  -1.77351202e-15, ...,\n",
       "          4.57361738e-16,   1.62656630e-16,   1.57875598e-16],\n",
       "       [  4.30502746e-02,  -3.33060672e-02,  -3.58931697e-02, ...,\n",
       "         -2.07518423e-02,  -2.21549301e-02,  -5.39227238e-03],\n",
       "       ..., \n",
       "       [ -9.80472940e-04,   9.91320307e-04,   9.83367129e-04, ...,\n",
       "          2.04577136e-02,  -2.06541657e-02,   1.77809874e-02],\n",
       "       [  6.88346689e-01,   7.17057183e-01,  -4.07772716e-02, ...,\n",
       "          2.14345619e-02,   6.14714004e-03,  -1.38967497e-02],\n",
       "       [  1.41851933e-03,   3.66002692e-05,  -1.48248294e-03, ...,\n",
       "         -1.65768906e-02,  -4.96376049e-03,  -2.23173482e-02]])"
      ]
     },
     "execution_count": 46,
     "metadata": {},
     "output_type": "execute_result"
    }
   ],
   "source": [
    "X_red"
   ]
  },
  {
   "cell_type": "code",
   "execution_count": 47,
   "metadata": {
    "collapsed": false
   },
   "outputs": [
    {
     "data": {
      "text/plain": [
       "name\n",
       "Spago                                         0.505614\n",
       "Ichiza                                        0.504564\n",
       "Go Raw Cafe                                   0.464046\n",
       "Siena Italian Authentic Trattoria and Deli    0.133204\n",
       "Dae Jang Keum Korean BBQ & Tofu Restaurant    0.073077\n",
       "Triple 7 Restaurant & Microbrewery            0.067394\n",
       "Casanova                                      0.056448\n",
       "Pura Vida Bakery & Bystro                     0.052612\n",
       "American Fish                                 0.052237\n",
       "Samosa Factory                                0.051686\n",
       "dtype: float64"
      ]
     },
     "execution_count": 47,
     "metadata": {},
     "output_type": "execute_result"
    }
   ],
   "source": [
    "userid = list(M.columns).index(user)\n",
    "rest_recs = X_red[userid].dot(svd.components_)\n",
    "rest_recs = pd.Series(rest_recs, index=M.index).sort(ascending = False, inplace=False)\n",
    "rest_recs[:10]"
   ]
  }
 ],
 "metadata": {
  "kernelspec": {
   "display_name": "Python 2",
   "language": "python",
   "name": "python2"
  },
  "language_info": {
   "codemirror_mode": {
    "name": "ipython",
    "version": 2
   },
   "file_extension": ".py",
   "mimetype": "text/x-python",
   "name": "python",
   "nbconvert_exporter": "python",
   "pygments_lexer": "ipython2",
   "version": "2.7.10"
  }
 },
 "nbformat": 4,
 "nbformat_minor": 0
}
